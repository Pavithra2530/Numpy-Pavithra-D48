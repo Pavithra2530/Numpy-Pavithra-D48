{
  "nbformat": 4,
  "nbformat_minor": 0,
  "metadata": {
    "colab": {
      "provenance": [],
      "authorship_tag": "ABX9TyPjFylGZ4PPujbqMfu47XpM",
      "include_colab_link": true
    },
    "kernelspec": {
      "name": "python3",
      "display_name": "Python 3"
    },
    "language_info": {
      "name": "python"
    }
  },
  "cells": [
    {
      "cell_type": "markdown",
      "metadata": {
        "id": "view-in-github",
        "colab_type": "text"
      },
      "source": [
        "<a href=\"https://colab.research.google.com/github/Pavithra2530/Numpy-Pavithra-D48/blob/main/Numpy_Pavithra.ipynb\" target=\"_parent\"><img src=\"https://colab.research.google.com/assets/colab-badge.svg\" alt=\"Open In Colab\"/></a>"
      ]
    },
    {
      "cell_type": "code",
      "execution_count": null,
      "metadata": {
        "colab": {
          "base_uri": "https://localhost:8080/"
        },
        "id": "f4gmw-YPBLAM",
        "outputId": "0d6cb6ec-9d2e-4028-c0c9-dbec8eac8da0"
      },
      "outputs": [
        {
          "output_type": "stream",
          "name": "stdout",
          "text": [
            "Hello\n"
          ]
        }
      ],
      "source": [
        "print (\"Hello\")"
      ]
    },
    {
      "cell_type": "code",
      "source": [
        "import numpy as np              #1\n"
      ],
      "metadata": {
        "id": "NimnJ7xlDaqr"
      },
      "execution_count": 46,
      "outputs": []
    },
    {
      "cell_type": "code",
      "source": [
        "np.__version__, np.show_config             #2 "
      ],
      "metadata": {
        "colab": {
          "base_uri": "https://localhost:8080/"
        },
        "id": "AkB6k42mDezS",
        "outputId": "0d148f3f-dc1d-44b6-be6c-497c91c4c66a"
      },
      "execution_count": null,
      "outputs": [
        {
          "output_type": "execute_result",
          "data": {
            "text/plain": [
              "('1.21.6', <function numpy.__config__.show()>)"
            ]
          },
          "metadata": {},
          "execution_count": 3
        }
      ]
    },
    {
      "cell_type": "code",
      "source": [
        "def null_array(n):                  #3\n",
        "    x=np.zeros(n)\n",
        "    return x\n",
        "print(null_array(10))"
      ],
      "metadata": {
        "id": "qAk1wrRXD6ND",
        "colab": {
          "base_uri": "https://localhost:8080/"
        },
        "outputId": "9843ceb1-b5a1-42ca-b616-8d4fa75c5e9b"
      },
      "execution_count": 47,
      "outputs": [
        {
          "output_type": "stream",
          "name": "stdout",
          "text": [
            "[0. 0. 0. 0. 0. 0. 0. 0. 0. 0.]\n"
          ]
        }
      ]
    },
    {
      "cell_type": "code",
      "source": [
        "x = np.array([200,50,61])                  #4\n",
        " \n",
        "print(\"Size of the array: \",\n",
        "      x.size)\n",
        " \n",
        "print(\"Memory size of one array element in bytes: \",\n",
        "      x.itemsize)"
      ],
      "metadata": {
        "colab": {
          "base_uri": "https://localhost:8080/"
        },
        "id": "dJiNlFWHEliT",
        "outputId": "bf8a5211-d452-42db-9475-19278e183489"
      },
      "execution_count": null,
      "outputs": [
        {
          "output_type": "stream",
          "name": "stdout",
          "text": [
            "Size of the array:  3\n",
            "Memory size of one array element in bytes:  8\n"
          ]
        }
      ]
    },
    {
      "cell_type": "code",
      "source": [
        "np.info(np.add)              #5"
      ],
      "metadata": {
        "colab": {
          "base_uri": "https://localhost:8080/"
        },
        "id": "9HzJBM8PFnWd",
        "outputId": "5788b38a-3a38-4c5b-f467-646bcc7e8904"
      },
      "execution_count": null,
      "outputs": [
        {
          "output_type": "stream",
          "name": "stdout",
          "text": [
            "add(x1, x2, /, out=None, *, where=True, casting='same_kind', order='K', dtype=None, subok=True[, signature, extobj])\n",
            "\n",
            "Add arguments element-wise.\n",
            "\n",
            "Parameters\n",
            "----------\n",
            "x1, x2 : array_like\n",
            "    The arrays to be added.\n",
            "    If ``x1.shape != x2.shape``, they must be broadcastable to a common\n",
            "    shape (which becomes the shape of the output).\n",
            "out : ndarray, None, or tuple of ndarray and None, optional\n",
            "    A location into which the result is stored. If provided, it must have\n",
            "    a shape that the inputs broadcast to. If not provided or None,\n",
            "    a freshly-allocated array is returned. A tuple (possible only as a\n",
            "    keyword argument) must have length equal to the number of outputs.\n",
            "where : array_like, optional\n",
            "    This condition is broadcast over the input. At locations where the\n",
            "    condition is True, the `out` array will be set to the ufunc result.\n",
            "    Elsewhere, the `out` array will retain its original value.\n",
            "    Note that if an uninitialized `out` array is created via the default\n",
            "    ``out=None``, locations within it where the condition is False will\n",
            "    remain uninitialized.\n",
            "**kwargs\n",
            "    For other keyword-only arguments, see the\n",
            "    :ref:`ufunc docs <ufuncs.kwargs>`.\n",
            "\n",
            "Returns\n",
            "-------\n",
            "add : ndarray or scalar\n",
            "    The sum of `x1` and `x2`, element-wise.\n",
            "    This is a scalar if both `x1` and `x2` are scalars.\n",
            "\n",
            "Notes\n",
            "-----\n",
            "Equivalent to `x1` + `x2` in terms of array broadcasting.\n",
            "\n",
            "Examples\n",
            "--------\n",
            ">>> np.add(1.0, 4.0)\n",
            "5.0\n",
            ">>> x1 = np.arange(9.0).reshape((3, 3))\n",
            ">>> x2 = np.arange(3.0)\n",
            ">>> np.add(x1, x2)\n",
            "array([[  0.,   2.,   4.],\n",
            "       [  3.,   5.,   7.],\n",
            "       [  6.,   8.,  10.]])\n",
            "\n",
            "The ``+`` operator can be used as a shorthand for ``np.add`` on ndarrays.\n",
            "\n",
            ">>> x1 = np.arange(9.0).reshape((3, 3))\n",
            ">>> x2 = np.arange(3.0)\n",
            ">>> x1 + x2\n",
            "array([[ 0.,  2.,  4.],\n",
            "       [ 3.,  5.,  7.],\n",
            "       [ 6.,  8., 10.]])\n"
          ]
        }
      ]
    },
    {
      "cell_type": "code",
      "source": [
        "arr = np.zeros(10)                   #6\n",
        "arr[4] = 1\n",
        "print(arr)"
      ],
      "metadata": {
        "colab": {
          "base_uri": "https://localhost:8080/"
        },
        "id": "k101pxwDFqtT",
        "outputId": "78db7f5a-6013-4399-8d84-6371241e3b05"
      },
      "execution_count": null,
      "outputs": [
        {
          "output_type": "stream",
          "name": "stdout",
          "text": [
            "[0. 0. 0. 0. 1. 0. 0. 0. 0. 0.]\n"
          ]
        }
      ]
    },
    {
      "cell_type": "code",
      "source": [
        "arr1 = np.arange(10,49)        #7\n",
        "print(arr1)"
      ],
      "metadata": {
        "colab": {
          "base_uri": "https://localhost:8080/"
        },
        "id": "xIoHijo0GCeg",
        "outputId": "29a37f5f-9b32-4f3a-dc22-9e9bf022a4ea"
      },
      "execution_count": null,
      "outputs": [
        {
          "output_type": "stream",
          "name": "stdout",
          "text": [
            "[10 11 12 13 14 15 16 17 18 19 20 21 22 23 24 25 26 27 28 29 30 31 32 33\n",
            " 34 35 36 37 38 39 40 41 42 43 44 45 46 47 48]\n"
          ]
        }
      ]
    },
    {
      "cell_type": "code",
      "source": [
        "arr2 = np.arange(1,20)          #8\n",
        "print(arr2)\n",
        "arr2[::-1]"
      ],
      "metadata": {
        "colab": {
          "base_uri": "https://localhost:8080/"
        },
        "id": "BMLrNoBYGpkM",
        "outputId": "e908b81e-ffa9-44bf-e753-a5bae763f3a5"
      },
      "execution_count": 48,
      "outputs": [
        {
          "output_type": "stream",
          "name": "stdout",
          "text": [
            "[ 1  2  3  4  5  6  7  8  9 10 11 12 13 14 15 16 17 18 19]\n"
          ]
        },
        {
          "output_type": "execute_result",
          "data": {
            "text/plain": [
              "array([19, 18, 17, 16, 15, 14, 13, 12, 11, 10,  9,  8,  7,  6,  5,  4,  3,\n",
              "        2,  1])"
            ]
          },
          "metadata": {},
          "execution_count": 48
        }
      ]
    },
    {
      "cell_type": "code",
      "source": [
        "matrix = np.arange(1,10).  reshape(3,3)                  #9\n",
        "print(matrix)"
      ],
      "metadata": {
        "colab": {
          "base_uri": "https://localhost:8080/"
        },
        "id": "458R15XIJkw9",
        "outputId": "59b92940-8b56-4431-e354-790ba7c89c1c"
      },
      "execution_count": null,
      "outputs": [
        {
          "output_type": "stream",
          "name": "stdout",
          "text": [
            "[[1 2 3]\n",
            " [4 5 6]\n",
            " [7 8 9]]\n"
          ]
        }
      ]
    },
    {
      "cell_type": "code",
      "source": [
        "arr3 = np.array ([[1, 2], [0, 0], [ 4, 0]])                  #9\n",
        "print(arr3)"
      ],
      "metadata": {
        "colab": {
          "base_uri": "https://localhost:8080/"
        },
        "id": "Camk1PSKLOmY",
        "outputId": "eba93ca2-c29a-4fde-94e3-775bc94c800a"
      },
      "execution_count": null,
      "outputs": [
        {
          "output_type": "stream",
          "name": "stdout",
          "text": [
            "[[1 2]\n",
            " [0 0]\n",
            " [4 0]]\n"
          ]
        }
      ]
    },
    {
      "cell_type": "code",
      "source": [
        "arr4 = np.nonzero(arr3)                        #10\n",
        "print(arr4)"
      ],
      "metadata": {
        "colab": {
          "base_uri": "https://localhost:8080/"
        },
        "id": "qh-O9k9VOFpE",
        "outputId": "5bb47311-29d5-4af2-d3cf-c34625feb424"
      },
      "execution_count": null,
      "outputs": [
        {
          "output_type": "stream",
          "name": "stdout",
          "text": [
            "(array([0, 0, 2]), array([0, 1, 0]))\n"
          ]
        }
      ]
    },
    {
      "cell_type": "code",
      "source": [
        "identity = np.eye(3)                #11\n",
        "print(identity)"
      ],
      "metadata": {
        "colab": {
          "base_uri": "https://localhost:8080/"
        },
        "id": "RYCaLXHAOodE",
        "outputId": "e895fd42-aa05-4841-b5b2-eab06f9102fb"
      },
      "execution_count": null,
      "outputs": [
        {
          "output_type": "stream",
          "name": "stdout",
          "text": [
            "[[1. 0. 0.]\n",
            " [0. 1. 0.]\n",
            " [0. 0. 1.]]\n"
          ]
        }
      ]
    },
    {
      "cell_type": "code",
      "source": [
        "random = np.random.random((3,3,3))                 #12\n",
        "print(random)"
      ],
      "metadata": {
        "colab": {
          "base_uri": "https://localhost:8080/"
        },
        "id": "nGd2Jj4QO0n8",
        "outputId": "3c13db04-e556-49f8-b518-09348eb49228"
      },
      "execution_count": null,
      "outputs": [
        {
          "output_type": "stream",
          "name": "stdout",
          "text": [
            "[[[0.23421489 0.89131802 0.55979261]\n",
            "  [0.51375417 0.5430868  0.06819856]\n",
            "  [0.76339565 0.43441503 0.93629891]]\n",
            "\n",
            " [[0.07712813 0.54773705 0.58263933]\n",
            "  [0.1831259  0.49956446 0.45076796]\n",
            "  [0.73684278 0.91621982 0.86461617]]\n",
            "\n",
            " [[0.5285874  0.45890173 0.46713068]\n",
            "  [0.77891096 0.83267985 0.1275895 ]\n",
            "  [0.60550134 0.34645316 0.65329802]]]\n"
          ]
        }
      ]
    },
    {
      "cell_type": "code",
      "source": [
        "random2 = np.random.random((10,10))                ##13\n",
        "print(random2) \n",
        "\n",
        "np.min(random2) , np.max(random2)"
      ],
      "metadata": {
        "colab": {
          "base_uri": "https://localhost:8080/"
        },
        "id": "NeiQxx0yPGrP",
        "outputId": "c7f37f83-37e0-46fc-c959-270410fc3fbf"
      },
      "execution_count": null,
      "outputs": [
        {
          "output_type": "stream",
          "name": "stdout",
          "text": [
            "[[0.99402777 0.77338035 0.78771365 0.60598755 0.09413824 0.19387043\n",
            "  0.4207595  0.85900311 0.28020437 0.14827708]\n",
            " [0.52336045 0.63510709 0.29527907 0.77567916 0.29868326 0.72232501\n",
            "  0.43456811 0.78152276 0.93675438 0.0261032 ]\n",
            " [0.78321504 0.40407714 0.92382039 0.89310307 0.58520033 0.65200685\n",
            "  0.60258006 0.71102011 0.64748145 0.37309136]\n",
            " [0.82105561 0.22416852 0.84213916 0.00779282 0.47028493 0.89431902\n",
            "  0.89924418 0.12237995 0.26691042 0.67333353]\n",
            " [0.60415237 0.43570188 0.15952104 0.01116117 0.1500156  0.46437917\n",
            "  0.24546154 0.20018778 0.39864626 0.80596113]\n",
            " [0.39717623 0.41845553 0.74705411 0.49541903 0.92041057 0.13920547\n",
            "  0.4895598  0.40515286 0.53176718 0.5585208 ]\n",
            " [0.54713323 0.49841374 0.47629938 0.4955129  0.34260701 0.51333784\n",
            "  0.55726191 0.80369155 0.85464476 0.49788869]\n",
            " [0.07971458 0.73231681 0.21745617 0.77167301 0.77660455 0.77602863\n",
            "  0.1939547  0.40218213 0.05094585 0.13018528]\n",
            " [0.82132757 0.70826265 0.48384604 0.75652428 0.15550477 0.18099031\n",
            "  0.23910758 0.41186722 0.38626165 0.61699878]\n",
            " [0.11121679 0.5898179  0.85572629 0.23120612 0.1184544  0.08488882\n",
            "  0.632879   0.23462078 0.67577281 0.5257693 ]]\n"
          ]
        },
        {
          "output_type": "execute_result",
          "data": {
            "text/plain": [
              "(0.007792815893989724, 0.9940277742891014)"
            ]
          },
          "metadata": {},
          "execution_count": 55
        }
      ]
    },
    {
      "cell_type": "code",
      "source": [
        "f = np.random.random((3,5,6))            #14\n",
        "np.mean(f)"
      ],
      "metadata": {
        "colab": {
          "base_uri": "https://localhost:8080/"
        },
        "id": "efX_TXn5Rdsy",
        "outputId": "cb6e3d23-c202-4fdc-92b6-76be7b2b76c6"
      },
      "execution_count": null,
      "outputs": [
        {
          "output_type": "execute_result",
          "data": {
            "text/plain": [
              "0.5060611813994209"
            ]
          },
          "metadata": {},
          "execution_count": 71
        }
      ]
    },
    {
      "cell_type": "code",
      "source": [
        "d = np.ones((5,5))           #15\n",
        "print(d)\n",
        "print(\"two D array\")\n",
        "d[1:-1, 1:-1] = 0\n",
        "print(d)"
      ],
      "metadata": {
        "colab": {
          "base_uri": "https://localhost:8080/"
        },
        "id": "9bePS2nuS2G4",
        "outputId": "c51d0b07-a5fa-49b5-f2d5-fbb9d4a32fa0"
      },
      "execution_count": null,
      "outputs": [
        {
          "output_type": "stream",
          "name": "stdout",
          "text": [
            "[[1. 1. 1. 1. 1.]\n",
            " [1. 1. 1. 1. 1.]\n",
            " [1. 1. 1. 1. 1.]\n",
            " [1. 1. 1. 1. 1.]\n",
            " [1. 1. 1. 1. 1.]]\n",
            "two D array\n",
            "[[1. 1. 1. 1. 1.]\n",
            " [1. 0. 0. 0. 1.]\n",
            " [1. 0. 0. 0. 1.]\n",
            " [1. 0. 0. 0. 1.]\n",
            " [1. 1. 1. 1. 1.]]\n"
          ]
        }
      ]
    },
    {
      "cell_type": "code",
      "source": [
        "b = np.ones((4,4))             #16\n",
        "print(b)\n",
        "print(\"border filled with 0's\")\n",
        "b = np.pad(b, pad_width=1, mode='constant', constant_values=0)\n",
        "print(b)"
      ],
      "metadata": {
        "colab": {
          "base_uri": "https://localhost:8080/"
        },
        "id": "PGyzKgckT4qv",
        "outputId": "ae89e2d7-5a4e-42be-db60-59f7e638d41f"
      },
      "execution_count": null,
      "outputs": [
        {
          "output_type": "stream",
          "name": "stdout",
          "text": [
            "[[1. 1. 1. 1.]\n",
            " [1. 1. 1. 1.]\n",
            " [1. 1. 1. 1.]\n",
            " [1. 1. 1. 1.]]\n",
            "border filled with 0's\n",
            "[[0. 0. 0. 0. 0. 0.]\n",
            " [0. 1. 1. 1. 1. 0.]\n",
            " [0. 1. 1. 1. 1. 0.]\n",
            " [0. 1. 1. 1. 1. 0.]\n",
            " [0. 1. 1. 1. 1. 0.]\n",
            " [0. 0. 0. 0. 0. 0.]]\n"
          ]
        }
      ]
    },
    {
      "cell_type": "code",
      "source": [
        "print(0 * np.nan)              #17\n",
        "print(np.nan == np.nan)\n",
        "print(np.inf > np.nan)\n",
        "print(np.nan - np.nan)\n",
        "print(0.3 == 3 * 0.1)\n"
      ],
      "metadata": {
        "colab": {
          "base_uri": "https://localhost:8080/"
        },
        "id": "HqpzwsHuUU2g",
        "outputId": "6392271e-264f-4dd7-942b-1b9043f0584e"
      },
      "execution_count": null,
      "outputs": [
        {
          "output_type": "stream",
          "name": "stdout",
          "text": [
            "nan\n",
            "False\n",
            "False\n",
            "nan\n",
            "False\n"
          ]
        }
      ]
    },
    {
      "cell_type": "code",
      "source": [
        "diagonal = np.diag([1,2,3,4,5])                 #18\n",
        "print(diagonal)"
      ],
      "metadata": {
        "colab": {
          "base_uri": "https://localhost:8080/"
        },
        "id": "x2yuvNGLYL3y",
        "outputId": "d216f979-13d2-4d2c-e23a-6fa506b6c096"
      },
      "execution_count": null,
      "outputs": [
        {
          "output_type": "stream",
          "name": "stdout",
          "text": [
            "[[1 0 0 0 0]\n",
            " [0 2 0 0 0]\n",
            " [0 0 3 0 0]\n",
            " [0 0 0 4 0]\n",
            " [0 0 0 0 5]]\n"
          ]
        }
      ]
    },
    {
      "cell_type": "code",
      "source": [
        "checker = np.ones((3,3))              #19\n",
        "print(checker)\n",
        "print(\"Checkerboard\")\n",
        "pattern = np.zeros((8,8),dtype=int)\n",
        "pattern[::2,::2] = 1\n",
        "pattern[::2,::2] = 1\n",
        "print(pattern)"
      ],
      "metadata": {
        "colab": {
          "base_uri": "https://localhost:8080/"
        },
        "id": "m4Rzm-b9Ted3",
        "outputId": "f59d68f0-ac77-4253-db15-6bd751f274b8"
      },
      "execution_count": null,
      "outputs": [
        {
          "output_type": "stream",
          "name": "stdout",
          "text": [
            "[[1. 1. 1.]\n",
            " [1. 1. 1.]\n",
            " [1. 1. 1.]]\n",
            "Checkerboard\n",
            "[[1 0 1 0 1 0 1 0]\n",
            " [0 0 0 0 0 0 0 0]\n",
            " [1 0 1 0 1 0 1 0]\n",
            " [0 0 0 0 0 0 0 0]\n",
            " [1 0 1 0 1 0 1 0]\n",
            " [0 0 0 0 0 0 0 0]\n",
            " [1 0 1 0 1 0 1 0]\n",
            " [0 0 0 0 0 0 0 0]]\n"
          ]
        }
      ]
    },
    {
      "cell_type": "code",
      "source": [
        "print(np.unravel_index(99,(6,7,8)))           #20"
      ],
      "metadata": {
        "colab": {
          "base_uri": "https://localhost:8080/"
        },
        "id": "TgoJzu7hZURE",
        "outputId": "df48e43d-669e-48d8-a8ee-1a4a4292dd94"
      },
      "execution_count": null,
      "outputs": [
        {
          "output_type": "stream",
          "name": "stdout",
          "text": [
            "(1, 5, 3)\n"
          ]
        }
      ]
    },
    {
      "cell_type": "code",
      "source": [
        "tile = np.tile(np.array([[0,1],[1,0]]),(4,4))        #21\n",
        "print(tile)"
      ],
      "metadata": {
        "colab": {
          "base_uri": "https://localhost:8080/"
        },
        "id": "O8fx2NG5aT_o",
        "outputId": "102009bd-b313-4387-b75a-726e04d91a78"
      },
      "execution_count": null,
      "outputs": [
        {
          "output_type": "stream",
          "name": "stdout",
          "text": [
            "[[0 1 0 1 0 1 0 1]\n",
            " [1 0 1 0 1 0 1 0]\n",
            " [0 1 0 1 0 1 0 1]\n",
            " [1 0 1 0 1 0 1 0]\n",
            " [0 1 0 1 0 1 0 1]\n",
            " [1 0 1 0 1 0 1 0]\n",
            " [0 1 0 1 0 1 0 1]\n",
            " [1 0 1 0 1 0 1 0]]\n"
          ]
        }
      ]
    },
    {
      "cell_type": "code",
      "source": [
        "random= np.random.random((5,5))             #22\n",
        "print(x)\n",
        "xmax, xmin = x.max(), x.min()\n",
        "x = (x - xmin)/(xmax - xmin)\n",
        "print(\"After normalization:\")\n",
        "print(x)"
      ],
      "metadata": {
        "colab": {
          "base_uri": "https://localhost:8080/"
        },
        "id": "jvnEJmrZaqc7",
        "outputId": "e273d74d-0e32-4f01-9f16-7b6534dfef0f"
      },
      "execution_count": null,
      "outputs": [
        {
          "output_type": "stream",
          "name": "stdout",
          "text": [
            "[[0 1 0 1 0 1 0 1]\n",
            " [1 0 1 0 1 0 1 0]\n",
            " [0 1 0 1 0 1 0 1]\n",
            " [1 0 1 0 1 0 1 0]\n",
            " [0 1 0 1 0 1 0 1]\n",
            " [1 0 1 0 1 0 1 0]\n",
            " [0 1 0 1 0 1 0 1]\n",
            " [1 0 1 0 1 0 1 0]]\n",
            "After normalization:\n",
            "[[0. 1. 0. 1. 0. 1. 0. 1.]\n",
            " [1. 0. 1. 0. 1. 0. 1. 0.]\n",
            " [0. 1. 0. 1. 0. 1. 0. 1.]\n",
            " [1. 0. 1. 0. 1. 0. 1. 0.]\n",
            " [0. 1. 0. 1. 0. 1. 0. 1.]\n",
            " [1. 0. 1. 0. 1. 0. 1. 0.]\n",
            " [0. 1. 0. 1. 0. 1. 0. 1.]\n",
            " [1. 0. 1. 0. 1. 0. 1. 0.]]\n"
          ]
        }
      ]
    },
    {
      "cell_type": "code",
      "source": [
        "color = np.dtype([(\"r\", np.ubyte),          #23\n",
        "                  (\"g\", np.ubyte),\n",
        "                  (\"b\", np.ubyte),\n",
        "                  (\"a\", np.ubyte)])\n",
        "print(color)"
      ],
      "metadata": {
        "colab": {
          "base_uri": "https://localhost:8080/"
        },
        "id": "uA_IIaM-rXbd",
        "outputId": "63d53061-2bba-4eb8-dcca-8daf5683f0dd"
      },
      "execution_count": null,
      "outputs": [
        {
          "output_type": "stream",
          "name": "stdout",
          "text": [
            "[('r', 'u1'), ('g', 'u1'), ('b', 'u1'), ('a', 'u1')]\n"
          ]
        }
      ]
    },
    {
      "cell_type": "code",
      "source": [
        "z=np.dot(np.random.rand(5,3),np.random.rand(3,2))           #24\n",
        "print(z)"
      ],
      "metadata": {
        "colab": {
          "base_uri": "https://localhost:8080/"
        },
        "id": "IUb_Uv7ar48n",
        "outputId": "99d2b0d2-6c23-4b85-93eb-548dda33bc2b"
      },
      "execution_count": null,
      "outputs": [
        {
          "output_type": "stream",
          "name": "stdout",
          "text": [
            "[[1.28608158 1.20974975]\n",
            " [1.80094488 1.67407146]\n",
            " [1.28320764 1.27740722]\n",
            " [0.71642251 0.83500497]\n",
            " [1.89160319 1.83979077]]\n"
          ]
        }
      ]
    },
    {
      "cell_type": "code",
      "source": [
        "Z = np.arange(11)            #25\n",
        "Z[(3 < Z) & (Z <= 8)] *= -1\n",
        "print(Z)"
      ],
      "metadata": {
        "colab": {
          "base_uri": "https://localhost:8080/"
        },
        "id": "4uePmGYlvaJh",
        "outputId": "ae1c2492-aabe-4f45-aad0-8b9ad6d399f2"
      },
      "execution_count": null,
      "outputs": [
        {
          "output_type": "stream",
          "name": "stdout",
          "text": [
            "[ 0  1  2  3 -4 -5 -6 -7 -8  9 10]\n"
          ]
        }
      ]
    },
    {
      "cell_type": "code",
      "source": [
        "  print(sum(range(5),-1))           #26\n",
        "from numpy import *\n",
        "print(sum(range(5),-1))"
      ],
      "metadata": {
        "colab": {
          "base_uri": "https://localhost:8080/"
        },
        "id": "G-uDScKZvjw5",
        "outputId": "d394cbc4-deb6-40f0-fb07-fc9d03345953"
      },
      "execution_count": null,
      "outputs": [
        {
          "output_type": "stream",
          "name": "stdout",
          "text": [
            "10\n",
            "10\n"
          ]
        }
      ]
    },
    {
      "cell_type": "code",
      "source": [
        "Z = np.arange(20)               #27\n",
        "print(Z**Z)\n",
        "print(2 << Z >> 2)\n",
        "print(Z <- Z)\n",
        "print(1j*Z)\n",
        "print(Z/1/1)\n",
        "print(Z<Z>Z)\n"
      ],
      "metadata": {
        "colab": {
          "base_uri": "https://localhost:8080/",
          "height": 477
        },
        "id": "dQj-Kt6-0dCj",
        "outputId": "392edc43-207a-4f42-db8d-05a7700dbba5"
      },
      "execution_count": null,
      "outputs": [
        {
          "output_type": "stream",
          "name": "stdout",
          "text": [
            "[                   1                    1                    4\n",
            "                   27                  256                 3125\n",
            "                46656               823543             16777216\n",
            "            387420489          10000000000         285311670611\n",
            "        8916100448256      302875106592253    11112006825558016\n",
            "   437893890380859375                    0 -2863221430593058543\n",
            "  -497033925936021504  6353754964178307979]\n",
            "[     0      1      2      4      8     16     32     64    128    256\n",
            "    512   1024   2048   4096   8192  16384  32768  65536 131072 262144]\n",
            "[False False False False False False False False False False False False\n",
            " False False False False False False False False]\n",
            "[0. +0.j 0. +1.j 0. +2.j 0. +3.j 0. +4.j 0. +5.j 0. +6.j 0. +7.j 0. +8.j\n",
            " 0. +9.j 0.+10.j 0.+11.j 0.+12.j 0.+13.j 0.+14.j 0.+15.j 0.+16.j 0.+17.j\n",
            " 0.+18.j 0.+19.j]\n",
            "[ 0.  1.  2.  3.  4.  5.  6.  7.  8.  9. 10. 11. 12. 13. 14. 15. 16. 17.\n",
            " 18. 19.]\n"
          ]
        },
        {
          "output_type": "error",
          "ename": "ValueError",
          "evalue": "ignored",
          "traceback": [
            "\u001b[0;31m---------------------------------------------------------------------------\u001b[0m",
            "\u001b[0;31mValueError\u001b[0m                                Traceback (most recent call last)",
            "\u001b[0;32m<ipython-input-119-fcff1bbaf2a3>\u001b[0m in \u001b[0;36m<module>\u001b[0;34m\u001b[0m\n\u001b[1;32m      5\u001b[0m \u001b[0mprint\u001b[0m\u001b[0;34m(\u001b[0m\u001b[0;36m1j\u001b[0m\u001b[0;34m*\u001b[0m\u001b[0mZ\u001b[0m\u001b[0;34m)\u001b[0m\u001b[0;34m\u001b[0m\u001b[0;34m\u001b[0m\u001b[0m\n\u001b[1;32m      6\u001b[0m \u001b[0mprint\u001b[0m\u001b[0;34m(\u001b[0m\u001b[0mZ\u001b[0m\u001b[0;34m/\u001b[0m\u001b[0;36m1\u001b[0m\u001b[0;34m/\u001b[0m\u001b[0;36m1\u001b[0m\u001b[0;34m)\u001b[0m\u001b[0;34m\u001b[0m\u001b[0;34m\u001b[0m\u001b[0m\n\u001b[0;32m----> 7\u001b[0;31m \u001b[0mprint\u001b[0m\u001b[0;34m(\u001b[0m\u001b[0mZ\u001b[0m\u001b[0;34m<\u001b[0m\u001b[0mZ\u001b[0m\u001b[0;34m>\u001b[0m\u001b[0mZ\u001b[0m\u001b[0;34m)\u001b[0m\u001b[0;34m\u001b[0m\u001b[0;34m\u001b[0m\u001b[0m\n\u001b[0m",
            "\u001b[0;31mValueError\u001b[0m: The truth value of an array with more than one element is ambiguous. Use a.any() or a.all()"
          ]
        }
      ]
    },
    {
      "cell_type": "code",
      "source": [
        "print(np.array(0) / np.array(0))                 #28\n",
        "print(np.array(0) // np.array(0))\n",
        "print(np.array([np.nan]).astype(int).astype(float))"
      ],
      "metadata": {
        "colab": {
          "base_uri": "https://localhost:8080/"
        },
        "id": "Vp56vc9c1aCq",
        "outputId": "f81624bf-c6a5-40ff-bc0f-b8c499c35a41"
      },
      "execution_count": null,
      "outputs": [
        {
          "output_type": "stream",
          "name": "stdout",
          "text": [
            "nan\n",
            "0\n",
            "[-9.22337204e+18]\n"
          ]
        },
        {
          "output_type": "stream",
          "name": "stderr",
          "text": [
            "<ipython-input-120-2a10de0ee61b>:1: RuntimeWarning: invalid value encountered in true_divide\n",
            "  print(np.array(0) / np.array(0))\n",
            "<ipython-input-120-2a10de0ee61b>:2: RuntimeWarning: divide by zero encountered in floor_divide\n",
            "  print(np.array(0) // np.array(0))\n"
          ]
        }
      ]
    },
    {
      "cell_type": "code",
      "source": [
        "f = np.array([-5.5,3.4,1.6,-5.2,-4.3])                #29\n",
        "print(f)\n",
        "ff=np.copysign(np.ceil(np.abs(f)),f)\n",
        "print(ff)\n",
        "f1=np.abs(f)\n",
        "print(f1)\n",
        "f2=np.floor(f1)\n",
        "print(f2)\n",
        "f3=np.copysign(f2,f)\n",
        "print(f3)"
      ],
      "metadata": {
        "colab": {
          "base_uri": "https://localhost:8080/"
        },
        "id": "I0p07CEl18B-",
        "outputId": "b30ecf45-978c-4f2d-d99f-2655c38cbbe8"
      },
      "execution_count": null,
      "outputs": [
        {
          "output_type": "stream",
          "name": "stdout",
          "text": [
            "[-5.5  3.4  1.6 -5.2 -4.3]\n",
            "[-6.  4.  2. -6. -5.]\n",
            "[5.5 3.4 1.6 5.2 4.3]\n",
            "[5. 3. 1. 5. 4.]\n",
            "[-5.  3.  1. -5. -4.]\n"
          ]
        }
      ]
    },
    {
      "cell_type": "code",
      "source": [
        "Z1 = np.random.randint(0,10,10)            #30\n",
        "print(Z1)\n",
        "Z2 = np.random.randint(0,10,10)\n",
        "print(Z2)\n",
        "print(np.intersect1d(Z1,Z2))"
      ],
      "metadata": {
        "colab": {
          "base_uri": "https://localhost:8080/"
        },
        "id": "lysu5YP92z0G",
        "outputId": "0ba499fe-4530-4474-e138-fb7472de77b5"
      },
      "execution_count": null,
      "outputs": [
        {
          "output_type": "stream",
          "name": "stdout",
          "text": [
            "[5 3 6 3 9 8 4 5 4 4]\n",
            "[0 5 7 6 4 3 2 2 8 9]\n",
            "[3 4 5 6 8 9]\n"
          ]
        }
      ]
    },
    {
      "cell_type": "code",
      "source": [
        "import numpy as np"
      ],
      "metadata": {
        "id": "pSIfaOzfmXRr"
      },
      "execution_count": null,
      "outputs": []
    },
    {
      "cell_type": "code",
      "source": [
        "data = np.random.random(1000).reshape(10, 10,10) * np.nan             #31\n",
        "np.seterr(all=\"ignore\")\n",
        "np.nanmedian(data, axis=[1, 2])"
      ],
      "metadata": {
        "id": "JxZ0M5ec4PPy",
        "colab": {
          "base_uri": "https://localhost:8080/"
        },
        "outputId": "bba6a858-546f-4de8-b4a5-3685b528f4ac"
      },
      "execution_count": null,
      "outputs": [
        {
          "output_type": "stream",
          "name": "stderr",
          "text": [
            "/usr/local/lib/python3.8/dist-packages/numpy/lib/nanfunctions.py:1119: RuntimeWarning: All-NaN slice encountered\n",
            "  r, k = function_base._ureduce(a, func=_nanmedian, axis=axis, out=out,\n"
          ]
        },
        {
          "output_type": "execute_result",
          "data": {
            "text/plain": [
              "array([nan, nan, nan, nan, nan, nan, nan, nan, nan, nan])"
            ]
          },
          "metadata": {},
          "execution_count": 9
        }
      ]
    },
    {
      "cell_type": "code",
      "source": [
        "np.sqrt(-1) == np.emath.sqrt(-1)         #32"
      ],
      "metadata": {
        "colab": {
          "base_uri": "https://localhost:8080/"
        },
        "id": "8XNKYOUanSNl",
        "outputId": "8f0b0532-6a0d-4f6d-be8b-abfe3a1d9cc5"
      },
      "execution_count": null,
      "outputs": [
        {
          "output_type": "execute_result",
          "data": {
            "text/plain": [
              "False"
            ]
          },
          "metadata": {},
          "execution_count": 10
        }
      ]
    },
    {
      "cell_type": "code",
      "source": [
        "today = np.datetime64('today', 'D')                   #33\n",
        "print(\"Today: \", today)\n",
        "tomorrow = np.datetime64('today', 'D') + np.timedelta64(1, 'D')\n",
        "print(tomorrow)\n",
        "yesterday = np.datetime64('today', 'D') - np.timedelta64(1, 'D')\n",
        "print(yesterday)"
      ],
      "metadata": {
        "colab": {
          "base_uri": "https://localhost:8080/"
        },
        "id": "jRI5xLKzlEME",
        "outputId": "174ec0b2-78d1-478c-9a85-d60e25e23a85"
      },
      "execution_count": null,
      "outputs": [
        {
          "output_type": "stream",
          "name": "stdout",
          "text": [
            "Today:  2022-12-28\n",
            "2022-12-29\n",
            "2022-12-27\n"
          ]
        }
      ]
    },
    {
      "cell_type": "code",
      "source": [
        "print(\"July, 2016\")                                                    #34\n",
        "print(np.arange('2016-07', '2016-08', dtype='datetime64[D]'))"
      ],
      "metadata": {
        "colab": {
          "base_uri": "https://localhost:8080/"
        },
        "id": "V2bDzyaxofeb",
        "outputId": "012643aa-0251-422b-e09e-32919407b8c7"
      },
      "execution_count": null,
      "outputs": [
        {
          "output_type": "stream",
          "name": "stdout",
          "text": [
            "July, 2016\n",
            "['2016-07-01' '2016-07-02' '2016-07-03' '2016-07-04' '2016-07-05'\n",
            " '2016-07-06' '2016-07-07' '2016-07-08' '2016-07-09' '2016-07-10'\n",
            " '2016-07-11' '2016-07-12' '2016-07-13' '2016-07-14' '2016-07-15'\n",
            " '2016-07-16' '2016-07-17' '2016-07-18' '2016-07-19' '2016-07-20'\n",
            " '2016-07-21' '2016-07-22' '2016-07-23' '2016-07-24' '2016-07-25'\n",
            " '2016-07-26' '2016-07-27' '2016-07-28' '2016-07-29' '2016-07-30'\n",
            " '2016-07-31']\n"
          ]
        }
      ]
    },
    {
      "cell_type": "code",
      "source": [
        "A = np.ones(3)*1                           #35\n",
        "B = np.ones(3)*2\n",
        "C = np.ones(3)*3\n",
        "np.add(A,B,out=B)\n",
        "np.negative(A,out=A)\n",
        "np.divide(A,2,out=A)\n",
        "np.dot(A,B)"
      ],
      "metadata": {
        "colab": {
          "base_uri": "https://localhost:8080/"
        },
        "id": "Ojyq-4QdoxfL",
        "outputId": "acf58822-3edd-49af-b2eb-ebfa4d127961"
      },
      "execution_count": null,
      "outputs": [
        {
          "output_type": "execute_result",
          "data": {
            "text/plain": [
              "-4.5"
            ]
          },
          "metadata": {},
          "execution_count": 18
        }
      ]
    },
    {
      "cell_type": "code",
      "source": [
        "Z = np.random.uniform(0,10,10)            #36\n",
        "\n",
        "print (Z - Z%1)\n",
        "print (np.floor(Z))\n",
        "print (np.ceil(Z)-1)\n",
        "print (Z.astype(int))"
      ],
      "metadata": {
        "colab": {
          "base_uri": "https://localhost:8080/"
        },
        "id": "u2f1pUD1qUMe",
        "outputId": "5f4e5b80-380e-4df2-8b0f-7951821676d0"
      },
      "execution_count": null,
      "outputs": [
        {
          "output_type": "stream",
          "name": "stdout",
          "text": [
            "[8. 0. 2. 1. 7. 3. 9. 1. 7. 2.]\n",
            "[8. 0. 2. 1. 7. 3. 9. 1. 7. 2.]\n",
            "[8. 0. 2. 1. 7. 3. 9. 1. 7. 2.]\n",
            "[8 0 2 1 7 3 9 1 7 2]\n"
          ]
        }
      ]
    },
    {
      "cell_type": "code",
      "source": [
        "matrix = np.zeros((5,5))            #37\n",
        "matrix += np.arange(5)\n",
        "print(matrix)"
      ],
      "metadata": {
        "colab": {
          "base_uri": "https://localhost:8080/"
        },
        "id": "S9hDcobMqhN0",
        "outputId": "7d7c074f-adc0-46b3-e3ae-08a935230407"
      },
      "execution_count": null,
      "outputs": [
        {
          "output_type": "stream",
          "name": "stdout",
          "text": [
            "[[0. 1. 2. 3. 4.]\n",
            " [0. 1. 2. 3. 4.]\n",
            " [0. 1. 2. 3. 4.]\n",
            " [0. 1. 2. 3. 4.]\n",
            " [0. 1. 2. 3. 4.]]\n"
          ]
        }
      ]
    },
    {
      "cell_type": "code",
      "source": [
        "def generate():                             #38\n",
        "    for x in range(10):\n",
        "        yield x\n",
        "Z = np.fromiter(generate(),dtype=float,count=-1)\n",
        "print(Z)"
      ],
      "metadata": {
        "colab": {
          "base_uri": "https://localhost:8080/"
        },
        "id": "wXp045bhqs1o",
        "outputId": "c248a2c3-5067-4b84-ad4c-ff8e24507e79"
      },
      "execution_count": null,
      "outputs": [
        {
          "output_type": "stream",
          "name": "stdout",
          "text": [
            "[0. 1. 2. 3. 4. 5. 6. 7. 8. 9.]\n"
          ]
        }
      ]
    },
    {
      "cell_type": "code",
      "source": [
        "v = np.linspace(0,1,11,endpoint=False)[1:]                    #39\n",
        "print(v)"
      ],
      "metadata": {
        "colab": {
          "base_uri": "https://localhost:8080/"
        },
        "id": "0hLWLZ7Qqy5I",
        "outputId": "8c8f2577-35d6-40c6-d891-383a3e7ccf0b"
      },
      "execution_count": null,
      "outputs": [
        {
          "output_type": "stream",
          "name": "stdout",
          "text": [
            "[0.09090909 0.18181818 0.27272727 0.36363636 0.45454545 0.54545455\n",
            " 0.63636364 0.72727273 0.81818182 0.90909091]\n"
          ]
        }
      ]
    },
    {
      "cell_type": "code",
      "source": [
        "random  = np.random.random(10)                   #40\n",
        "random.sort()\n",
        "print(random)"
      ],
      "metadata": {
        "colab": {
          "base_uri": "https://localhost:8080/"
        },
        "id": "pBsZxC0hq5JS",
        "outputId": "9a2292a7-bc1a-42fb-efc5-6687e1d832a8"
      },
      "execution_count": null,
      "outputs": [
        {
          "output_type": "stream",
          "name": "stdout",
          "text": [
            "[0.13592394 0.32290557 0.37715232 0.39250931 0.56714029 0.65391481\n",
            " 0.68972656 0.80626811 0.81454935 0.81642206]\n"
          ]
        }
      ]
    },
    {
      "cell_type": "code",
      "source": [
        "r = np.arange(25)                  #41\n",
        "np.add.reduce(r)"
      ],
      "metadata": {
        "colab": {
          "base_uri": "https://localhost:8080/"
        },
        "id": "lqzZNm1kx3Oj",
        "outputId": "752d44a3-04c8-451e-cc91-8790b788431a"
      },
      "execution_count": null,
      "outputs": [
        {
          "output_type": "execute_result",
          "data": {
            "text/plain": [
              "300"
            ]
          },
          "metadata": {},
          "execution_count": 31
        }
      ]
    },
    {
      "cell_type": "code",
      "source": [
        "b = np.random.randint(0,3,5)              #42\n",
        "n = np.random.randint(0,3,5)\n",
        "print(b)\n",
        "print('*'*60)\n",
        "print(n)\n",
        "print('*'*60)\n",
        "equal = np.allclose(b,n)\n",
        "print(equal)\n",
        "equal = np.array_equal(b,n)\n",
        "print(equal)"
      ],
      "metadata": {
        "colab": {
          "base_uri": "https://localhost:8080/"
        },
        "id": "wChC97Nxylx3",
        "outputId": "bb1e9f1f-09e9-4136-d138-42f925564199"
      },
      "execution_count": null,
      "outputs": [
        {
          "output_type": "stream",
          "name": "stdout",
          "text": [
            "[0 0 0 0 1]\n",
            "************************************************************\n",
            "[1 1 1 2 1]\n",
            "************************************************************\n",
            "False\n",
            "False\n"
          ]
        }
      ]
    },
    {
      "cell_type": "code",
      "source": [
        "m = np.zeros(25)                             #43\n",
        "m.flags.writeable = False\n",
        "m[0] = 1"
      ],
      "metadata": {
        "colab": {
          "base_uri": "https://localhost:8080/",
          "height": 200
        },
        "id": "HDa65_KKzdfE",
        "outputId": "8ca07563-fd43-49ce-9082-7219af8dd3b5"
      },
      "execution_count": null,
      "outputs": [
        {
          "output_type": "error",
          "ename": "ValueError",
          "evalue": "ignored",
          "traceback": [
            "\u001b[0;31m---------------------------------------------------------------------------\u001b[0m",
            "\u001b[0;31mValueError\u001b[0m                                Traceback (most recent call last)",
            "\u001b[0;32m<ipython-input-38-611b39777c66>\u001b[0m in \u001b[0;36m<module>\u001b[0;34m\u001b[0m\n\u001b[1;32m      1\u001b[0m \u001b[0mm\u001b[0m \u001b[0;34m=\u001b[0m \u001b[0mnp\u001b[0m\u001b[0;34m.\u001b[0m\u001b[0mzeros\u001b[0m\u001b[0;34m(\u001b[0m\u001b[0;36m25\u001b[0m\u001b[0;34m)\u001b[0m\u001b[0;34m\u001b[0m\u001b[0;34m\u001b[0m\u001b[0m\n\u001b[1;32m      2\u001b[0m \u001b[0mm\u001b[0m\u001b[0;34m.\u001b[0m\u001b[0mflags\u001b[0m\u001b[0;34m.\u001b[0m\u001b[0mwriteable\u001b[0m \u001b[0;34m=\u001b[0m \u001b[0;32mFalse\u001b[0m\u001b[0;34m\u001b[0m\u001b[0;34m\u001b[0m\u001b[0m\n\u001b[0;32m----> 3\u001b[0;31m \u001b[0mm\u001b[0m\u001b[0;34m[\u001b[0m\u001b[0;36m0\u001b[0m\u001b[0;34m]\u001b[0m \u001b[0;34m=\u001b[0m \u001b[0;36m1\u001b[0m\u001b[0;34m\u001b[0m\u001b[0;34m\u001b[0m\u001b[0m\n\u001b[0m",
            "\u001b[0;31mValueError\u001b[0m: assignment destination is read-only"
          ]
        }
      ]
    },
    {
      "cell_type": "code",
      "source": [
        "z= np.random.randint(0,5,(7,5))           #44\n",
        "x,y = z[:,0], z[:,1]\n",
        "r = np.sqrt(x**2+y**2)\n",
        "print(r)\n",
        "t = np.arctan2(y,x)\n",
        "print(t)\n",
        "polar = np.c_[r,t]\n",
        "print(\"Polar :\")\n",
        "print(polar)"
      ],
      "metadata": {
        "colab": {
          "base_uri": "https://localhost:8080/"
        },
        "id": "9Kfp7fO_zqB7",
        "outputId": "52275725-696d-44e2-c286-2063581b9adb"
      },
      "execution_count": null,
      "outputs": [
        {
          "output_type": "stream",
          "name": "stdout",
          "text": [
            "[4.24264069 4.12310563 1.         3.60555128 3.60555128 2.\n",
            " 3.16227766]\n",
            "[0.78539816 0.24497866 0.         0.5880026  0.98279372 0.\n",
            " 0.32175055]\n",
            "Polar :\n",
            "[[4.24264069 0.78539816]\n",
            " [4.12310563 0.24497866]\n",
            " [1.         0.        ]\n",
            " [3.60555128 0.5880026 ]\n",
            " [3.60555128 0.98279372]\n",
            " [2.         0.        ]\n",
            " [3.16227766 0.32175055]]\n"
          ]
        }
      ]
    },
    {
      "cell_type": "code",
      "source": [
        "ve = np.random.random(10)         #45\n",
        "print(ve)\n",
        "ve[ve.argmax()] = 0\n",
        "print(ve)"
      ],
      "metadata": {
        "colab": {
          "base_uri": "https://localhost:8080/"
        },
        "id": "mEOJY87k0VIr",
        "outputId": "91042bfd-1e6f-4fdf-ba66-c4ac227b289b"
      },
      "execution_count": null,
      "outputs": [
        {
          "output_type": "stream",
          "name": "stdout",
          "text": [
            "[0.78747191 0.38170777 0.46247653 0.13511172 0.44122064 0.60588921\n",
            " 0.73520136 0.42008285 0.73948592 0.94895162]\n",
            "[0.78747191 0.38170777 0.46247653 0.13511172 0.44122064 0.60588921\n",
            " 0.73520136 0.42008285 0.73948592 0.        ]\n"
          ]
        }
      ]
    },
    {
      "cell_type": "code",
      "source": [
        "Z = np.zeros((5,5), [('x',float),('y',float)])               #46\n",
        "Z['x'], Z['y'] = np.meshgrid(np.linspace(0,1,5),\n",
        "                             np.linspace(0,1,5))\n",
        "print(Z)"
      ],
      "metadata": {
        "colab": {
          "base_uri": "https://localhost:8080/"
        },
        "id": "UfR42okv0lnN",
        "outputId": "993bae70-568d-4ffb-ca16-cc61e9ef9e97"
      },
      "execution_count": null,
      "outputs": [
        {
          "output_type": "stream",
          "name": "stdout",
          "text": [
            "[[(0.  , 0.  ) (0.25, 0.  ) (0.5 , 0.  ) (0.75, 0.  ) (1.  , 0.  )]\n",
            " [(0.  , 0.25) (0.25, 0.25) (0.5 , 0.25) (0.75, 0.25) (1.  , 0.25)]\n",
            " [(0.  , 0.5 ) (0.25, 0.5 ) (0.5 , 0.5 ) (0.75, 0.5 ) (1.  , 0.5 )]\n",
            " [(0.  , 0.75) (0.25, 0.75) (0.5 , 0.75) (0.75, 0.75) (1.  , 0.75)]\n",
            " [(0.  , 1.  ) (0.25, 1.  ) (0.5 , 1.  ) (0.75, 1.  ) (1.  , 1.  )]]\n"
          ]
        }
      ]
    },
    {
      "cell_type": "code",
      "source": [
        "Y = np.random.randint(0,11,10)             #47\n",
        "X = np.random.randint(11,22,10)\n",
        "#print(Y.reshape(1,10))\n",
        "Y = np.subtract.outer(Y,(10,1))\n",
        "X = np.subtract.outer(X,(10,1)).T\n",
        "C = 1/(X - Y)\n"
      ],
      "metadata": {
        "colab": {
          "base_uri": "https://localhost:8080/",
          "height": 200
        },
        "id": "pp8y7udE1H7o",
        "outputId": "e54f5f62-6120-42f0-ad0f-3f02bc645902"
      },
      "execution_count": null,
      "outputs": [
        {
          "output_type": "error",
          "ename": "ValueError",
          "evalue": "ignored",
          "traceback": [
            "\u001b[0;31m---------------------------------------------------------------------------\u001b[0m",
            "\u001b[0;31mValueError\u001b[0m                                Traceback (most recent call last)",
            "\u001b[0;32m<ipython-input-8-7f1d28dcc9c7>\u001b[0m in \u001b[0;36m<module>\u001b[0;34m\u001b[0m\n\u001b[1;32m      4\u001b[0m \u001b[0mY\u001b[0m \u001b[0;34m=\u001b[0m \u001b[0mnp\u001b[0m\u001b[0;34m.\u001b[0m\u001b[0msubtract\u001b[0m\u001b[0;34m.\u001b[0m\u001b[0mouter\u001b[0m\u001b[0;34m(\u001b[0m\u001b[0mY\u001b[0m\u001b[0;34m,\u001b[0m\u001b[0;34m(\u001b[0m\u001b[0;36m10\u001b[0m\u001b[0;34m,\u001b[0m\u001b[0;36m1\u001b[0m\u001b[0;34m)\u001b[0m\u001b[0;34m)\u001b[0m\u001b[0;34m\u001b[0m\u001b[0;34m\u001b[0m\u001b[0m\n\u001b[1;32m      5\u001b[0m \u001b[0mX\u001b[0m \u001b[0;34m=\u001b[0m \u001b[0mnp\u001b[0m\u001b[0;34m.\u001b[0m\u001b[0msubtract\u001b[0m\u001b[0;34m.\u001b[0m\u001b[0mouter\u001b[0m\u001b[0;34m(\u001b[0m\u001b[0mX\u001b[0m\u001b[0;34m,\u001b[0m\u001b[0;34m(\u001b[0m\u001b[0;36m10\u001b[0m\u001b[0;34m,\u001b[0m\u001b[0;36m1\u001b[0m\u001b[0;34m)\u001b[0m\u001b[0;34m)\u001b[0m\u001b[0;34m.\u001b[0m\u001b[0mT\u001b[0m\u001b[0;34m\u001b[0m\u001b[0;34m\u001b[0m\u001b[0m\n\u001b[0;32m----> 6\u001b[0;31m \u001b[0mC\u001b[0m \u001b[0;34m=\u001b[0m \u001b[0;36m1\u001b[0m\u001b[0;34m/\u001b[0m\u001b[0;34m(\u001b[0m\u001b[0mX\u001b[0m \u001b[0;34m-\u001b[0m \u001b[0mY\u001b[0m\u001b[0;34m)\u001b[0m\u001b[0;34m\u001b[0m\u001b[0;34m\u001b[0m\u001b[0m\n\u001b[0m",
            "\u001b[0;31mValueError\u001b[0m: operands could not be broadcast together with shapes (2,10) (10,2) "
          ]
        }
      ]
    },
    {
      "cell_type": "code",
      "source": [
        "for dtype in [np.int8, np.int32, np.int64]:                   #48\n",
        "    print(np.iinfo(dtype).min)\n",
        "    print(np.iinfo(dtype).max)\n",
        "for dtype in [np.float32, np.float64]:\n",
        "    print(np.finfo(dtype).min)\n",
        "    print(np.finfo(dtype).max)\n",
        "    print(np.finfo(dtype).eps)"
      ],
      "metadata": {
        "colab": {
          "base_uri": "https://localhost:8080/"
        },
        "id": "hEbmwe-MXNjD",
        "outputId": "f8ac0fe8-c03f-4ff8-96f6-6e71e7fb30ec"
      },
      "execution_count": null,
      "outputs": [
        {
          "output_type": "stream",
          "name": "stdout",
          "text": [
            "-128\n",
            "127\n",
            "-2147483648\n",
            "2147483647\n",
            "-9223372036854775808\n",
            "9223372036854775807\n",
            "-3.4028235e+38\n",
            "3.4028235e+38\n",
            "1.1920929e-07\n",
            "-1.7976931348623157e+308\n",
            "1.7976931348623157e+308\n",
            "2.220446049250313e-16\n"
          ]
        }
      ]
    },
    {
      "cell_type": "code",
      "source": [
        "import sys                          #49\n",
        "Z = np.arange(100)\n",
        "np.set_printoptions(threshold=sys.maxsize)\n",
        "print(Z)"
      ],
      "metadata": {
        "colab": {
          "base_uri": "https://localhost:8080/"
        },
        "id": "YxfEQ1EPXaEH",
        "outputId": "9736fd75-b0f0-4fae-e1f8-c5c01da2d8f1"
      },
      "execution_count": null,
      "outputs": [
        {
          "output_type": "stream",
          "name": "stdout",
          "text": [
            "[ 0  1  2  3  4  5  6  7  8  9 10 11 12 13 14 15 16 17 18 19 20 21 22 23\n",
            " 24 25 26 27 28 29 30 31 32 33 34 35 36 37 38 39 40 41 42 43 44 45 46 47\n",
            " 48 49 50 51 52 53 54 55 56 57 58 59 60 61 62 63 64 65 66 67 68 69 70 71\n",
            " 72 73 74 75 76 77 78 79 80 81 82 83 84 85 86 87 88 89 90 91 92 93 94 95\n",
            " 96 97 98 99]\n"
          ]
        }
      ]
    },
    {
      "cell_type": "code",
      "source": [
        "arr = np.random.uniform(0,10,10)                           #50\n",
        "scal = 5\n",
        "print(arr)\n",
        "arr_1 = np.abs(arr - 5)\n",
        "ind = arr_1.argmin()\n",
        "print('*'*60)\n",
        "print(arr[ind])"
      ],
      "metadata": {
        "colab": {
          "base_uri": "https://localhost:8080/"
        },
        "id": "W5cwI07UaOzD",
        "outputId": "22284856-8305-4f76-8d59-f15d663e034f"
      },
      "execution_count": null,
      "outputs": [
        {
          "output_type": "stream",
          "name": "stdout",
          "text": [
            "[5.16530976 0.1640625  4.13102663 5.95007652 4.67410943 9.92720209\n",
            " 7.56293675 5.22432232 9.1221221  3.05819792]\n",
            "************************************************************\n",
            "5.165309756111926\n"
          ]
        }
      ]
    },
    {
      "cell_type": "code",
      "source": [
        "Z = np.zeros(10, [ ('position', [ ('x', float, 1),               #51\n",
        "                                  ('y', float, 1)]),\n",
        "                   ('color',    [ ('r', float, 1),\n",
        "                                  ('g', float, 1),\n",
        "                                  ('b', float, 1)])])\n",
        "print(Z)"
      ],
      "metadata": {
        "id": "nbBuxwbqi7Yr",
        "colab": {
          "base_uri": "https://localhost:8080/"
        },
        "outputId": "07335fb0-a29a-490c-e0b1-e6eab942cdcc"
      },
      "execution_count": 49,
      "outputs": [
        {
          "output_type": "stream",
          "name": "stdout",
          "text": [
            "[((0., 0.), (0., 0., 0.)) ((0., 0.), (0., 0., 0.))\n",
            " ((0., 0.), (0., 0., 0.)) ((0., 0.), (0., 0., 0.))\n",
            " ((0., 0.), (0., 0., 0.)) ((0., 0.), (0., 0., 0.))\n",
            " ((0., 0.), (0., 0., 0.)) ((0., 0.), (0., 0., 0.))\n",
            " ((0., 0.), (0., 0., 0.)) ((0., 0.), (0., 0., 0.))]\n"
          ]
        },
        {
          "output_type": "stream",
          "name": "stderr",
          "text": [
            "<ipython-input-49-1867a8fce118>:1: FutureWarning: Passing (type, 1) or '1type' as a synonym of type is deprecated; in a future version of numpy, it will be understood as (type, (1,)) / '(1,)type'.\n",
            "  Z = np.zeros(10, [ ('position', [ ('x', float, 1),               #52\n"
          ]
        }
      ]
    },
    {
      "cell_type": "code",
      "source": [
        "a= np.random.random((100,2))                                      #52\n",
        "x,y = np.atleast_2d(a[:,0], a[:,1])\n",
        "d = np.sqrt( (x-x.T)**2 + (y-y.T)**2)\n",
        "print(d)"
      ],
      "metadata": {
        "colab": {
          "base_uri": "https://localhost:8080/"
        },
        "id": "A-pcbi6Si7tX",
        "outputId": "b5b0d760-b6f1-48de-db5f-2c9001fede56"
      },
      "execution_count": null,
      "outputs": [
        {
          "output_type": "stream",
          "name": "stdout",
          "text": [
            "[[0.         0.52809867 0.66949897 0.88552935 0.15593884 0.57425082\n",
            "  0.4611705  0.81927072 0.24095119 1.04406945 0.73491769 0.66679157\n",
            "  0.45863652 0.68789926 0.77534643 0.88245132 0.54715267 0.46920269\n",
            "  0.86433571 0.39729852 0.33150882 0.72132965 0.41855703 0.26399551\n",
            "  0.93144351 0.2587268  0.90177661 0.60995565 0.96395678 0.34425991\n",
            "  0.73719372 0.566865   0.79224153 0.77571057 0.27224269 0.17600973\n",
            "  0.80358774 0.92173949 0.67890846 0.61400108 0.58682782 0.51862526\n",
            "  0.36871972 0.2119187  0.39519114 0.28102728 0.77652465 0.08659343\n",
            "  0.54885607 0.21360698 0.43235522 0.72884621 0.56346762 0.67659043\n",
            "  0.37917244 0.83234986 0.07420938 0.55826499 0.89460917 0.57878924\n",
            "  0.32891104 0.2390574  0.71299776 0.47321983 0.70115167 0.75093223\n",
            "  0.45244326 0.57374135 0.9091067  0.46659875 0.86118498 0.44776632\n",
            "  0.53971016 0.39850605 0.80426045 0.94646834 0.33787814 0.54601415\n",
            "  0.34098484 0.32456822 0.50951596 1.00960226 0.77890944 0.21323358\n",
            "  0.64565324 0.10731198 0.84715738 0.42391224 0.95145905 0.27815545\n",
            "  0.86821935 0.59969039 0.84331444 0.6816788  0.34897553 0.82472421\n",
            "  0.93111206 0.491278   0.3765902  0.34131784]\n",
            " [0.52809867 0.         0.48224578 0.55170945 0.40549863 0.3325799\n",
            "  0.85629219 0.60023548 0.40704412 0.5171441  0.65868702 0.71465676\n",
            "  0.19624011 0.17670133 0.41207293 0.56116673 0.60446475 0.3766802\n",
            "  0.74354925 0.75700531 0.2548322  0.20358819 0.47119316 0.26493899\n",
            "  0.75009545 0.37281857 0.75231993 0.64081217 0.43603554 0.61504402\n",
            "  0.59924877 0.39844314 0.4403586  0.42796766 0.46017933 0.40854308\n",
            "  0.40129678 0.3943622  0.27906503 0.13076227 0.41065031 0.5095118\n",
            "  0.16252337 0.36085359 0.67471017 0.59515532 0.2669726  0.53134258\n",
            "  0.21258074 0.57932646 0.79110674 0.59518087 0.10797039 0.15589791\n",
            "  0.48244161 0.50079508 0.55050131 0.0627627  0.48604159 0.08855841\n",
            "  0.20250563 0.38819705 0.33194861 0.21416865 0.66928944 0.46844766\n",
            "  0.38538494 0.04771537 0.39477639 0.39329657 0.64352593 0.33687831\n",
            "  0.60930896 0.40617634 0.52516855 0.48585505 0.43662556 0.1140597\n",
            "  0.35283214 0.30439636 0.65764291 0.48212787 0.72308925 0.35495494\n",
            "  0.51911171 0.60694003 0.3293808  0.39843402 0.4277581  0.50489944\n",
            "  0.35960383 0.64445906 0.67020788 0.6539447  0.27565027 0.31855887\n",
            "  0.72172306 0.88778068 0.16197469 0.20503163]\n",
            " [0.66949897 0.48224578 0.         0.25313871 0.51877282 0.15081679\n",
            "  0.70141642 0.15087374 0.42879643 0.78004364 0.19025187 0.30962412\n",
            "  0.31323805 0.60372215 0.2242098  0.24121084 0.26838241 0.81425603\n",
            "  0.26148812 0.60608765 0.38777105 0.47441185 0.27697798 0.53414432\n",
            "  0.28404123 0.70256668 0.27483334 0.25611553 0.67732327 0.46986721\n",
            "  0.11780187 0.10800254 0.21593999 0.2049796  0.41251226 0.49474699\n",
            "  0.28495366 0.68211659 0.75636519 0.60016366 0.08816824 0.19889068\n",
            "  0.51498131 0.46870714 0.49448876 0.5050076  0.6675499  0.60772932\n",
            "  0.69105365 0.54728427 0.62411048 0.11479287 0.58964186 0.47222176\n",
            "  0.86203308 0.21431023 0.73434147 0.5420839  0.33816529 0.56433313\n",
            "  0.52642215 0.70456652 0.23987195 0.67118131 0.22319765 0.12275977\n",
            "  0.21706008 0.50413781 0.55081532 0.82726488 0.19468016 0.77188388\n",
            "  0.28123313 0.80977097 0.15227197 0.4473894  0.34147735 0.37049218\n",
            "  0.3305067  0.36289342 0.36848148 0.70009382 0.25345553 0.47029703\n",
            "  0.06947119 0.67404851 0.5286847  0.24654496 0.73777597 0.43114137\n",
            "  0.73742213 0.26991285 0.19646066 0.21579145 0.66347418 0.47920339\n",
            "  0.27025452 0.72420883 0.44055751 0.43207587]\n",
            " [0.88552935 0.55170945 0.25313871 0.         0.72988658 0.31152268\n",
            "  0.95437042 0.17948508 0.65166929 0.65320159 0.37353436 0.53009898\n",
            "  0.45541006 0.60484755 0.13966524 0.02148551 0.51682313 0.92490273\n",
            "  0.34941096 0.8592083  0.56835904 0.44306355 0.52413625 0.70042452\n",
            "  0.28483977 0.8630816  0.32118879 0.49313868 0.55799579 0.72151488\n",
            "  0.28949256 0.32925479 0.1115232  0.12509817 0.6484981  0.71003954\n",
            "  0.16714855 0.58565176 0.78431519 0.6340337  0.31150247 0.45196661\n",
            "  0.64753943 0.67496711 0.74761081 0.75306647 0.63799472 0.83458577\n",
            "  0.75950127 0.78988084 0.87711923 0.29497635 0.64420465 0.46625273\n",
            "  1.00766875 0.05478178 0.9432391  0.5970552  0.13896815 0.61107512\n",
            "  0.67190567 0.87027048 0.21977045 0.76494535 0.42816177 0.13887133\n",
            "  0.44608218 0.55170987 0.42318026 0.94066872 0.19014911 0.88364128\n",
            "  0.53010473 0.94150422 0.10295997 0.2569068  0.57860804 0.44403387\n",
            "  0.5470767  0.5622472  0.61821248 0.56458885 0.41637711 0.67471117\n",
            "  0.31501029 0.90612498 0.43219064 0.47953379 0.6423694  0.67325737\n",
            "  0.68096485 0.5088356  0.25623889 0.42973496 0.79711621 0.38485603\n",
            "  0.23755891 0.97680193 0.58261302 0.59159422]\n",
            " [0.15593884 0.40549863 0.51877282 0.72988658 0.         0.41847185\n",
            "  0.47944691 0.6693921  0.0991376  0.92117039 0.60118736 0.55608216\n",
            "  0.30708004 0.5767119  0.61962936 0.72711804 0.43044968 0.45852322\n",
            "  0.72768341 0.39111107 0.18019929 0.58611784 0.28623877 0.16505445\n",
            "  0.78786028 0.26114446 0.76181321 0.4914464  0.83512457 0.2834259\n",
            "  0.59413114 0.41412222 0.63633084 0.61979783 0.15317225 0.02880276\n",
            "  0.64896968 0.79820634 0.6036504  0.51006962 0.43425501 0.38405254\n",
            "  0.26094361 0.0565185  0.34526883 0.2349146  0.66744473 0.12757153\n",
            "  0.47747924 0.19202174 0.42784202 0.58606026 0.46255055 0.54390756\n",
            "  0.42060684 0.67656934 0.21580555 0.44667628 0.73961344 0.47039396\n",
            "  0.22634722 0.25024115 0.55838911 0.40836775 0.57416696 0.59593457\n",
            "  0.30244381 0.45300021 0.76930999 0.46195411 0.71222863 0.42594199\n",
            "  0.42562768 0.40774474 0.64997374 0.79491663 0.20341784 0.40371909\n",
            "  0.18831551 0.16866296 0.41670874 0.87906794 0.65064805 0.05892112\n",
            "  0.50047791 0.20530614 0.70969455 0.27665754 0.83323131 0.18061535\n",
            "  0.76053379 0.48388974 0.69884375 0.55453815 0.30505766 0.68325114\n",
            "  0.78424465 0.51152781 0.24471151 0.20381115]\n",
            " [0.57425082 0.3325799  0.15081679 0.31152268 0.41847185 0.\n",
            "  0.70411454 0.28528515 0.34362439 0.6843674  0.32824378 0.40957902\n",
            "  0.16586117 0.46433262 0.20917913 0.3096026  0.32500774 0.66650105\n",
            "  0.41215559 0.60252872 0.2605463  0.3527448  0.25344493 0.40077837\n",
            "  0.4297003  0.56820058 0.42481765 0.34101786 0.582242   0.4537208\n",
            "  0.266833   0.07690842 0.22120214 0.20477715 0.3497569  0.39918057\n",
            "  0.25248579 0.5755333  0.60890015 0.45365355 0.08215688 0.22865061\n",
            "  0.36918995 0.36344468 0.49519237 0.47040992 0.53520387 0.52624342\n",
            "  0.54034488 0.49544137 0.62782381 0.26262536 0.44036353 0.34098285\n",
            "  0.72303466 0.25810265 0.63180191 0.39329422 0.33539792 0.41634485\n",
            "  0.38446327 0.57256759 0.17021167 0.52091042 0.34592816 0.18090949\n",
            "  0.15438594 0.35711503 0.46880179 0.68002346 0.33046946 0.62410038\n",
            "  0.33452743 0.66635069 0.23838863 0.41715524 0.28424158 0.22276399\n",
            "  0.23856028 0.25075301 0.40901254 0.61255999 0.3928512  0.36321475\n",
            "  0.1888697  0.59987567 0.43206532 0.18810101 0.6283701  0.38146776\n",
            "  0.6121281  0.34962412 0.34467666 0.33293599 0.51951388 0.38654296\n",
            "  0.40922158 0.73113856 0.29616998 0.29396439]\n",
            " [0.4611705  0.85629219 0.70141642 0.95437042 0.47944691 0.70411454\n",
            "  0.         0.81201737 0.44967952 1.34878316 0.63926946 0.49036017\n",
            "  0.6955182  1.03296094 0.90138298 0.94140142 0.44378088 0.92090198\n",
            "  0.75681339 0.10274406 0.60163176 1.00069528 0.45068702 0.64412112\n",
            "  0.85607613 0.71038034 0.80736658 0.48541645 1.2527952  0.25332643\n",
            "  0.69450943 0.64702542 0.9036357  0.88918483 0.39760324 0.46421811\n",
            "  0.95307604 1.22844016 1.08141185 0.9753229  0.65924535 0.5033721\n",
            "  0.73362344 0.50623166 0.20979165 0.26116282 1.1231857  0.39071744\n",
            "  0.95658281 0.28747954 0.07742823 0.68635874 0.93141561 0.96752041\n",
            "  0.84027738 0.91451489 0.51751463 0.90761116 1.0269429  0.9332762\n",
            "  0.70274517 0.69291887 0.87431689 0.88776894 0.58190706 0.82147903\n",
            "  0.55157173 0.90329434 1.15856175 0.9206692  0.83847199 0.89380705\n",
            "  0.43024996 0.85599299 0.85228568 1.12000418 0.43782848 0.81483912\n",
            "  0.5158377  0.55467662 0.34377433 1.29095985 0.645512   0.5130594\n",
            "  0.64083206 0.35782736 1.1100936  0.51979235 1.27178641 0.35337734\n",
            "  1.21545695 0.46858721 0.78845095 0.56896077 0.77936556 1.07173637\n",
            "  0.8801821  0.03209951 0.69768016 0.65429475]\n",
            " [0.81927072 0.60023548 0.15087374 0.17948508 0.6693921  0.28528515\n",
            "  0.81201737 0.         0.5783432  0.80942526 0.1976048  0.35881091\n",
            "  0.45107847 0.69651253 0.24205041 0.15922237 0.36823721 0.95062225\n",
            "  0.1781555  0.72298209 0.53623581 0.54821211 0.41699343 0.68142435\n",
            "  0.15032753 0.84979794 0.16376553 0.33261386 0.70981237 0.59776442\n",
            "  0.12003303 0.25810474 0.21785456 0.21777048 0.55826297 0.64507309\n",
            "  0.29817711 0.72781777 0.86323553 0.70689634 0.23795779 0.32653447\n",
            "  0.65442671 0.61957153 0.6127418  0.63984972 0.74750484 0.75544046\n",
            "  0.81260942 0.68759145 0.73611326 0.12740026 0.70439723 0.55796602\n",
            "  1.007174   0.17479632 0.88479076 0.65599084 0.30921068 0.67550056\n",
            "  0.66929835 0.85264893 0.29896455 0.80112498 0.25501213 0.13883192\n",
            "  0.36719775 0.61415316 0.57576839 0.9644885  0.04522434 0.90825193\n",
            "  0.38176743 0.95160888 0.09948449 0.42903344 0.48754556 0.48617589\n",
            "  0.48122048 0.51340373 0.46884185 0.7231208  0.23696523 0.62117058\n",
            "  0.18191753 0.81962928 0.57079234 0.39547355 0.7849577  0.57305805\n",
            "  0.8053407  0.3492142  0.08439465 0.25963675 0.80478584 0.52074948\n",
            "  0.12399766 0.83152319 0.5813982  0.57702571]\n",
            " [0.24095119 0.40704412 0.42879643 0.65166929 0.0991376  0.34362439\n",
            "  0.44967952 0.5783432  0.         0.90959742 0.50245806 0.45909096\n",
            "  0.26479126 0.58356282 0.55096837 0.6470635  0.33278809 0.53338194\n",
            "  0.62958279 0.35188374 0.15360658 0.56483572 0.18710141 0.21810899\n",
            "  0.69220777 0.34894505 0.66465489 0.39318018 0.81775283 0.21944608\n",
            "  0.49806277 0.32764127 0.56469954 0.54822424 0.06540749 0.0709696\n",
            "  0.58677638 0.78749269 0.63936842 0.52599528 0.34735809 0.28517129\n",
            "  0.29020298 0.07489045 0.2823516  0.18906398 0.6740143  0.18295472\n",
            "  0.52003283 0.17619624 0.38701692 0.48985196 0.48312971 0.52722516\n",
            "  0.51236163 0.59975561 0.30819634 0.45798355 0.67490607 0.4837496\n",
            "  0.26503694 0.34083388 0.49726262 0.45828962 0.47503278 0.51483517\n",
            "  0.2118808  0.45431421 0.7380992  0.53904301 0.62024571 0.49732445\n",
            "  0.32860053 0.49125187 0.56633957 0.74134391 0.10430131 0.37737421\n",
            "  0.10507253 0.11416247 0.32719274 0.8590933  0.55152638 0.08140256\n",
            "  0.40546228 0.25642091 0.68278167 0.18296648 0.82775032 0.10605801\n",
            "  0.76658573 0.38614072 0.60359672 0.45540457 0.37285932 0.6506703\n",
            "  0.69055952 0.48135282 0.24809611 0.20481706]\n",
            " [1.04406945 0.5171441  0.78004364 0.65320159 0.92117039 0.6843674\n",
            "  1.34878316 0.80942526 0.90959742 0.         0.96544062 1.08477081\n",
            "  0.65326568 0.36229727 0.57129992 0.67398577 1.0093688  0.75701301\n",
            "  0.98752613 1.2465651  0.75681102 0.34821996 0.91753203 0.78008966\n",
            "  0.93704934 0.85557077 0.96844171 1.02126135 0.10286373 1.09748751\n",
            "  0.88130072 0.75964566 0.59249281 0.5952002  0.9531424  0.92181705\n",
            "  0.51201812 0.12296447 0.46714999 0.44181076 0.7587327  0.91266082\n",
            "  0.675531   0.87355874 1.15096739 1.09057104 0.28402381 1.04786721\n",
            "  0.56052696 1.08559601 1.27776613 0.88233481 0.49249791 0.38249462\n",
            "  0.90891748 0.63705683 1.06083787 0.48758358 0.51497582 0.46989654\n",
            "  0.71555658 0.87482492 0.54027043 0.62675779 1.00323183 0.68440466\n",
            "  0.8152553  0.47062566 0.23373398 0.7743765  0.83485823 0.73499215\n",
            "  1.01884239 0.82498519 0.71000131 0.40506832 0.91200485 0.53434081\n",
            "  0.83296858 0.79769127 1.09052574 0.08951194 1.02414325 0.86815456\n",
            "  0.84524254 1.1239237  0.25310206 0.84169753 0.10060812 0.99643558\n",
            "  0.21269654 1.03144336 0.89367894 0.99539188 0.74463542 0.30134001\n",
            "  0.89060799 1.37902366 0.67645934 0.71790426]\n",
            " [0.73491769 0.65868702 0.19025187 0.37353436 0.60118736 0.32824378\n",
            "  0.63926946 0.1976048  0.50245806 0.96544062 0.         0.16320631\n",
            "  0.47412724 0.79069568 0.39789501 0.35443827 0.20817959 0.96372458\n",
            "  0.13101879 0.55907016 0.51532224 0.66462821 0.3169043  0.66071661\n",
            "  0.21874993 0.82463043 0.17530255 0.15494368 0.86313379 0.45463305\n",
            "  0.08686633 0.26067436 0.38184084 0.37528256 0.46268203 0.57340393\n",
            "  0.45927836 0.87068935 0.93655867 0.78178968 0.24809861 0.21736946\n",
            "  0.66465521 0.56177557 0.45438711 0.50788561 0.85688861 0.65909011\n",
            "  0.86131952 0.56668454 0.56636117 0.08404692 0.7666505  0.66143172\n",
            "  0.98932794 0.35666777 0.80651964 0.72031583 0.4925933  0.74394701\n",
            "  0.66788963 0.82247221 0.42735864 0.83258339 0.05964505 0.2847192\n",
            "  0.31903438 0.68520753 0.73376316 0.97496729 0.20953929 0.92195529\n",
            "  0.22041687 0.947617   0.27803772 0.61014205 0.39923427 0.5508576\n",
            "  0.4271166  0.47571071 0.298387   0.88333288 0.06460761 0.5654625\n",
            "  0.13966579 0.71138159 0.71596858 0.33319536 0.92671328 0.4629468\n",
            "  0.9276329  0.17150257 0.15089564 0.07031209 0.80528603 0.66604609\n",
            "  0.24104558 0.65538113 0.58987692 0.57122848]\n",
            " [0.66679157 0.71465676 0.30962412 0.53009898 0.55608216 0.40957902\n",
            "  0.49036017 0.35881091 0.45909096 1.08477081 0.16320631 0.\n",
            "  0.51904209 0.86720397 0.53309414 0.51209797 0.12695997 0.9705895\n",
            "  0.26736183 0.42045192 0.52033905 0.76207506 0.27997489 0.65345685\n",
            "  0.36937364 0.8047415  0.31857138 0.07441067 0.98191326 0.34465899\n",
            "  0.24103751 0.33279077 0.52206119 0.51269634 0.40421078 0.52728147\n",
            "  0.59423996 0.98138207 0.99242847 0.84414196 0.32938472 0.207338\n",
            "  0.6827679  0.52956424 0.32660897 0.40615153 0.94269393 0.58359673\n",
            "  0.90035868 0.47249478 0.42166595 0.23518394 0.82002022 0.74992525\n",
            "  0.96970486 0.50676922 0.74085302 0.77740181 0.64001665 0.80303576\n",
            "  0.67629839 0.79840157 0.5457926  0.85905091 0.10404376 0.42481023\n",
            "  0.33377974 0.74909345 0.85847943 0.9793268  0.37274516 0.93069117\n",
            "  0.13051073 0.94088886 0.43032343 0.75393742 0.35749509 0.61870299\n",
            "  0.41433746 0.47089566 0.16953245 1.00711165 0.15552882 0.53483208\n",
            "  0.24125533 0.62197881 0.83189396 0.33124046 1.03550944 0.38912445\n",
            "  1.02148579 0.0750599  0.3125622  0.10036811 0.80778506 0.78347467\n",
            "  0.39906258 0.50329152 0.61204091 0.58337654]\n",
            " [0.45863652 0.19624011 0.31323805 0.45541006 0.30708004 0.16586117\n",
            "  0.6955182  0.45107847 0.26479126 0.65326568 0.47412724 0.51904209\n",
            "  0.         0.36042323 0.32842623 0.45796025 0.40833811 0.50121161\n",
            "  0.57156739 0.59335587 0.12725987 0.30527467 0.27980178 0.24510476\n",
            "  0.59514607 0.40862726 0.58802932 0.44499178 0.55795429 0.44482607\n",
            "  0.42465282 0.21506248 0.35012985 0.33419091 0.30105602 0.29663361\n",
            "  0.3480726  0.5331999  0.47340704 0.32672514 0.23085688 0.31332446\n",
            "  0.2033485  0.25114745 0.50016157 0.43809841 0.44501284 0.4306857\n",
            "  0.38780347 0.43959702 0.62490348 0.41929605 0.30099653 0.27282779\n",
            "  0.55933044 0.4006367  0.50512745 0.25879827 0.44007201 0.28479851\n",
            "  0.22036164 0.41507606 0.25824199 0.359808   0.4787454  0.33836432\n",
            "  0.18940646 0.23425311 0.47338896 0.5144865  0.49623247 0.45881859\n",
            "  0.41341302 0.50079248 0.3974306  0.48808622 0.25966527 0.12014335\n",
            "  0.17972194 0.15070524 0.46520367 0.59753819 0.53756622 0.24816745\n",
            "  0.33671766 0.50862107 0.41908757 0.20482163 0.57806676 0.34363667\n",
            "  0.53318059 0.44833653 0.50918436 0.4624647  0.35393248 0.38591806\n",
            "  0.57504714 0.72580775 0.13107736 0.13630544]\n",
            " [0.68789926 0.17670133 0.60372215 0.60484755 0.5767119  0.46433262\n",
            "  1.03296094 0.69651253 0.58356282 0.36229727 0.79069568 0.86720397\n",
            "  0.36042323 0.         0.47196849 0.61940052 0.7647473  0.41939261\n",
            "  0.85781558 0.93369677 0.43152864 0.16447576 0.64007263 0.4249183\n",
            "  0.84560428 0.49374377 0.85768149 0.79493721 0.29945868 0.79124422\n",
            "  0.72094492 0.53830883 0.50120069 0.49342059 0.63680813 0.58202478\n",
            "  0.43857489 0.24480893 0.18383596 0.08024918 0.54639364 0.66738209\n",
            "  0.32029713 0.53498194 0.8504494  0.77183936 0.09089555 0.70022625\n",
            "  0.21623727 0.75487525 0.96774443 0.71844528 0.13029438 0.13983372\n",
            "  0.5605218  0.56228675 0.70031499 0.13047017 0.50348577 0.10918099\n",
            "  0.35943286 0.51276656 0.40020096 0.27135431 0.81017535 0.55791156\n",
            "  0.54798259 0.13026884 0.3094497  0.43736867 0.73580366 0.38997016\n",
            "  0.77091249 0.47687013 0.60749813 0.46027956 0.61121452 0.24895737\n",
            "  0.52755054 0.48066863 0.82561379 0.3478049  0.85511524 0.5288257\n",
            "  0.65248135 0.77386896 0.24679032 0.56522571 0.26542854 0.68151692\n",
            "  0.18400964 0.80050254 0.7748875  0.79675584 0.38338568 0.26435466\n",
            "  0.80991995 1.06446769 0.33690087 0.38033907]\n",
            " [0.77534643 0.41207293 0.2242098  0.13966524 0.61962936 0.20917913\n",
            "  0.90138298 0.24205041 0.55096837 0.57129992 0.39789501 0.53309414\n",
            "  0.32842623 0.47196849 0.         0.15036734 0.48662341 0.78589014\n",
            "  0.41857153 0.80159036 0.44877608 0.31437086 0.45372114 0.5725733\n",
            "  0.38291585 0.73160838 0.40518876 0.4799691  0.47028055 0.65570739\n",
            "  0.31202654 0.25449612 0.02936459 0.02429307 0.55890973 0.60270472\n",
            "  0.0615465  0.48594462 0.64863735 0.4964964  0.24236761 0.40330947\n",
            "  0.51285198 0.56343116 0.69160796 0.67717843 0.51304584 0.73260583\n",
            "  0.62006555 0.70444331 0.8241903  0.31392338 0.50505302 0.332266\n",
            "  0.87223879 0.09098619 0.82828899 0.45769745 0.12697589 0.47223775\n",
            "  0.53935538 0.74001677 0.08022281 0.62547903 0.44142315 0.11361945\n",
            "  0.3608217  0.41248922 0.33791775 0.80179657 0.27415347 0.7448031\n",
            "  0.49873026 0.8043721  0.14374567 0.22449892 0.49272894 0.30525847\n",
            "  0.44625198 0.45107685 0.58326003 0.487057   0.45422603 0.56222596\n",
            "  0.29361322 0.8073683  0.32889512 0.39502848 0.54305114 0.58988173\n",
            "  0.56549223 0.49332565 0.32618925 0.43671559 0.66105976 0.27877183\n",
            "  0.34260209 0.92676574 0.45101944 0.46422666]\n",
            " [0.88245132 0.56116673 0.24121084 0.02148551 0.72711804 0.3096026\n",
            "  0.94140142 0.15922237 0.6470635  0.67398577 0.35443827 0.51209797\n",
            "  0.45796025 0.61940052 0.15036734 0.         0.50222085 0.9328233\n",
            "  0.32805    0.84700715 0.56834137 0.45855194 0.51482161 0.70254927\n",
            "  0.26365207 0.86634394 0.29971053 0.4768033  0.57839814 0.71076844\n",
            "  0.27116737 0.32235297 0.12130657 0.13320794 0.6418021  0.70666188\n",
            "  0.18342153 0.60527648 0.79788977 0.64658821 0.3040168  0.44001963\n",
            "  0.65253019 0.67263046 0.73542473 0.74376829 0.65452957 0.82979892\n",
            "  0.77017583 0.7820725  0.86426295 0.27692057 0.65536202 0.48031413\n",
            "  1.01271133 0.06040512 0.94123585 0.60790685 0.16018969 0.62260384\n",
            "  0.67587017 0.8730358  0.22958031 0.77371465 0.40968477 0.13232145\n",
            "  0.43964624 0.56278388 0.44349859 0.94840081 0.16874113 0.89135665\n",
            "  0.51557644 0.94766219 0.08916236 0.27836201 0.57152627 0.45209638\n",
            "  0.54289085 0.56019153 0.60375967 0.58548327 0.39618668 0.67259811\n",
            "  0.30100422 0.90056115 0.45123199 0.47273761 0.66208857 0.66540371\n",
            "  0.69906034 0.49266982 0.23503326 0.41178844 0.80267694 0.40349178\n",
            "  0.2166343  0.96342304 0.58635663 0.59379379]\n",
            " [0.54715267 0.60446475 0.26838241 0.51682313 0.43044968 0.32500774\n",
            "  0.44378088 0.36823721 0.33278809 1.0093688  0.20817959 0.12695997\n",
            "  0.40833811 0.7647473  0.48662341 0.50222085 0.         0.84506576\n",
            "  0.33740982 0.35634912 0.39679956 0.67406038 0.15349531 0.52719679\n",
            "  0.42595263 0.67778621 0.38342552 0.06286849 0.90717328 0.24666602\n",
            "  0.25143078 0.25030039 0.48228077 0.46991611 0.27988273 0.40165716\n",
            "  0.54478943 0.89981473 0.8793441  0.73505778 0.25385118 0.0983434\n",
            "  0.56045201 0.40270775 0.24833951 0.30178852 0.84453782 0.466171\n",
            "  0.78204573 0.36358234 0.36799957 0.24311747 0.70741175 0.65622633\n",
            "  0.84278428 0.48206484 0.62075008 0.66681357 0.60565622 0.69299182\n",
            "  0.55205094 0.67152597 0.48142144 0.73753123 0.16056519 0.39114171\n",
            "  0.21911592 0.64194434 0.79112617 0.85349123 0.39567285 0.80550332\n",
            "  0.01353774 0.81418817 0.41388325 0.71109958 0.23061416 0.51609941\n",
            "  0.28896061 0.34610013 0.10161094 0.93670502 0.23747247 0.40793014\n",
            "  0.20209367 0.51128862 0.75688886 0.21061406 0.95183721 0.26917542\n",
            "  0.92743109 0.05344937 0.34996115 0.14250437 0.6821078  0.7107228\n",
            "  0.44319973 0.46363458 0.4914569  0.4606437 ]\n",
            " [0.46920269 0.3766802  0.81425603 0.92490273 0.45852322 0.66650105\n",
            "  0.92090198 0.95062225 0.53338194 0.75701301 0.96372458 0.9705895\n",
            "  0.50121161 0.41939261 0.78589014 0.9328233  0.84506576 0.\n",
            "  1.07013964 0.84245675 0.45241483 0.55131098 0.69175056 0.31924937\n",
            "  1.09618457 0.21130738 1.08881626 0.89805902 0.71307348 0.74166855\n",
            "  0.92328698 0.71268814 0.81341001 0.8000485  0.59841583 0.48247971\n",
            "  0.77793216 0.65288638 0.2956192  0.34529351 0.7300033  0.76905698\n",
            "  0.30017704 0.45860118 0.80376425 0.69253044 0.4766535  0.53040307\n",
            "  0.20318849 0.64162615 0.87919702 0.91736049 0.30820061 0.50668372\n",
            "  0.15857354 0.87250997 0.43670828 0.34558842 0.86233348 0.34313531\n",
            "  0.29668154 0.23023757 0.70572849 0.16360789 0.95699002 0.82884269\n",
            "  0.6482026  0.3898756  0.72567911 0.01798549 0.99553136 0.04240123\n",
            "  0.84445899 0.08284582 0.8875468  0.85250609 0.62108136 0.48087726\n",
            "  0.55627885 0.49983892 0.85840591 0.76098719 1.02440386 0.45199102\n",
            "  0.83181944 0.57642164 0.66065688 0.64239297 0.65649045 0.63441829\n",
            "  0.54633225 0.89553322 1.01038517 0.9386375  0.16303329 0.66728742\n",
            "  1.0745408  0.95224019 0.37521764 0.39294143]\n",
            " [0.86433571 0.74354925 0.26148812 0.34941096 0.72768341 0.41215559\n",
            "  0.75681339 0.1781555  0.62958279 0.98752613 0.13101879 0.26736183\n",
            "  0.57156739 0.85781558 0.41857153 0.32805    0.33740982 1.07013964\n",
            "  0.         0.68193225 0.62925174 0.7169737  0.4458036  0.77628329\n",
            "  0.10536331 0.94263748 0.05171997 0.28037276 0.88770118 0.58404716\n",
            "  0.14698381 0.35754744 0.39545894 0.39430395 0.59228791 0.70032745\n",
            "  0.47593455 0.90442279 1.01612795 0.85955554 0.34079664 0.34576759\n",
            "  0.76996586 0.68594    0.58032783 0.63836146 0.91503426 0.78945148\n",
            "  0.95249412 0.69763997 0.68634733 0.15278076 0.85071701 0.72197341\n",
            "  1.10603387 0.35231142 0.93539692 0.80295412 0.48468476 0.82473305\n",
            "  0.77735972 0.94182641 0.46870154 0.93105979 0.17886956 0.309523\n",
            "  0.4366435  0.76411105 0.753835   1.08239147 0.15938528 1.0279323\n",
            "  0.34911051 1.05987369 0.27752498 0.60443164 0.5273991  0.63120377\n",
            "  0.54882759 0.59393562 0.4221953  0.90127533 0.11192776 0.68920894\n",
            "  0.23939343 0.84236614 0.74739037 0.45499659 0.96148441 0.59371712\n",
            "  0.97732197 0.29608328 0.09438072 0.19541763 0.91523469 0.69719477\n",
            "  0.14521991 0.77048931 0.69494263 0.68107264]\n",
            " [0.39729852 0.75700531 0.60608765 0.8592083  0.39111107 0.60252872\n",
            "  0.10274406 0.72298209 0.35188374 1.2465651  0.55907016 0.42045192\n",
            "  0.59335587 0.93369677 0.80159036 0.84700715 0.35634912 0.84245675\n",
            "  0.68193225 0.         0.50217392 0.89840481 0.34932185 0.55384811\n",
            "  0.77764634 0.63435442 0.73123977 0.40412828 1.15031635 0.15060711\n",
            "  0.60764835 0.54709436 0.8047415  0.79003746 0.29710909 0.37311327\n",
            "  0.85240764 1.12646142 0.98829554 0.87781138 0.55997905 0.4072524\n",
            "  0.63929551 0.41245882 0.11159891 0.16291196 1.02361429 0.31831849\n",
            "  0.865307   0.20107159 0.03682109 0.59926435 0.83492062 0.86566076\n",
            "  0.77388906 0.81782658 0.46147455 0.80953466 0.92762853 0.83544515\n",
            "  0.61011359 0.61829928 0.77273089 0.79846245 0.50396987 0.72467966\n",
            "  0.44946784 0.8037276  1.05582502 0.84359431 0.75188006 0.8129963\n",
            "  0.34300729 0.78193106 0.75785551 1.01899647 0.33519373 0.71289763\n",
            "  0.41379623 0.45407157 0.26069302 1.18833141 0.57255449 0.4194188\n",
            "  0.54788052 0.3029446  1.00739548 0.41742681 1.17024322 0.25254425\n",
            "  1.11558404 0.38763735 0.70548164 0.48930533 0.69506109 0.96899241\n",
            "  0.79831072 0.13245864 0.59983479 0.5566582 ]\n",
            " [0.33150882 0.2548322  0.38777105 0.56835904 0.18019929 0.2605463\n",
            "  0.60163176 0.53623581 0.15360658 0.75681102 0.51532224 0.52033905\n",
            "  0.12725987 0.43152864 0.44877608 0.56834137 0.39679956 0.45241483\n",
            "  0.62925174 0.50217392 0.         0.41400208 0.24607853 0.14732363\n",
            "  0.67047449 0.31523158 0.65433545 0.4469593  0.66621021 0.36145828\n",
            "  0.48480262 0.27998786 0.46810954 0.45175247 0.20551183 0.1717953\n",
            "  0.47315354 0.63445305 0.50229804 0.37776867 0.29961286 0.31676843\n",
            "  0.16439616 0.12488947 0.42223834 0.34046931 0.52158054 0.30533952\n",
            "  0.39225007 0.32892829 0.5363497  0.47790766 0.3381493  0.37488497\n",
            "  0.47702795 0.51387323 0.38000717 0.30857186 0.56472895 0.33488204\n",
            "  0.15624114 0.31679634 0.38272173 0.34183501 0.5051161  0.44140849\n",
            "  0.1968379  0.30167484 0.59244913 0.46237959 0.58108575 0.41165917\n",
            "  0.39774346 0.4322948  0.49884545 0.61534315 0.19077869 0.22770798\n",
            "  0.11098295 0.05410617 0.42666478 0.70843264 0.57425688 0.12142044\n",
            "  0.39017123 0.38347432 0.53468262 0.19014593 0.67421162 0.25024256\n",
            "  0.61383662 0.44550414 0.58150175 0.4865689  0.29120572 0.50567408\n",
            "  0.65786738 0.63304823 0.10256041 0.06472657]\n",
            " [0.72132965 0.20358819 0.47441185 0.44306355 0.58611784 0.3527448\n",
            "  1.00069528 0.54821211 0.56483572 0.34821996 0.66462821 0.76207506\n",
            "  0.30527467 0.16447576 0.31437086 0.45855194 0.67406038 0.55131098\n",
            "  0.7169737  0.89840481 0.41400208 0.         0.5717861  0.4626379\n",
            "  0.69466549 0.57582036 0.71154437 0.69370333 0.2531116  0.74926926\n",
            "  0.58802189 0.4296532  0.34308657 0.33706703 0.60586104 0.5833035\n",
            "  0.27603498 0.22983223 0.34792441 0.21295695 0.43287006 0.5759214\n",
            "  0.36407981 0.53508736 0.80300876 0.74315265 0.19941357 0.71368846\n",
            "  0.35563091 0.74101355 0.92954619 0.58680287 0.2431938  0.04789265\n",
            "  0.67531201 0.40307492 0.74963655 0.20858415 0.33904838 0.20817697\n",
            "  0.403324   0.5915824  0.24931491 0.39006886 0.69230125 0.40975527\n",
            "  0.47068251 0.16935151 0.19133841 0.56904064 0.58487984 0.51593074\n",
            "  0.68240603 0.59502482 0.45465931 0.30368667 0.56378855 0.18755504\n",
            "  0.48498868 0.45166735 0.74910867 0.29445094 0.72774719 0.53027431\n",
            "  0.53165235 0.79126776 0.1266537  0.49554435 0.27879526 0.64880591\n",
            "  0.26301041 0.70196095 0.62961484 0.68127443 0.4750974  0.11747659\n",
            "  0.656244   1.03086207 0.34497805 0.38295825]\n",
            " [0.41855703 0.47119316 0.27697798 0.52413625 0.28623877 0.25344493\n",
            "  0.45068702 0.41699343 0.18710141 0.91753203 0.3169043  0.27997489\n",
            "  0.27980178 0.64007263 0.45372114 0.51482161 0.15349531 0.69175056\n",
            "  0.4458036  0.34932185 0.24607853 0.5717861  0.         0.37370153\n",
            "  0.51547929 0.52588579 0.48363397 0.20982705 0.81787279 0.20198722\n",
            "  0.32208046 0.20005513 0.45880159 0.44355537 0.14691012 0.25792847\n",
            "  0.50329454 0.80152525 0.73941239 0.60157085 0.21498919 0.10007085\n",
            "  0.4104547  0.25251522 0.24188395 0.22896667 0.72468332 0.34548606\n",
            "  0.63604966 0.27096878 0.37440235 0.31350751 0.56935883 0.54620117\n",
            "  0.69123754 0.47816942 0.48970823 0.53204035 0.58039462 0.55865936\n",
            "  0.39988369 0.52048338 0.42363406 0.58789375 0.28793769 0.38590764\n",
            "  0.10318326 0.51251176 0.71434197 0.70005497 0.45519149 0.65237602\n",
            "  0.15278401 0.66091879 0.42736934 0.66968625 0.08288011 0.39687883\n",
            "  0.13631006 0.19393575 0.18647381 0.8526086  0.36449478 0.25726497\n",
            "  0.23586499 0.40453876 0.67059915 0.07639368 0.84993614 0.15612573\n",
            "  0.81205272 0.20514216 0.42888774 0.26831141 0.52875026 0.62892624\n",
            "  0.51953211 0.47773591 0.34424118 0.31061901]\n",
            " [0.26399551 0.26493899 0.53414432 0.70042452 0.16505445 0.40077837\n",
            "  0.64412112 0.68142435 0.21810899 0.78008966 0.66071661 0.65345685\n",
            "  0.24510476 0.4249183  0.5725733  0.70254927 0.52719679 0.31924937\n",
            "  0.77628329 0.55384811 0.14732363 0.4626379  0.37370153 0.\n",
            "  0.81741692 0.16844974 0.80165906 0.58191862 0.70094906 0.43460571\n",
            "  0.63210193 0.42669988 0.59498793 0.57914874 0.2834872  0.18073492\n",
            "  0.58715929 0.65783473 0.43872433 0.35315891 0.44610796 0.45596373\n",
            "  0.10484    0.14542075 0.49766372 0.39395227 0.51438662 0.27881206\n",
            "  0.31250443 0.35665754 0.59036681 0.62517421 0.30369557 0.41656021\n",
            "  0.32978428 0.64564339 0.28700144 0.29477789 0.67918846 0.31615945\n",
            "  0.06556741 0.17179225 0.49941084 0.24466788 0.64736322 0.57989617\n",
            "  0.34168837 0.30998151 0.65290125 0.32675034 0.72646648 0.28130999\n",
            "  0.52605459 0.28872886 0.6383905  0.71182621 0.30183385 0.29951694\n",
            "  0.2399131  0.18596961 0.53966902 0.74704946 0.71842405 0.13841661\n",
            "  0.53738531 0.34991541 0.58923844 0.33030429 0.68762804 0.32287384\n",
            "  0.60678193 0.57845388 0.72857922 0.62841393 0.15656975 0.57108639\n",
            "  0.80380612 0.67621718 0.12674863 0.10883124]\n",
            " [0.93144351 0.75009545 0.28404123 0.28483977 0.78786028 0.4297003\n",
            "  0.85607613 0.15032753 0.69220777 0.93704934 0.21874993 0.36937364\n",
            "  0.59514607 0.84560428 0.38291585 0.26365207 0.42595263 1.09618457\n",
            "  0.10536331 0.77764634 0.67047449 0.69466549 0.51547929 0.81741692\n",
            "  0.         0.98567578 0.05469427 0.37357516 0.84028442 0.67128446\n",
            "  0.19425593 0.39075032 0.35598553 0.35915932 0.6620483  0.76172886\n",
            "  0.43368201 0.8637079  1.01345271 0.85717532 0.37154072 0.41665331\n",
            "  0.79799853 0.74186561 0.67307174 0.72208266 0.89406323 0.86088657\n",
            "  0.9622821  0.77778325 0.78413649 0.20260147 0.85460215 0.70654772\n",
            "  1.14591166 0.30254995 1.00034595 0.80620907 0.42380473 0.82581442\n",
            "  0.81037007 0.98699253 0.44636031 0.94904264 0.27431174 0.28781522\n",
            "  0.48773926 0.76447045 0.70529545 1.10961344 0.10991005 1.05378335\n",
            "  0.43852267 1.09364581 0.24011459 0.54100189 0.5938412  0.63605971\n",
            "  0.60272316 0.64172345 0.51696257 0.84883511 0.2153614  0.74432781\n",
            "  0.28746171 0.91866168 0.7075528  0.51128372 0.92082604 0.66889705\n",
            "  0.9483933  0.39001184 0.08944726 0.28834919 0.94718875 0.65826313\n",
            "  0.04964361 0.87094065 0.72396942 0.71610387]\n",
            " [0.2587268  0.37281857 0.70256668 0.8630816  0.26114446 0.56820058\n",
            "  0.71038034 0.84979794 0.34894505 0.85557077 0.82463043 0.8047415\n",
            "  0.40862726 0.49374377 0.73160838 0.86634394 0.67778621 0.21130738\n",
            "  0.94263748 0.63435442 0.31523158 0.57582036 0.52588579 0.16844974\n",
            "  0.98567578 0.         0.96915672 0.73570776 0.79015867 0.54279078\n",
            "  0.79936996 0.59503458 0.75548441 0.74005391 0.41094422 0.28801937\n",
            "  0.74038332 0.73830674 0.4405863  0.41382147 0.61450062 0.61494499\n",
            "  0.22332229 0.27575478 0.60339244 0.48947913 0.57390495 0.31966648\n",
            "  0.31352788 0.43454997 0.67093405 0.79229141 0.36349563 0.52793753\n",
            "  0.16551892 0.80840859 0.2345001  0.37677802 0.83146873 0.3892962\n",
            "  0.19251393 0.02143865 0.65558874 0.23789362 0.8077024  0.74613063\n",
            "  0.50644246 0.40813868 0.7661889  0.21030265 0.89486332 0.18924779\n",
            "  0.67491295 0.1482178  0.80492388 0.85134816 0.44738095 0.44096012\n",
            "  0.39863552 0.34912004 0.67540278 0.83815711 0.88065538 0.2701827\n",
            "  0.70438774 0.36566031 0.700198   0.49185171 0.7571066  0.44161672\n",
            "  0.65978411 0.73047787 0.89673289 0.78842895 0.111653   0.69137742\n",
            "  0.97225281 0.74156604 0.28072348 0.27438143]\n",
            " [0.90177661 0.75231993 0.27483334 0.32118879 0.76181321 0.42481765\n",
            "  0.80736658 0.16376553 0.66465489 0.96844171 0.17530255 0.31857138\n",
            "  0.58802932 0.85768149 0.40518876 0.29971053 0.38342552 1.08881626\n",
            "  0.05171997 0.73123977 0.65433545 0.71154437 0.48363397 0.80165906\n",
            "  0.05469427 0.96915672 0.         0.32824028 0.87004634 0.62993551\n",
            "  0.16995634 0.37740401 0.38000746 0.3809721  0.6305362  0.73497176\n",
            "  0.45967223 0.89018687 1.02091574 0.86423748 0.35928693 0.38373848\n",
            "  0.78912913 0.71803995 0.62844861 0.68282754 0.91068025 0.82873909\n",
            "  0.96323679 0.7406379  0.73639355 0.17735463 0.85843031 0.71995295\n",
            "  1.13125576 0.33139827 0.97194041 0.81026473 0.45915925 0.83103266\n",
            "  0.79890363 0.96933495 0.46223015 0.94571076 0.22732962 0.30179201\n",
            "  0.46569435 0.76992559 0.73537593 1.10163949 0.13358835 1.04646814\n",
            "  0.39553463 1.08218957 0.26158892 0.57803049 0.56398482 0.63882408\n",
            "  0.57964491 0.62201797 0.47096133 0.88107755 0.16338376 0.72094209\n",
            "  0.26517605 0.88383646 0.73330565 0.48659831 0.94735821 0.63440045\n",
            "  0.96910622 0.34429842 0.08289538 0.24283171 0.93651279 0.68344218\n",
            "  0.09919212 0.82140944 0.71440618 0.70335924]\n",
            " [0.60995565 0.64081217 0.25611553 0.49313868 0.4914464  0.34101786\n",
            "  0.48541645 0.33261386 0.39318018 1.02126135 0.15494368 0.07441067\n",
            "  0.44499178 0.79493721 0.4799691  0.4768033  0.06286849 0.89805902\n",
            "  0.28037276 0.40412828 0.4469593  0.69370333 0.20982705 0.58191862\n",
            "  0.37357516 0.73570776 0.32824028 0.         0.91852543 0.30528981\n",
            "  0.21275532 0.26414566 0.47190355 0.46109154 0.34191467 0.46269663\n",
            "  0.54015566 0.91549705 0.91830802 0.77053288 0.26285117 0.13292935\n",
            "  0.60887836 0.46167936 0.30021046 0.36246912 0.87156288 0.52903515\n",
            "  0.82595408 0.42540973 0.41180183 0.20521659 0.74591219 0.67981605\n",
            "  0.90103052 0.46376172 0.68349975 0.70353301 0.59311411 0.72925735\n",
            "  0.60309393 0.73013891 0.48519983 0.78493688 0.101579   0.37663779\n",
            "  0.25936968 0.67576349 0.79775175 0.90708352 0.35484952 0.85791444\n",
            "  0.07178546 0.87002036 0.39079931 0.70350492 0.28989183 0.54614056\n",
            "  0.34220857 0.3982207  0.14344366 0.94542902 0.17655818 0.46665344\n",
            "  0.18667817 0.57358291 0.76815929 0.25737124 0.96895055 0.33203128\n",
            "  0.95157305 0.01686598 0.30303513 0.08544375 0.73546116 0.72048446\n",
            "  0.39503406 0.50259979 0.53785539 0.50965962]\n",
            " [0.96395678 0.43603554 0.67732327 0.55799579 0.83512457 0.582242\n",
            "  1.2527952  0.70981237 0.81775283 0.10286373 0.86313379 0.98191326\n",
            "  0.55795429 0.29945868 0.47028055 0.57839814 0.90717328 0.71307348\n",
            "  0.88770118 1.15031635 0.66621021 0.2531116  0.81787279 0.70094906\n",
            "  0.84028442 0.79015867 0.87004634 0.91852543 0.         1.00063564\n",
            "  0.77929959 0.65724937 0.49227391 0.49432636 0.85883031 0.83396666\n",
            "  0.41177472 0.06440651 0.43686053 0.37940314 0.65609807 0.81072582\n",
            "  0.59762473 0.78565133 1.05305917 0.99602972 0.23827825 0.96249207\n",
            "  0.51114144 0.99394879 1.18093183 0.78020031 0.4278728  0.29169718\n",
            "  0.85884034 0.53882044 0.98549027 0.41494222 0.42127737 0.40086974\n",
            "  0.63779248 0.8084315  0.43750131 0.57063135 0.90052017 0.58298259\n",
            "  0.71522837 0.39150547 0.13499755 0.73088691 0.73658805 0.68662985\n",
            "  0.91676896 0.77491835 0.61032795 0.31781849 0.81523996 0.44064205\n",
            "  0.73752188 0.70475436 0.98922913 0.04834898 0.92217915 0.78055269\n",
            "  0.74240143 1.03942997 0.15043268 0.74236699 0.10011639 0.90159095\n",
            "  0.19827575 0.92878782 0.79417974 0.89259255 0.68115442 0.19847757\n",
            "  0.79461246 1.28272464 0.59116458 0.63131343]\n",
            " [0.34425991 0.61504402 0.46986721 0.72151488 0.2834259  0.4537208\n",
            "  0.25332643 0.59776442 0.21944608 1.09748751 0.45463305 0.34465899\n",
            "  0.44482607 0.79124422 0.65570739 0.71076844 0.24666602 0.74166855\n",
            "  0.58404716 0.15060711 0.36145828 0.74926926 0.20198722 0.43460571\n",
            "  0.67128446 0.54279078 0.62993551 0.30528981 1.00063564 0.\n",
            "  0.48855369 0.40178251 0.66047289 0.64534831 0.1572927  0.25929457\n",
            "  0.70490172 0.97796401 0.858041   0.73920738 0.41598897 0.27273169\n",
            "  0.50933087 0.28921041 0.06308368 0.06446332 0.8803354  0.25767036\n",
            "  0.73947441 0.13353797 0.18030938 0.47988406 0.69863921 0.71759544\n",
            "  0.69663839 0.67753789 0.41739549 0.670015   0.78234944 0.69634029\n",
            "  0.48437913 0.53002983 0.62373595 0.67720375 0.40633968 0.5846313\n",
            "  0.29988703 0.66097823 0.90524027 0.74535079 0.63089617 0.70818318\n",
            "  0.23499273 0.69041735 0.62208944 0.87077629 0.18548543 0.56479205\n",
            "  0.26616566 0.31064906 0.17613631 1.03824742 0.48176027 0.29623373\n",
            "  0.4174455  0.28134225 0.85710547 0.2673538  1.0226791  0.11356784\n",
            "  0.97154449 0.29087897 0.59200306 0.38884758 0.5854329  0.81845029\n",
            "  0.68538724 0.2824465  0.4621915  0.41998475]\n",
            " [0.73719372 0.59924877 0.11780187 0.28949256 0.59413114 0.266833\n",
            "  0.69450943 0.12003303 0.49806277 0.88130072 0.08686633 0.24103751\n",
            "  0.42465282 0.72094492 0.31202654 0.27116737 0.25143078 0.92328698\n",
            "  0.14698381 0.60764835 0.48480262 0.58802189 0.32208046 0.63210193\n",
            "  0.19425593 0.79936996 0.16995634 0.21275532 0.77929959 0.48855369\n",
            "  0.         0.21061523 0.29525871 0.28911402 0.46824012 0.5677771\n",
            "  0.37323027 0.78886664 0.87407141 0.71793511 0.19383196 0.22451462\n",
            "  0.62313307 0.54911032 0.49860407 0.53515263 0.78314021 0.66713045\n",
            "  0.80686602 0.58777093 0.61921059 0.00872084 0.70685972 0.58818764\n",
            "  0.96182526 0.27018239 0.80614559 0.65946817 0.40589904 0.68192119\n",
            "  0.63113907 0.7994137  0.34582905 0.7842696  0.13869074 0.19853253\n",
            "  0.29596406 0.62184749 0.64891705 0.9356329  0.14424592 0.88105581\n",
            "  0.26486854 0.91404487 0.191865   0.52328619 0.39967862 0.48803622\n",
            "  0.41032201 0.45206781 0.35078596 0.79840692 0.14288645 0.55182973\n",
            "  0.09523022 0.72624423 0.63324911 0.31789553 0.84525206 0.47672272\n",
            "  0.8507295  0.229427   0.10681291 0.14090442 0.76896891 0.58312331\n",
            "  0.19854646 0.71325268 0.54813759 0.53509527]\n",
            " [0.566865   0.39844314 0.10800254 0.32925479 0.41412222 0.07690842\n",
            "  0.64702542 0.25810474 0.32764127 0.75964566 0.26067436 0.33279077\n",
            "  0.21506248 0.53830883 0.25449612 0.32235297 0.25030039 0.71268814\n",
            "  0.35754744 0.54709436 0.27998786 0.4296532  0.20005513 0.42669988\n",
            "  0.39075032 0.59503458 0.37740401 0.26414566 0.65724937 0.40178251\n",
            "  0.21061523 0.         0.25875052 0.24356598 0.31945869 0.39115108\n",
            "  0.3066819  0.65190159 0.67696807 0.52331184 0.02023141 0.1562537\n",
            "  0.4125579  0.36270825 0.43723378 0.42686311 0.61096864 0.50928159\n",
            "  0.60095407 0.46082493 0.56991909 0.20483813 0.50634059 0.41733572\n",
            "  0.75528807 0.28058714 0.62992753 0.46042397 0.38073803 0.48451931\n",
            "  0.42150002 0.59676082 0.23402149 0.5748305  0.27256552 0.19046663\n",
            "  0.11742274 0.4267892  0.54104688 0.72510281 0.30239485 0.67044689\n",
            "  0.26044394 0.70481218 0.23908779 0.47419071 0.24936142 0.29296956\n",
            "  0.22607361 0.25531157 0.33834725 0.68640916 0.3248564  0.36396677\n",
            "  0.12188866 0.57872059 0.50686731 0.15039596 0.70500162 0.34431215\n",
            "  0.68874207 0.27295035 0.30213169 0.25856067 0.5591338  0.46044771\n",
            "  0.37825352 0.67269845 0.33759791 0.3261303 ]\n",
            " [0.79224153 0.4403586  0.21593999 0.1115232  0.63633084 0.22120214\n",
            "  0.9036357  0.21785456 0.56469954 0.59249281 0.38184084 0.52206119\n",
            "  0.35012985 0.50120069 0.02936459 0.12130657 0.48228077 0.81341001\n",
            "  0.39545894 0.8047415  0.46810954 0.34308657 0.45880159 0.59498793\n",
            "  0.35598553 0.75548441 0.38000746 0.47190355 0.49227391 0.66047289\n",
            "  0.29525871 0.25875052 0.         0.01653947 0.56954168 0.61849899\n",
            "  0.08051037 0.51022702 0.67800143 0.52581091 0.24481838 0.40260742\n",
            "  0.53796365 0.58041905 0.69410212 0.6845325  0.54145551 0.74706955\n",
            "  0.64890183 0.71433825 0.82628271 0.29782893 0.53405884 0.36153858\n",
            "  0.89778903 0.06164739 0.84666828 0.48660585 0.12392096 0.50135487\n",
            "  0.56356191 0.76343127 0.10845068 0.65344555 0.42779488 0.09773978\n",
            "  0.36927184 0.44147894 0.35876897 0.82920713 0.24794847 0.77218644\n",
            "  0.49472514 0.83073055 0.11856387 0.23199975 0.50210593 0.33256242\n",
            "  0.45967604 0.46767449 0.58049516 0.50713859 0.43626234 0.5795048\n",
            "  0.28525304 0.82103543 0.35330172 0.40351166 0.56739222 0.59893701\n",
            "  0.59258475 0.48584101 0.3022394  0.42425477 0.68685885 0.3034512\n",
            "  0.31480864 0.92837627 0.47476132 0.48634   ]\n",
            " [0.77571057 0.42796766 0.2049796  0.12509817 0.61979783 0.20477715\n",
            "  0.88918483 0.21777048 0.54822424 0.5952002  0.37528256 0.51269634\n",
            "  0.33419091 0.49342059 0.02429307 0.13320794 0.46991611 0.8000485\n",
            "  0.39430395 0.79003746 0.45175247 0.33706703 0.44355537 0.57914874\n",
            "  0.35915932 0.74005391 0.3809721  0.46109154 0.49432636 0.64534831\n",
            "  0.28911402 0.24356598 0.01653947 0.         0.55334811 0.60196013\n",
            "  0.08415598 0.51023485 0.66892968 0.51592546 0.2300612  0.38891597\n",
            "  0.52307362 0.563894   0.6795565  0.66886664 0.53604459 0.73056505\n",
            "  0.63735229 0.69825777 0.81186744 0.29124721 0.52294145 0.35360267\n",
            "  0.88305197 0.07282805 0.83020225 0.47526911 0.13780622 0.49057366\n",
            "  0.54828386 0.74784825 0.09682151 0.64057831 0.41979574 0.09059084\n",
            "  0.3533423  0.4303615  0.3616982  0.81574236 0.25017944 0.75870598\n",
            "  0.48223666 0.81646637 0.11963926 0.24242043 0.4860714  0.31918621\n",
            "  0.44321089 0.45114289 0.56757876 0.51067976 0.43099158 0.56298943\n",
            "  0.27444172 0.80457451 0.35318541 0.38758933 0.56734299 0.58296735\n",
            "  0.58935515 0.47477532 0.30189698 0.4156036  0.67228407 0.30306484\n",
            "  0.31935346 0.91410908 0.45934043 0.47044933]\n",
            " [0.27224269 0.46017933 0.41251226 0.6484981  0.15317225 0.3497569\n",
            "  0.39760324 0.55826297 0.06540749 0.9531424  0.46268203 0.40421078\n",
            "  0.30105602 0.63680813 0.55890973 0.6418021  0.27988273 0.59841583\n",
            "  0.59228791 0.29710909 0.20551183 0.60586104 0.14691012 0.2834872\n",
            "  0.6620483  0.41094422 0.6305362  0.34191467 0.85883031 0.1572927\n",
            "  0.46824012 0.31945869 0.56954168 0.55334811 0.         0.12463612\n",
            "  0.60011191 0.83203521 0.70088187 0.58274248 0.33792348 0.24685691\n",
            "  0.35258049 0.13983167 0.21952132 0.13745266 0.72657459 0.19889077\n",
            "  0.58326742 0.14618511 0.33093632 0.45973364 0.54157675 0.570999\n",
            "  0.57282229 0.59869895 0.3442837  0.51384757 0.6850659  0.54002673\n",
            "  0.32912111 0.40165773 0.51283016 0.52275317 0.42978553 0.50986287\n",
            "  0.20243701 0.50672863 0.77202573 0.60383699 0.59814552 0.56259048\n",
            "  0.27414131 0.5548223  0.55746401 0.76013605 0.07103729 0.41881588\n",
            "  0.12314801 0.15708383 0.26450981 0.89859153 0.50734238 0.14650907\n",
            "  0.37950888 0.26160555 0.71962717 0.16906494 0.87451849 0.04473145\n",
            "  0.81847906 0.33324785 0.57494416 0.41022933 0.43819901 0.68450873\n",
            "  0.6647324  0.42868436 0.30521322 0.26278758]\n",
            " [0.17600973 0.40854308 0.49474699 0.71003954 0.02880276 0.39918057\n",
            "  0.46421811 0.64507309 0.0709696  0.92181705 0.57340393 0.52728147\n",
            "  0.29663361 0.58202478 0.60270472 0.70666188 0.40165716 0.48247971\n",
            "  0.70032745 0.37311327 0.1717953  0.5833035  0.25792847 0.18073492\n",
            "  0.76172886 0.28801937 0.73497176 0.46269663 0.83396666 0.25929457\n",
            "  0.5677771  0.39115108 0.61849899 0.60196013 0.12463612 0.\n",
            "  0.63409762 0.79893309 0.61724106 0.51776864 0.41118241 0.35613694\n",
            "  0.27084333 0.04831914 0.32171708 0.21397735 0.67291086 0.13405429\n",
            "  0.49264854 0.17732714 0.40964236 0.55964169 0.47139711 0.54230078\n",
            "  0.44854835 0.65712944 0.23976454 0.45277629 0.72409112 0.4771949\n",
            "  0.23862506 0.27776946 0.54366489 0.42536807 0.54580069 0.57500565\n",
            "  0.27787604 0.45623959 0.76397773 0.48648974 0.68757467 0.44892244\n",
            "  0.39682514 0.43381092 0.6282549  0.78290143 0.17505766 0.39864941\n",
            "  0.16510654 0.1522606  0.38860143 0.87720782 0.62241021 0.05370904\n",
            "  0.47453963 0.21202382 0.70552509 0.25097761 0.83552839 0.15371157\n",
            "  0.76603378 0.45509894 0.67287274 0.52616956 0.3266669  0.67735585\n",
            "  0.75894276 0.49631346 0.24664317 0.20418404]\n",
            " [0.80358774 0.40129678 0.28495366 0.16714855 0.64896968 0.25248579\n",
            "  0.95307604 0.29817711 0.58677638 0.51201812 0.45927836 0.59423996\n",
            "  0.3480726  0.43857489 0.0615465  0.18342153 0.54478943 0.77793216\n",
            "  0.47593455 0.85240764 0.47315354 0.27603498 0.50329454 0.58715929\n",
            "  0.43368201 0.74038332 0.45967223 0.54015566 0.41177472 0.70490172\n",
            "  0.37323027 0.3066819  0.08051037 0.08415598 0.60011191 0.63409762\n",
            "  0.         0.4306342  0.61939194 0.47174975 0.29646299 0.45900305\n",
            "  0.51825067 0.59245931 0.74336853 0.72289043 0.47112008 0.76615702\n",
            "  0.60252057 0.74625385 0.87616294 0.37526927 0.48616754 0.30103882\n",
            "  0.8739294  0.13193004 0.85286022 0.44044312 0.09215021 0.45198748\n",
            "  0.54805808 0.75038103 0.09059605 0.61532338 0.50295982 0.174699\n",
            "  0.40670991 0.39467707 0.27831308 0.79443949 0.32691894 0.73781724\n",
            "  0.55664893 0.8026052  0.1987373  0.16762296 0.53626224 0.30303561\n",
            "  0.48338022 0.48184165 0.64013071 0.42691075 0.51514151 0.59060472\n",
            "  0.35419994 0.8422409  0.27401377 0.44055889 0.48780623 0.6334159\n",
            "  0.51717435 0.55323857 0.38257134 0.49815677 0.66250907 0.22458233\n",
            "  0.39080966 0.97913059 0.46224346 0.48067983]\n",
            " [0.92173949 0.3943622  0.68211659 0.58565176 0.79820634 0.5755333\n",
            "  1.22844016 0.72781777 0.78749269 0.12296447 0.87068935 0.98138207\n",
            "  0.5331999  0.24480893 0.48594462 0.60527648 0.89981473 0.65288638\n",
            "  0.90442279 1.12646142 0.63445305 0.22983223 0.80152525 0.65783473\n",
            "  0.8637079  0.73830674 0.89018687 0.91549705 0.06440651 0.97796401\n",
            "  0.78886664 0.65190159 0.51022702 0.51023485 0.83203521 0.79893309\n",
            "  0.4306342  0.         0.37340003 0.32503474 0.65273658 0.80219969\n",
            "  0.55346184 0.75068902 1.03238866 0.96948697 0.17649828 0.92491405\n",
            "  0.4520949  0.96334721 1.1580994  0.78906    0.37484675 0.26103882\n",
            "  0.80067102 0.56115954 0.93974176 0.36665899 0.4526782  0.3502256\n",
            "  0.59355833 0.75711602 0.44337151 0.51416041 0.90460966 0.59615798\n",
            "  0.70009843 0.34805836 0.16818969 0.67060822 0.75755015 0.62767018\n",
            "  0.9087146  0.7166398  0.62877133 0.35858817 0.79260221 0.41360104\n",
            "  0.71266842 0.67607905 0.97763517 0.10950704 0.93145196 0.74525976\n",
            "  0.74473156 1.00101841 0.1570495  0.72532887 0.05717357 0.87558723\n",
            "  0.13485126 0.92480133 0.81208009 0.8954173  0.62817584 0.20723086\n",
            "  0.81955416 1.2588875  0.55349512 0.59497175]\n",
            " [0.67890846 0.27906503 0.75636519 0.78431519 0.6036504  0.60890015\n",
            "  1.08141185 0.86323553 0.63936842 0.46714999 0.93655867 0.99242847\n",
            "  0.47340704 0.18383596 0.64863735 0.79788977 0.8793441  0.2956192\n",
            "  1.01612795 0.98829554 0.50229804 0.34792441 0.73941239 0.43872433\n",
            "  1.01345271 0.4405863  1.02091574 0.91830802 0.43686053 0.858041\n",
            "  0.87407141 0.67696807 0.67800143 0.66892968 0.70088187 0.61724106\n",
            "  0.61939194 0.37340003 0.         0.15669636 0.68849898 0.78617148\n",
            "  0.34934441 0.57588323 0.92039465 0.82599997 0.20055364 0.71327619\n",
            "  0.1300534  0.79442752 1.0242986  0.87051398 0.1724109  0.31836304\n",
            "  0.45278818 0.73955814 0.67151391 0.21662129 0.68692521 0.19261512\n",
            "  0.37866809 0.46190218 0.57338589 0.20608115 0.94830708 0.72629745\n",
            "  0.66061594 0.25222766 0.4808131  0.31211704 0.90446824 0.28119298\n",
            "  0.88330339 0.37094293 0.77901654 0.64251772 0.69294239 0.3862596\n",
            "  0.61108499 0.55620272 0.92495866 0.48288643 1.00108847 0.56894993\n",
            "  0.79689294 0.77822191 0.4227239  0.6701971  0.36772512 0.74454603\n",
            "  0.25452585 0.92125494 0.93810523 0.93300858 0.33338368 0.44595361\n",
            "  0.98059988 1.11349962 0.39976155 0.43978008]\n",
            " [0.61400108 0.13076227 0.60016366 0.6340337  0.51006962 0.45365355\n",
            "  0.9753229  0.70689634 0.52599528 0.44181076 0.78178968 0.84414196\n",
            "  0.32672514 0.08024918 0.4964964  0.64658821 0.73505778 0.34529351\n",
            "  0.85955554 0.87781138 0.37776867 0.21295695 0.60157085 0.35315891\n",
            "  0.85717532 0.41382147 0.86423748 0.77053288 0.37940314 0.73920738\n",
            "  0.71793511 0.52331184 0.52581091 0.51592546 0.58274248 0.51776864\n",
            "  0.47174975 0.32503474 0.15669636 0.         0.53403985 0.63973035\n",
            "  0.24996246 0.47195513 0.79992501 0.7150581  0.1631404  0.63100509\n",
            "  0.1442661  0.69320281 0.9126726  0.71451953 0.05119363 0.17414334\n",
            "  0.4822536  0.58745736 0.62338103 0.06985623 0.54544689 0.04317416\n",
            "  0.28767957 0.43301437 0.41961759 0.19235793 0.79554654 0.57040852\n",
            "  0.51603533 0.09659822 0.38038591 0.36325938 0.74841039 0.31363154\n",
            "  0.74000422 0.39898198 0.62386559 0.51653437 0.5641763  0.23093215\n",
            "  0.48055473 0.42961832 0.78804465 0.42772983 0.8463827  0.46548894\n",
            "  0.64219789 0.70306935 0.31547685 0.52914283 0.34394528 0.62738765\n",
            "  0.25421879 0.77452852 0.78143872 0.78077598 0.30323323 0.32505886\n",
            "  0.8249221  1.00711923 0.27798682 0.32117824]\n",
            " [0.58682782 0.41065031 0.08816824 0.31150247 0.43425501 0.08215688\n",
            "  0.65924535 0.23795779 0.34735809 0.7587327  0.24809861 0.32938472\n",
            "  0.23085688 0.54639364 0.24236761 0.3040168  0.25385118 0.7300033\n",
            "  0.34079664 0.55997905 0.29961286 0.43287006 0.21498919 0.44610796\n",
            "  0.37154072 0.61450062 0.35928693 0.26285117 0.65609807 0.41598897\n",
            "  0.19383196 0.02023141 0.24481838 0.2300612  0.33792348 0.41118241\n",
            "  0.29646299 0.65273658 0.68849898 0.53403985 0.         0.16305093\n",
            "  0.43002523 0.38292388 0.44954772 0.44294059 0.61722467 0.52871959\n",
            "  0.61506468 0.478382   0.58197976 0.18844408 0.5186206  0.42271496\n",
            "  0.77437538 0.26375799 0.65005996 0.47221725 0.36773027 0.49589948\n",
            "  0.43982926 0.61640916 0.22776337 0.59059117 0.26379991 0.17263312\n",
            "  0.13649387 0.43744226 0.53764122 0.74260114 0.28232059 0.68771157\n",
            "  0.26465598 0.72321415 0.21989342 0.46407822 0.26751679 0.30319748\n",
            "  0.2461387  0.27549202 0.34508143 0.68408599 0.31259482 0.38419375\n",
            "  0.10846556 0.59774895 0.5056716  0.16893787 0.70644398 0.36175504\n",
            "  0.69343205 0.27271474 0.28318463 0.25080163 0.5772964  0.45848409\n",
            "  0.3583902  0.68443886 0.35519167 0.34482139]\n",
            " [0.51862526 0.5095118  0.19889068 0.45196661 0.38405254 0.22865061\n",
            "  0.5033721  0.32653447 0.28517129 0.91266082 0.21736946 0.207338\n",
            "  0.31332446 0.66738209 0.40330947 0.44001963 0.0983434  0.76905698\n",
            "  0.34576759 0.4072524  0.31676843 0.5759214  0.10007085 0.45596373\n",
            "  0.41665331 0.61494499 0.38373848 0.13292935 0.81072582 0.27273169\n",
            "  0.22451462 0.1562537  0.40260742 0.38891597 0.24685691 0.35613694\n",
            "  0.45900305 0.80219969 0.78617148 0.63973035 0.16305093 0.\n",
            "  0.47709468 0.34642245 0.29566114 0.31338316 0.74652952 0.44505098\n",
            "  0.69302607 0.36354147 0.42596636 0.21583834 0.61385329 0.55788597\n",
            "  0.78041007 0.4111461  0.58965515 0.57211915 0.52649707 0.59805847\n",
            "  0.47296721 0.61116885 0.39002142 0.65257473 0.19289596 0.31811227\n",
            "  0.12644325 0.54577192 0.6967574  0.77869333 0.36205035 0.72841915\n",
            "  0.10654136 0.74469228 0.35094109 0.62649052 0.18190274 0.41851725\n",
            "  0.21670714 0.27033616 0.18221558 0.84118363 0.26756209 0.35052006\n",
            "  0.14505141 0.50208468 0.66065904 0.12666425 0.85393096 0.25237397\n",
            "  0.82913608 0.1350861  0.33114554 0.17352923 0.60715641 0.61514976\n",
            "  0.42292525 0.52696837 0.40540633 0.37841278]\n",
            " [0.36871972 0.16252337 0.51498131 0.64753943 0.26094361 0.36918995\n",
            "  0.73362344 0.65442671 0.29020298 0.675531   0.66465521 0.6827679\n",
            "  0.2033485  0.32029713 0.51285198 0.65253019 0.56045201 0.30017704\n",
            "  0.76996586 0.63929551 0.16439616 0.36407981 0.4104547  0.10484\n",
            "  0.79799853 0.22332229 0.78912913 0.60887836 0.59762473 0.50933087\n",
            "  0.62313307 0.4125579  0.53796365 0.52307362 0.35258049 0.27084333\n",
            "  0.51825067 0.55346184 0.34934441 0.24996246 0.43002523 0.47709468\n",
            "  0.         0.22739354 0.5719699  0.47677708 0.41008409 0.38107825\n",
            "  0.23115914 0.44793989 0.67516253 0.6171858  0.2016914  0.31702424\n",
            "  0.36019077 0.59333605 0.38810269 0.1900106  0.60886273 0.21184921\n",
            "  0.04017346 0.23538993 0.43520842 0.1774408  0.66066706 0.53892031\n",
            "  0.35278838 0.20615035 0.55532311 0.3125781  0.69957714 0.25801121\n",
            "  0.56177536 0.29785393 0.59808741 0.62881138 0.35206136 0.21764276\n",
            "  0.27511217 0.21752801 0.59015711 0.64411653 0.72608525 0.22056738\n",
            "  0.53173678 0.45376999 0.49059436 0.35153706 0.58280021 0.39576321\n",
            "  0.50272527 0.60825701 0.71138294 0.64278844 0.15117086 0.47602549\n",
            "  0.77839483 0.76565915 0.0750558  0.09989542]\n",
            " [0.2119187  0.36085359 0.46870714 0.67496711 0.0565185  0.36344468\n",
            "  0.50623166 0.61957153 0.07489045 0.87355874 0.56177557 0.52956424\n",
            "  0.25114745 0.53498194 0.56343116 0.67263046 0.40270775 0.45860118\n",
            "  0.68594    0.41245882 0.12488947 0.53508736 0.25251522 0.14542075\n",
            "  0.74186561 0.27575478 0.71803995 0.46167936 0.78565133 0.28921041\n",
            "  0.54911032 0.36270825 0.58041905 0.563894   0.13983167 0.04831914\n",
            "  0.59245931 0.75068902 0.57588323 0.47195513 0.38292388 0.34642245\n",
            "  0.22739354 0.         0.35228056 0.25065841 0.62587679 0.18053408\n",
            "  0.45331049 0.22135533 0.44858123 0.54125395 0.42636963 0.49399075\n",
            "  0.44022442 0.62141978 0.26875035 0.40620764 0.68314428 0.4309436\n",
            "  0.19776632 0.26883981 0.50187628 0.38864588 0.53878737 0.54192321\n",
            "  0.25434167 0.40856707 0.71629217 0.4641672  0.66296497 0.42281898\n",
            "  0.39943408 0.41671321 0.59665567 0.73869386 0.1720951  0.35079891\n",
            "  0.13922197 0.11288627 0.40180189 0.82892457 0.61398269 0.00705074\n",
            "  0.45454175 0.25868039 0.65754446 0.23144465 0.78750694 0.17765457\n",
            "  0.71897237 0.45570748 0.65254282 0.5192503  0.2985777  0.62982717\n",
            "  0.7362178  0.53826567 0.19888056 0.15614613]\n",
            " [0.39519114 0.67471017 0.49448876 0.74761081 0.34526883 0.49519237\n",
            "  0.20979165 0.6127418  0.2823516  1.15096739 0.45438711 0.32660897\n",
            "  0.50016157 0.8504494  0.69160796 0.73542473 0.24833951 0.80376425\n",
            "  0.58032783 0.11159891 0.42223834 0.80300876 0.24188395 0.49766372\n",
            "  0.67307174 0.60339244 0.62844861 0.30021046 1.05305917 0.06308368\n",
            "  0.49860407 0.43723378 0.69410212 0.6795565  0.21952132 0.32171708\n",
            "  0.74336853 1.03238866 0.92039465 0.79992501 0.44954772 0.29566114\n",
            "  0.5719699  0.35228056 0.         0.11593894 0.93904243 0.30907413\n",
            "  0.80231936 0.18158435 0.13281227 0.49012451 0.76002609 0.77286228\n",
            "  0.75522134 0.70637369 0.46680819 0.73052335 0.81727534 0.75695039\n",
            "  0.54735372 0.59007711 0.66528156 0.74026478 0.40148071 0.61323513\n",
            "  0.34399002 0.72021287 0.9540614  0.80717701 0.64265696 0.77062765\n",
            "  0.23528802 0.75131726 0.6462772  0.91041663 0.2407718  0.62030449\n",
            "  0.32350179 0.37055734 0.15891494 1.08960619 0.47336391 0.35930624\n",
            "  0.43658016 0.32153684 0.90791763 0.31334412 1.07815744 0.17633788\n",
            "  1.02975595 0.28427125 0.59830022 0.38562448 0.64814782 0.86787222\n",
            "  0.69151469 0.2359974  0.52359627 0.48171365]\n",
            " [0.28102728 0.59515532 0.5050076  0.75306647 0.2349146  0.47040992\n",
            "  0.26116282 0.63984972 0.18906398 1.09057104 0.50788561 0.40615153\n",
            "  0.43809841 0.77183936 0.67717843 0.74376829 0.30178852 0.69253044\n",
            "  0.63836146 0.16291196 0.34046931 0.74315265 0.22896667 0.39395227\n",
            "  0.72208266 0.48947913 0.68282754 0.36246912 0.99602972 0.06446332\n",
            "  0.53515263 0.42686311 0.6845325  0.66886664 0.13745266 0.21397735\n",
            "  0.72289043 0.96948697 0.82599997 0.7150581  0.44294059 0.31338316\n",
            "  0.47677708 0.25065841 0.11593894 0.         0.86202735 0.19449836\n",
            "  0.70396566 0.06908553 0.19843509 0.52643362 0.67201388 0.7084514\n",
            "  0.63962456 0.70662921 0.35371382 0.64695803 0.80414661 0.67278147\n",
            "  0.44840634 0.47555238 0.63833912 0.63848896 0.46234505 0.61468697\n",
            "  0.31652601 0.64213258 0.90732186 0.6951993  0.67520373 0.66069154\n",
            "  0.29103853 0.6376441  0.65612713 0.88635636 0.188198   0.55623306\n",
            "  0.25894899 0.29407743 0.23904851 1.03548705 0.53887944 0.25767288\n",
            "  0.45806037 0.21732739 0.85598276 0.28245724 1.01182992 0.09460442\n",
            "  0.95429945 0.34889342 0.64035452 0.44422293 0.53987048 0.81991541\n",
            "  0.73335742 0.29262894 0.43713071 0.39388009]\n",
            " [0.77652465 0.2669726  0.6675499  0.63799472 0.66744473 0.53520387\n",
            "  1.1231857  0.74750484 0.6740143  0.28402381 0.85688861 0.94269393\n",
            "  0.44501284 0.09089555 0.51304584 0.65452957 0.84453782 0.4766535\n",
            "  0.91503426 1.02361429 0.52158054 0.19941357 0.72468332 0.51438662\n",
            "  0.89406323 0.57390495 0.91068025 0.87156288 0.23827825 0.8803354\n",
            "  0.78314021 0.61096864 0.54145551 0.53604459 0.72657459 0.67291086\n",
            "  0.47112008 0.17649828 0.20055364 0.1631404  0.61722467 0.74652952\n",
            "  0.41008409 0.62587679 0.93904243 0.86202735 0.         0.79059373\n",
            "  0.27716078 0.84569148 1.05746205 0.7813837  0.21427271 0.19546232\n",
            "  0.62597617 0.6006309  0.78649236 0.22086893 0.52324023 0.19825441\n",
            "  0.44882433 0.59363895 0.44854329 0.34280508 0.88037538 0.60890962\n",
            "  0.63008656 0.21990842 0.28552708 0.49432334 0.78429065 0.45239967\n",
            "  0.85133556 0.54194286 0.65402185 0.46008368 0.69913282 0.32922383\n",
            "  0.61569891 0.57004278 0.90920231 0.28546517 0.92077508 0.61972106\n",
            "  0.7207654  0.86384896 0.23345707 0.64913039 0.18402983 0.77124478\n",
            "  0.09312813 0.87803662 0.82856108 0.86796311 0.46245152 0.26654523\n",
            "  0.85537435 1.15462737 0.42771998 0.47113478]\n",
            " [0.08659343 0.53134258 0.60772932 0.83458577 0.12757153 0.52624342\n",
            "  0.39071744 0.75544046 0.18295472 1.04786721 0.65909011 0.58359673\n",
            "  0.4306857  0.70022625 0.73260583 0.82979892 0.466171   0.53040307\n",
            "  0.78945148 0.31831849 0.30533952 0.71368846 0.34548606 0.27881206\n",
            "  0.86088657 0.31966648 0.82873909 0.52903515 0.96249207 0.25767036\n",
            "  0.66713045 0.50928159 0.74706955 0.73056505 0.19889077 0.13405429\n",
            "  0.76615702 0.92491405 0.71327619 0.63100509 0.52871959 0.44505098\n",
            "  0.38107825 0.18053408 0.30907413 0.19449836 0.79059373 0.\n",
            "  0.58432453 0.12765019 0.35430807 0.65862132 0.58214063 0.67141249\n",
            "  0.4556808  0.78270868 0.16003656 0.56979346 0.85543221 0.59262696\n",
            "  0.34371642 0.3023003  0.6759644  0.51115411 0.62254662 0.69751299\n",
            "  0.39236572 0.57859712 0.89647274 0.52996337 0.79603217 0.50439307\n",
            "  0.45807015 0.46565759 0.74833185 0.91658531 0.26840325 0.53086258\n",
            "  0.28788867 0.28493493 0.42415287 1.00656242 0.70042819 0.18453185\n",
            "  0.5779871  0.07814632 0.83714564 0.36131444 0.95899788 0.1973806\n",
            "  0.88347647 0.51807394 0.77383154 0.60324417 0.39432851 0.81018873\n",
            "  0.86344284 0.4219132  0.3716107  0.33123936]\n",
            " [0.54885607 0.21258074 0.69105365 0.75950127 0.47747924 0.54034488\n",
            "  0.95658281 0.81260942 0.52003283 0.56052696 0.86131952 0.90035868\n",
            "  0.38780347 0.21623727 0.62006555 0.77017583 0.78204573 0.20318849\n",
            "  0.95249412 0.865307   0.39225007 0.35563091 0.63604966 0.31250443\n",
            "  0.9622821  0.31352788 0.96323679 0.82595408 0.51114144 0.73947441\n",
            "  0.80686602 0.60095407 0.64890183 0.63735229 0.58326742 0.49264854\n",
            "  0.60252057 0.4520949  0.1300534  0.1442661  0.61506468 0.69302607\n",
            "  0.23115914 0.45331049 0.80231936 0.70396566 0.27716078 0.58432453\n",
            "  0.         0.66914603 0.90162284 0.80228686 0.11652581 0.31390478\n",
            "  0.34883311 0.71003879 0.54236281 0.16250139 0.68120006 0.15141004\n",
            "  0.25565014 0.33462646 0.54063655 0.07643235 0.86628963 0.68095801\n",
            "  0.56659886 0.20808899 0.52370841 0.22115647 0.85603342 0.17558839\n",
            "  0.78465329 0.26479163 0.73742952 0.65921201 0.58222095 0.32654723\n",
            "  0.50305719 0.44625443 0.81882236 0.55926359 0.92507128 0.44629311\n",
            "  0.72279848 0.64844461 0.45929244 0.57143184 0.46002221 0.6259829\n",
            "  0.35435812 0.82716037 0.88151352 0.84971374 0.20438013 0.46915171\n",
            "  0.93428858 0.98868121 0.29181657 0.32782635]\n",
            " [0.21360698 0.57932646 0.54728427 0.78988084 0.19202174 0.49544137\n",
            "  0.28747954 0.68759145 0.17619624 1.08559601 0.56668454 0.47249478\n",
            "  0.43959702 0.75487525 0.70444331 0.7820725  0.36358234 0.64162615\n",
            "  0.69763997 0.20107159 0.32892829 0.74101355 0.27096878 0.35665754\n",
            "  0.77778325 0.43454997 0.7406379  0.42540973 0.99394879 0.13353797\n",
            "  0.58777093 0.46082493 0.71433825 0.69825777 0.14618511 0.17732714\n",
            "  0.74625385 0.96334721 0.79442752 0.69320281 0.478382   0.36354147\n",
            "  0.44793989 0.22135533 0.18158435 0.06908553 0.84569148 0.12765019\n",
            "  0.66914603 0.         0.23788298 0.57906576 0.64771039 0.70332713\n",
            "  0.57933026 0.74129105 0.28551424 0.62696049 0.83083827 0.65196364\n",
            "  0.41590993 0.41921071 0.65899947 0.60038924 0.52378727 0.65100951\n",
            "  0.3454802  0.62693867 0.91285522 0.64306329 0.72488061 0.61192932\n",
            "  0.3536361  0.58256616 0.69600731 0.90618696 0.21232106 0.55351858\n",
            "  0.26703078 0.28973171 0.30691227 1.03521527 0.60103277 0.22794496\n",
            "  0.50590832 0.14952851 0.85839962 0.31139464 1.00291531 0.11666879\n",
            "  0.93864691 0.41258464 0.69403183 0.50520452 0.49432008 0.82532973\n",
            "  0.78630817 0.3195715  0.41797558 0.37456041]\n",
            " [0.43235522 0.79110674 0.62411048 0.87711923 0.42784202 0.62782381\n",
            "  0.07742823 0.73611326 0.38701692 1.27776613 0.56636117 0.42166595\n",
            "  0.62490348 0.96774443 0.8241903  0.86426295 0.36799957 0.87919702\n",
            "  0.68634733 0.03682109 0.5363497  0.92954619 0.37440235 0.59036681\n",
            "  0.78413649 0.67093405 0.73639355 0.41180183 1.18093183 0.18030938\n",
            "  0.61921059 0.56991909 0.82628271 0.81186744 0.33093632 0.40964236\n",
            "  0.87616294 1.1580994  1.0242986  0.9126726  0.58197976 0.42596636\n",
            "  0.67516253 0.44858123 0.13281227 0.19843509 1.05746205 0.35430807\n",
            "  0.90162284 0.23788298 0.         0.61097796 0.87014662 0.89755055\n",
            "  0.80965974 0.83711226 0.49543745 0.8441942  0.94964103 0.87019607\n",
            "  0.64630716 0.65477763 0.79796883 0.83501004 0.50983948 0.74406673\n",
            "  0.4759379  0.83765031 1.08458105 0.88027578 0.76335631 0.84980063\n",
            "  0.35449682 0.81842061 0.77512769 1.04322885 0.3657846  0.74473577\n",
            "  0.4457417  0.48753973 0.26905446 1.21841515 0.57576876 0.45555873\n",
            "  0.56387705 0.33615415 1.03713059 0.44463096 1.20245506 0.28623336\n",
            "  1.14922457 0.39505928 0.71460916 0.49616011 0.73187262 0.99801848\n",
            "  0.80683425 0.10335497 0.63469334 0.5916276 ]\n",
            " [0.72884621 0.59518087 0.11479287 0.29497635 0.58606026 0.26262536\n",
            "  0.68635874 0.12740026 0.48985196 0.88233481 0.08404692 0.23518394\n",
            "  0.41929605 0.71844528 0.31392338 0.27692057 0.24311747 0.91736049\n",
            "  0.15278076 0.59926435 0.47790766 0.58680287 0.31350751 0.62517421\n",
            "  0.20260147 0.79229141 0.17735463 0.20521659 0.78020031 0.47988406\n",
            "  0.00872084 0.20483813 0.29782893 0.29124721 0.45973364 0.55964169\n",
            "  0.37526927 0.78906    0.87051398 0.71451953 0.18844408 0.21583834\n",
            "  0.6171858  0.54125395 0.49012451 0.52643362 0.7813837  0.65862132\n",
            "  0.80228686 0.57906576 0.61097796 0.         0.70288917 0.58626911\n",
            "  0.95493325 0.27435514 0.79789329 0.65561491 0.40974015 0.67823619\n",
            "  0.62480109 0.7922005  0.34579694 0.77902813 0.13361562 0.2006759\n",
            "  0.2883699  0.61831976 0.65025267 0.9296164  0.15261713 0.87515744\n",
            "  0.2565717  0.90756783 0.19641409 0.52669466 0.39126444 0.48434707\n",
            "  0.4025609  0.44470966 0.34268063 0.79979292 0.1423921  0.54401891\n",
            "  0.08792771 0.71761718 0.63371513 0.30995623 0.8453412  0.46807355\n",
            "  0.84964516 0.22183395 0.11541736 0.13487122 0.76265756 0.58365197\n",
            "  0.20725753 0.70522291 0.54216189 0.52864908]\n",
            " [0.56346762 0.10797039 0.58964186 0.64420465 0.46255055 0.44036353\n",
            "  0.93141561 0.70439723 0.48312971 0.49249791 0.7666505  0.82002022\n",
            "  0.30099653 0.13029438 0.50505302 0.65536202 0.70741175 0.30820061\n",
            "  0.85071701 0.83492062 0.3381493  0.2431938  0.56935883 0.30369557\n",
            "  0.85460215 0.36349563 0.85843031 0.74591219 0.4278728  0.69863921\n",
            "  0.70685972 0.50634059 0.53405884 0.52294145 0.54157675 0.47139711\n",
            "  0.48616754 0.37484675 0.1724109  0.05119363 0.5186206  0.61385329\n",
            "  0.2016914  0.42636963 0.76002609 0.67201388 0.21427271 0.58214063\n",
            "  0.11652581 0.64771039 0.87014662 0.70288917 0.         0.19940009\n",
            "  0.43833352 0.5954233  0.57222136 0.04842975 0.56472168 0.03537674\n",
            "  0.23844479 0.38247308 0.42612129 0.14889466 0.77678926 0.57040117\n",
            "  0.4884934  0.09258746 0.42065604 0.32597932 0.74707098 0.2736598\n",
            "  0.71160351 0.35597735 0.62583495 0.54555774 0.52712267 0.21969625\n",
            "  0.44409242 0.39114093 0.75550939 0.4761056  0.83104147 0.41976603\n",
            "  0.62708152 0.65352361 0.35481228 0.49892507 0.39496317 0.58601767\n",
            "  0.3049236  0.74893929 0.77603988 0.7612578  0.2534682  0.35915473\n",
            "  0.82470624 0.9633201  0.23645724 0.27886645]\n",
            " [0.67659043 0.15589791 0.47222176 0.46625273 0.54390756 0.34098285\n",
            "  0.96752041 0.55796602 0.52722516 0.38249462 0.66143172 0.74992525\n",
            "  0.27282779 0.13983372 0.332266   0.48031413 0.65622633 0.50668372\n",
            "  0.72197341 0.86566076 0.37488497 0.04789265 0.54620117 0.41656021\n",
            "  0.70654772 0.52793753 0.71995295 0.67981605 0.29169718 0.71759544\n",
            "  0.58818764 0.41733572 0.36153858 0.35360267 0.570999   0.54230078\n",
            "  0.30103882 0.26103882 0.31836304 0.17414334 0.42271496 0.55788597\n",
            "  0.31702424 0.49399075 0.77286228 0.7084514  0.19546232 0.67141249\n",
            "  0.31390478 0.70332713 0.89755055 0.58626911 0.19940009 0.\n",
            "  0.62837713 0.42276277 0.70345544 0.16224182 0.37161305 0.16406488\n",
            "  0.35648087 0.54374083 0.26059608 0.34453473 0.68531512 0.41917585\n",
            "  0.44710232 0.12178401 0.23887901 0.52430725 0.59667084 0.4705717\n",
            "  0.66384828 0.54853013 0.46792074 0.34617435 0.53249067 0.15281555\n",
            "  0.45189083 0.41521601 0.72687941 0.33516157 0.72535025 0.48893763\n",
            "  0.52545112 0.74867018 0.17363678 0.46981588 0.30529671 0.61456106\n",
            "  0.27176812 0.68708334 0.63734072 0.67319064 0.42734565 0.16482375\n",
            "  0.67033875 0.99805012 0.3010212  0.34019454]\n",
            " [0.37917244 0.48244161 0.86203308 1.00766875 0.42060684 0.72303466\n",
            "  0.84027738 1.007174   0.51236163 0.90891748 0.98932794 0.96970486\n",
            "  0.55933044 0.5605218  0.87223879 1.01271133 0.84278428 0.15857354\n",
            "  1.10603387 0.77388906 0.47702795 0.67531201 0.69123754 0.32978428\n",
            "  1.14591166 0.16551892 1.13125576 0.90103052 0.85884034 0.69663839\n",
            "  0.96182526 0.75528807 0.89778903 0.88305197 0.57282229 0.44854835\n",
            "  0.8739294  0.80067102 0.45278818 0.4822536  0.77437538 0.78041007\n",
            "  0.36019077 0.44022442 0.75522134 0.63962456 0.62597617 0.4556808\n",
            "  0.34883311 0.57933026 0.80965974 0.95493325 0.43833352 0.62837713\n",
            "  0.         0.95351508 0.32788477 0.46687468 0.96275879 0.47093383\n",
            "  0.33898405 0.17153876 0.7937371  0.29003807 0.97311629 0.89746355\n",
            "  0.67064849 0.50696489 0.85862764 0.14393911 1.05237803 0.17400111\n",
            "  0.83965614 0.08404736 0.95660042 0.96818971 0.61221718 0.57089542\n",
            "  0.56397602 0.51361742 0.83714117 0.90710981 1.04581885 0.4348788\n",
            "  0.86716491 0.48356525 0.79254802 0.65694371 0.80832467 0.60079551\n",
            "  0.70029591 0.89560963 1.05741805 0.9538668  0.21149395 0.79277882\n",
            "  1.13046024 0.87019887 0.42838211 0.43026341]\n",
            " [0.83234986 0.50079508 0.21431023 0.05478178 0.67656934 0.25810265\n",
            "  0.91451489 0.17479632 0.59975561 0.63705683 0.35666777 0.50676922\n",
            "  0.4006367  0.56228675 0.09098619 0.06040512 0.48206484 0.87250997\n",
            "  0.35231142 0.81782658 0.51387323 0.40307492 0.47816942 0.64564339\n",
            "  0.30254995 0.80840859 0.33139827 0.46376172 0.53882044 0.67753789\n",
            "  0.27018239 0.28058714 0.06164739 0.07282805 0.59869895 0.65712944\n",
            "  0.13193004 0.56115954 0.73955814 0.58745736 0.26375799 0.4111461\n",
            "  0.59333605 0.62141978 0.70637369 0.70662921 0.6006309  0.78270868\n",
            "  0.71003879 0.74129105 0.83711226 0.27435514 0.5954233  0.42276277\n",
            "  0.95351508 0.         0.88943705 0.54785831 0.13630875 0.56284731\n",
            "  0.61736928 0.81553022 0.16940329 0.71331188 0.40766946 0.09314919\n",
            "  0.39635497 0.50283592 0.40403376 0.88812318 0.19783585 0.8310802\n",
            "  0.4950814  0.88788843 0.07897527 0.25540046 0.52937158 0.39173349\n",
            "  0.49490922 0.50860279 0.58264126 0.5498933  0.40571315 0.6210412\n",
            "  0.28030325 0.85492191 0.40515533 0.4301514  0.6182761  0.62486149\n",
            "  0.6489584  0.47880432 0.25795416 0.40688012 0.7431785  0.35613042\n",
            "  0.25897549 0.93785211 0.52801441 0.53681331]\n",
            " [0.07420938 0.55050131 0.73434147 0.9432391  0.21580555 0.63180191\n",
            "  0.51751463 0.88479076 0.30819634 1.06083787 0.80651964 0.74085302\n",
            "  0.50512745 0.70031499 0.82828899 0.94123585 0.62075008 0.43670828\n",
            "  0.93539692 0.46147455 0.38000717 0.74963655 0.48970823 0.28700144\n",
            "  1.00034595 0.2345001  0.97194041 0.68349975 0.98549027 0.41739549\n",
            "  0.80614559 0.62992753 0.84666828 0.83020225 0.3442837  0.23976454\n",
            "  0.85286022 0.93974176 0.67151391 0.62338103 0.65005996 0.58965515\n",
            "  0.38810269 0.26875035 0.46680819 0.35371382 0.78649236 0.16003656\n",
            "  0.54236281 0.28551424 0.49543745 0.79789329 0.57222136 0.70345544\n",
            "  0.32788477 0.88943705 0.         0.57327206 0.94460849 0.59147263\n",
            "  0.34801619 0.21319525 0.76257183 0.46593057 0.77388084 0.81067155\n",
            "  0.51761095 0.59401908 0.93980535 0.43153044 0.9273392  0.42112318\n",
            "  0.61348003 0.36011051 0.86529367 0.98976941 0.40810883 0.58217134\n",
            "  0.40405043 0.38106349 0.58366804 1.03215231 0.85153885 0.26863818\n",
            "  0.71363911 0.16013163 0.87623968 0.49052986 0.96563046 0.35199874\n",
            "  0.87637163 0.67342652 0.91179102 0.75436106 0.33814408 0.85744128\n",
            "  0.99850603 0.54639656 0.40924299 0.37891282]\n",
            " [0.55826499 0.0627627  0.5420839  0.5970552  0.44667628 0.39329422\n",
            "  0.90761116 0.65599084 0.45798355 0.48758358 0.72031583 0.77740181\n",
            "  0.25879827 0.13047017 0.45769745 0.60790685 0.66681357 0.34558842\n",
            "  0.80295412 0.80953466 0.30857186 0.20858415 0.53204035 0.29477789\n",
            "  0.80620907 0.37677802 0.81026473 0.70353301 0.41494222 0.670015\n",
            "  0.65946817 0.46042397 0.48660585 0.47526911 0.51384757 0.45277629\n",
            "  0.44044312 0.36665899 0.21662129 0.06985623 0.47221725 0.57211915\n",
            "  0.1900106  0.40620764 0.73052335 0.64695803 0.22086893 0.56979346\n",
            "  0.16250139 0.62696049 0.8441942  0.65561491 0.04842975 0.16224182\n",
            "  0.46687468 0.54785831 0.57327206 0.         0.52068428 0.02669565\n",
            "  0.22942997 0.39438326 0.37847671 0.18261641 0.73170046 0.52199118\n",
            "  0.44769928 0.04577403 0.39347451 0.36303998 0.69864348 0.30867254\n",
            "  0.67150238 0.38645101 0.57750598 0.50706176 0.49437234 0.1717599\n",
            "  0.41072594 0.36006891 0.71850461 0.4625599  0.78479304 0.39990524\n",
            "  0.58066879 0.643414   0.32718124 0.4600064  0.39334745 0.55854035\n",
            "  0.31389583 0.70710505 0.72782063 0.71646387 0.27074298 0.32598406\n",
            "  0.77627876 0.9393242  0.20993436 0.25335812]\n",
            " [0.89460917 0.48604159 0.33816529 0.13896815 0.73961344 0.33539792\n",
            "  1.0269429  0.30921068 0.67490607 0.51497582 0.4925933  0.64001665\n",
            "  0.44007201 0.50348577 0.12697589 0.16018969 0.60565622 0.86233348\n",
            "  0.48468476 0.92762853 0.56472895 0.33904838 0.58039462 0.67918846\n",
            "  0.42380473 0.83146873 0.45915925 0.59311411 0.42127737 0.78234944\n",
            "  0.40589904 0.38073803 0.12392096 0.13780622 0.6850659  0.72409112\n",
            "  0.09215021 0.4526782  0.68692521 0.54544689 0.36773027 0.52649707\n",
            "  0.60886273 0.68314428 0.81727534 0.80414661 0.52324023 0.85543221\n",
            "  0.68120006 0.83083827 0.94964103 0.40974015 0.56472168 0.37161305\n",
            "  0.96275879 0.13630875 0.94460849 0.52068428 0.         0.52982265\n",
            "  0.63934591 0.84177438 0.18203687 0.69901039 0.54251591 0.21648132\n",
            "  0.48774661 0.47505884 0.28720438 0.87914079 0.32663954 0.82288223\n",
            "  0.61820556 0.89011952 0.21528323 0.11986279 0.61940775 0.39241806\n",
            "  0.57071862 0.57187912 0.70425613 0.42608406 0.5419962  0.68146029\n",
            "  0.40696091 0.93098395 0.3037215  0.52193689 0.50872665 0.71660384\n",
            "  0.55623144 0.60747489 0.39051229 0.54077886 0.75159944 0.25990106\n",
            "  0.37641777 1.05191317 0.55403712 0.57282373]\n",
            " [0.57878924 0.08855841 0.56433313 0.61107512 0.47039396 0.41634485\n",
            "  0.9332762  0.67550056 0.4837496  0.46989654 0.74394701 0.80303576\n",
            "  0.28479851 0.10918099 0.47223775 0.62260384 0.69299182 0.34313531\n",
            "  0.82473305 0.83544515 0.33488204 0.20817697 0.55865936 0.31615945\n",
            "  0.82581442 0.3892962  0.83103266 0.72925735 0.40086974 0.69634029\n",
            "  0.68192119 0.48451931 0.50135487 0.49057366 0.54002673 0.4771949\n",
            "  0.45198748 0.3502256  0.19261512 0.04317416 0.49589948 0.59805847\n",
            "  0.21184921 0.4309436  0.75695039 0.67278147 0.19825441 0.59262696\n",
            "  0.15141004 0.65196364 0.87019607 0.67823619 0.03537674 0.16406488\n",
            "  0.47093383 0.56284731 0.59147263 0.02669565 0.52982265 0.\n",
            "  0.25060829 0.40759997 0.39378523 0.18261557 0.75624052 0.54042134\n",
            "  0.47389478 0.0613594  0.38769551 0.36086479 0.71773404 0.30804742\n",
            "  0.69777335 0.38914992 0.59518008 0.51023668 0.52101216 0.19389186\n",
            "  0.43738315 0.38656272 0.74512864 0.44886374 0.80848219 0.42456594\n",
            "  0.60428165 0.66561872 0.32162697 0.48649206 0.37416961 0.58469956\n",
            "  0.2909003  0.73298624 0.74842064 0.74117862 0.28095716 0.32452596\n",
            "  0.79497242 0.9650269  0.2356542  0.2789859 ]\n",
            " [0.32891104 0.20250563 0.52642215 0.67190567 0.22634722 0.38446327\n",
            "  0.70274517 0.66929835 0.26503694 0.71555658 0.66788963 0.67629839\n",
            "  0.22036164 0.35943286 0.53935538 0.67587017 0.55205094 0.29668154\n",
            "  0.77735972 0.61011359 0.15624114 0.403324   0.39988369 0.06556741\n",
            "  0.81037007 0.19251393 0.79890363 0.60309393 0.63779248 0.48437913\n",
            "  0.63113907 0.42150002 0.56356191 0.54828386 0.32912111 0.23862506\n",
            "  0.54805808 0.59355833 0.37866809 0.28767957 0.43982926 0.47296721\n",
            "  0.04017346 0.19776632 0.54735372 0.44840634 0.44882433 0.34371642\n",
            "  0.25565014 0.41590993 0.64630716 0.62480109 0.23844479 0.35648087\n",
            "  0.33898405 0.61736928 0.34801619 0.22942997 0.63934591 0.25060829\n",
            "  0.         0.20247088 0.46308288 0.19383491 0.66030877 0.55863127\n",
            "  0.35152376 0.24632362 0.59441813 0.30726895 0.71452253 0.25560136\n",
            "  0.5524233  0.28339667 0.61773659 0.66360438 0.33583246 0.25088167\n",
            "  0.26357397 0.20603503 0.57513479 0.68426152 0.72806558 0.19076914\n",
            "  0.53813134 0.41540143 0.52992834 0.34637715 0.62254842 0.37109494\n",
            "  0.54121764 0.60137006 0.72273689 0.64196429 0.13787877 0.5144005\n",
            "  0.79295964 0.7348321  0.08965599 0.09667565]\n",
            " [0.2390574  0.38819705 0.70456652 0.87027048 0.25024115 0.57256759\n",
            "  0.69291887 0.85264893 0.34083388 0.87482492 0.82247221 0.79840157\n",
            "  0.41507606 0.51276656 0.74001677 0.8730358  0.67152597 0.23023757\n",
            "  0.94182641 0.61829928 0.31679634 0.5915824  0.52048338 0.17179225\n",
            "  0.98699253 0.02143865 0.96933495 0.73013891 0.8084315  0.53002983\n",
            "  0.7994137  0.59676082 0.76343127 0.74784825 0.40165773 0.27776946\n",
            "  0.75038103 0.75711602 0.46190218 0.43301437 0.61640916 0.61116885\n",
            "  0.23538993 0.26883981 0.59007711 0.47555238 0.59363895 0.3023003\n",
            "  0.33462646 0.41921071 0.65477763 0.7922005  0.38247308 0.54374083\n",
            "  0.17153876 0.81553022 0.21319525 0.39438326 0.84177438 0.40759997\n",
            "  0.20247088 0.         0.66474606 0.25883759 0.80405885 0.75145154\n",
            "  0.50522759 0.42464836 0.7823178  0.22835004 0.89760877 0.20964123\n",
            "  0.66825232 0.16364627 0.810045   0.86416584 0.44091488 0.45260716\n",
            "  0.39562128 0.3478908  0.66612778 0.85634576 0.87767484 0.26360954\n",
            "  0.70427403 0.34620995 0.71645934 0.48932213 0.77659977 0.43083457\n",
            "  0.67996159 0.72445789 0.89785686 0.78469314 0.13196521 0.70661812\n",
            "  0.97461453 0.72396904 0.28907602 0.27963977]\n",
            " [0.71299776 0.33194861 0.23987195 0.21977045 0.55838911 0.17021167\n",
            "  0.87431689 0.29896455 0.49726262 0.54027043 0.42735864 0.5457926\n",
            "  0.25824199 0.40020096 0.08022281 0.22958031 0.48142144 0.70572849\n",
            "  0.46870154 0.77273089 0.38272173 0.24931491 0.42363406 0.49941084\n",
            "  0.44636031 0.65558874 0.46223015 0.48519983 0.43750131 0.62373595\n",
            "  0.34582905 0.23402149 0.10845068 0.09682151 0.51283016 0.54366489\n",
            "  0.09059605 0.44337151 0.57338589 0.41961759 0.22776337 0.39002142\n",
            "  0.43520842 0.50187628 0.66528156 0.63833912 0.44854329 0.6759644\n",
            "  0.54063655 0.65899947 0.79796883 0.34579694 0.42612129 0.26059608\n",
            "  0.7937371  0.16940329 0.76257183 0.37847671 0.18203687 0.39378523\n",
            "  0.46308288 0.66474606 0.         0.54525987 0.46305917 0.1604464\n",
            "  0.32396439 0.33354032 0.3127966  0.72167463 0.3364511  0.66469578\n",
            "  0.49238032 0.72500355 0.20732574 0.24801999 0.45067561 0.22528981\n",
            "  0.39453086 0.39143155 0.57223112 0.46134013 0.48817405 0.50000957\n",
            "  0.30524058 0.75226779 0.28892192 0.35716296 0.49955644 0.54748216\n",
            "  0.50863308 0.49669468 0.38038876 0.45513675 0.58235329 0.23933629\n",
            "  0.40974767 0.90126173 0.37578663 0.39206794]\n",
            " [0.47321983 0.21416865 0.67118131 0.76494535 0.40836775 0.52091042\n",
            "  0.88776894 0.80112498 0.45828962 0.62675779 0.83258339 0.85905091\n",
            "  0.359808   0.27135431 0.62547903 0.77371465 0.73753123 0.16360789\n",
            "  0.93105979 0.79846245 0.34183501 0.39006886 0.58789375 0.24466788\n",
            "  0.94904264 0.23789362 0.94571076 0.78493688 0.57063135 0.67720375\n",
            "  0.7842696  0.5748305  0.65344555 0.64057831 0.52275317 0.42536807\n",
            "  0.61532338 0.51416041 0.20608115 0.19235793 0.59059117 0.65257473\n",
            "  0.1774408  0.38864588 0.74026478 0.63848896 0.34280508 0.51115411\n",
            "  0.07643235 0.60038924 0.83501004 0.77902813 0.14889466 0.34453473\n",
            "  0.29003807 0.71331188 0.46593057 0.18261641 0.69901039 0.18261557\n",
            "  0.19383491 0.25883759 0.54525987 0.         0.83265082 0.6746853\n",
            "  0.52709353 0.2264167  0.56953851 0.18079666 0.84552013 0.12606558\n",
            "  0.73905265 0.20720158 0.73273334 0.68965152 0.52818341 0.32199537\n",
            "  0.45245354 0.39478807 0.76697075 0.61897685 0.89528659 0.38159513\n",
            "  0.69628693 0.57375542 0.50370555 0.52792886 0.52681486 0.56426872\n",
            "  0.42480641 0.78480241 0.86539334 0.81527436 0.12801389 0.5069346\n",
            "  0.92442334 0.91983773 0.24717459 0.27729619]\n",
            " [0.70115167 0.66928944 0.22319765 0.42816177 0.57416696 0.34592816\n",
            "  0.58190706 0.25501213 0.47503278 1.00323183 0.05964505 0.10404376\n",
            "  0.4787454  0.81017535 0.44142315 0.40968477 0.16056519 0.95699002\n",
            "  0.17886956 0.50396987 0.5051161  0.69230125 0.28793769 0.64736322\n",
            "  0.27431174 0.8077024  0.22732962 0.101579   0.90052017 0.40633968\n",
            "  0.13869074 0.27256552 0.42779488 0.41979574 0.42978553 0.54580069\n",
            "  0.50295982 0.90460966 0.94830708 0.79554654 0.26379991 0.19289596\n",
            "  0.66066706 0.53878737 0.40148071 0.46234505 0.88037538 0.62254662\n",
            "  0.86628963 0.52378727 0.50983948 0.13361562 0.77678926 0.68531512\n",
            "  0.97311629 0.40766946 0.77388084 0.73170046 0.54251591 0.75624052\n",
            "  0.66030877 0.80405885 0.46305917 0.83265082 0.         0.33005567\n",
            "  0.30879135 0.69912393 0.7735031  0.96735126 0.26895985 0.91576405\n",
            "  0.17151961 0.93588054 0.33000069 0.65847624 0.37075731 0.56551057\n",
            "  0.40916929 0.46139446 0.24363965 0.92293486 0.0778823  0.54305553\n",
            "  0.16069084 0.6707506  0.75178213 0.3170622  0.9599378  0.42522501\n",
            "  0.95461182 0.11721694 0.21034054 0.01963183 0.79632181 0.70237656\n",
            "  0.29947772 0.59733805 0.58684295 0.56425808]\n",
            " [0.75093223 0.46844766 0.12275977 0.13887133 0.59593457 0.18090949\n",
            "  0.82147903 0.13883192 0.51483517 0.68440466 0.2847192  0.42481023\n",
            "  0.33836432 0.55791156 0.11361945 0.13232145 0.39114171 0.82884269\n",
            "  0.309523   0.72467966 0.44140849 0.40975527 0.38590764 0.57989617\n",
            "  0.28781522 0.74613063 0.30179201 0.37663779 0.58298259 0.5846313\n",
            "  0.19853253 0.19046663 0.09773978 0.09059084 0.50986287 0.57500565\n",
            "  0.174699   0.59615798 0.72629745 0.57040852 0.17263312 0.31811227\n",
            "  0.53892031 0.54192321 0.61323513 0.61468697 0.60890962 0.69751299\n",
            "  0.68095801 0.65100951 0.74406673 0.2006759  0.57040117 0.41917585\n",
            "  0.89746355 0.09314919 0.81067155 0.52199118 0.21648132 0.54042134\n",
            "  0.55863127 0.75145154 0.1604464  0.6746853  0.33005567 0.\n",
            "  0.30753974 0.47910242 0.45129765 0.84353186 0.17828402 0.78672362\n",
            "  0.40397775 0.83654617 0.05917219 0.32916373 0.43982419 0.35488371\n",
            "  0.41084967 0.42998396 0.49108171 0.60057522 0.34060659 0.54214035\n",
            "  0.190745   0.76826243 0.43938972 0.34082867 0.65305763 0.53438796\n",
            "  0.668311   0.39106183 0.22001719 0.32662879 0.69007829 0.38910397\n",
            "  0.25460199 0.84496018 0.4690951  0.47190527]\n",
            " [0.45244326 0.38538494 0.21706008 0.44608218 0.30244381 0.15438594\n",
            "  0.55157173 0.36719775 0.2118808  0.8152553  0.31903438 0.33377974\n",
            "  0.18940646 0.54798259 0.3608217  0.43964624 0.21911592 0.6482026\n",
            "  0.4366435  0.44946784 0.1968379  0.47068251 0.10318326 0.34168837\n",
            "  0.48773926 0.50644246 0.46569435 0.25936968 0.71522837 0.29988703\n",
            "  0.29596406 0.11742274 0.36927184 0.3533423  0.20243701 0.27787604\n",
            "  0.40670991 0.70009843 0.66061594 0.51603533 0.13649387 0.12644325\n",
            "  0.35278838 0.25434167 0.34399002 0.31652601 0.63008656 0.39236572\n",
            "  0.56659886 0.3454802  0.4759379  0.2883699  0.4884934  0.44710232\n",
            "  0.67064849 0.39635497 0.51761095 0.44769928 0.48774661 0.47389478\n",
            "  0.35152376 0.50522759 0.32396439 0.52709353 0.30879135 0.30753974\n",
            "  0.         0.42346519 0.61117785 0.65864556 0.40980646 0.60698234\n",
            "  0.2240071  0.62890364 0.35636844 0.57145792 0.13319212 0.30088303\n",
            "  0.11512099 0.15738099 0.27990864 0.74960485 0.37743436 0.2566397\n",
            "  0.20088332 0.46131556 0.56759478 0.03424947 0.749314   0.22968674\n",
            "  0.71557993 0.26109448 0.39834838 0.29052615 0.48785447 0.52575023\n",
            "  0.48209265 0.57927499 0.2800212  0.25552707]\n",
            " [0.57374135 0.04771537 0.50413781 0.55170987 0.45300021 0.35711503\n",
            "  0.90329434 0.61415316 0.45431421 0.47062566 0.68520753 0.74909345\n",
            "  0.23425311 0.13026884 0.41248922 0.56278388 0.64194434 0.3898756\n",
            "  0.76411105 0.8037276  0.30167484 0.16935151 0.51251176 0.30998151\n",
            "  0.76447045 0.40813868 0.76992559 0.67576349 0.39150547 0.66097823\n",
            "  0.62184749 0.4267892  0.44147894 0.4303615  0.50672863 0.45623959\n",
            "  0.39467707 0.34805836 0.25222766 0.09659822 0.43744226 0.54577192\n",
            "  0.20615035 0.40856707 0.72021287 0.64213258 0.21990842 0.57859712\n",
            "  0.20808899 0.62693867 0.83765031 0.61831976 0.09258746 0.12178401\n",
            "  0.50696489 0.50283592 0.59401908 0.04577403 0.47505884 0.0613594\n",
            "  0.24632362 0.42464836 0.33354032 0.2264167  0.69912393 0.47910242\n",
            "  0.42346519 0.         0.35822436 0.40718136 0.65637528 0.35221453\n",
            "  0.64737235 0.42777669 0.53400659 0.46366866 0.48122562 0.13436004\n",
            "  0.39749756 0.35042564 0.69867372 0.43815661 0.74979739 0.40266168\n",
            "  0.54560613 0.65393992 0.29212171 0.43858683 0.38040182 0.55141793\n",
            "  0.31227705 0.68020535 0.68726771 0.68447081 0.305835   0.2866041\n",
            "  0.73363625 0.93472305 0.20968937 0.25273236]\n",
            " [0.9091067  0.39477639 0.55081532 0.42318026 0.76930999 0.46880179\n",
            "  1.15856175 0.57576839 0.7380992  0.23373398 0.73376316 0.85847943\n",
            "  0.47338896 0.3094497  0.33791775 0.44349859 0.79112617 0.72567911\n",
            "  0.753835   1.05582502 0.59244913 0.19133841 0.71434197 0.65290125\n",
            "  0.70529545 0.7661889  0.73537593 0.79775175 0.13499755 0.90524027\n",
            "  0.64891705 0.54104688 0.35876897 0.3616982  0.77202573 0.76397773\n",
            "  0.27831308 0.16818969 0.4808131  0.38038591 0.53764122 0.6967574\n",
            "  0.55532311 0.71629217 0.9540614  0.90732186 0.28552708 0.89647274\n",
            "  0.52370841 0.91285522 1.08458105 0.65025267 0.42065604 0.23887901\n",
            "  0.85862764 0.40403376 0.93980535 0.39347451 0.28720438 0.38769551\n",
            "  0.59441813 0.7823178  0.3127966  0.56953851 0.7735031  0.45129765\n",
            "  0.61117785 0.35822436 0.         0.74364526 0.60185556 0.69341275\n",
            "  0.8014691  0.77660992 0.47631818 0.19067292 0.72167524 0.36561502\n",
            "  0.64895841 0.62394083 0.87780271 0.14957709 0.79159341 0.71200846\n",
            "  0.6175633  0.97450552 0.06629633 0.64078949 0.22270562 0.81285361\n",
            "  0.28771065 0.80893898 0.66006372 0.7666062  0.6634781  0.0875481\n",
            "  0.65962968 1.18748378 0.53265509 0.56847724]\n",
            " [0.46659875 0.39329657 0.82726488 0.94066872 0.46195411 0.68002346\n",
            "  0.9206692  0.9644885  0.53904301 0.7743765  0.97496729 0.9793268\n",
            "  0.5144865  0.43736867 0.80179657 0.94840081 0.85349123 0.01798549\n",
            "  1.08239147 0.84359431 0.46237959 0.56904064 0.70005497 0.32675034\n",
            "  1.10961344 0.21030265 1.10163949 0.90708352 0.73088691 0.74535079\n",
            "  0.9356329  0.72510281 0.82920713 0.81574236 0.60383699 0.48648974\n",
            "  0.79443949 0.67060822 0.31211704 0.36325938 0.74260114 0.77869333\n",
            "  0.3125781  0.4641672  0.80717701 0.6951993  0.49432334 0.52996337\n",
            "  0.22115647 0.64306329 0.88027578 0.9296164  0.32597932 0.52430725\n",
            "  0.14393911 0.88812318 0.43153044 0.36303998 0.87914079 0.36086479\n",
            "  0.30726895 0.22835004 0.72167463 0.18079666 0.96735126 0.84353186\n",
            "  0.65864556 0.40718136 0.74364526 0.         1.00945669 0.05704433\n",
            "  0.85263037 0.07313394 0.90232039 0.87003474 0.62834248 0.49664472\n",
            "  0.5650096  0.50895315 0.86490269 0.77877811 1.03532595 0.45765314\n",
            "  0.84377748 0.57390785 0.67860466 0.65206368 0.67388301 0.63908475\n",
            "  0.56347505 0.90426871 1.02353029 0.94889312 0.17163534 0.68509975\n",
            "  1.08844897 0.95186815 0.38750596 0.40381812]\n",
            " [0.86118498 0.64352593 0.19468016 0.19014911 0.71222863 0.33046946\n",
            "  0.83847199 0.04522434 0.62024571 0.83485823 0.20953929 0.37274516\n",
            "  0.49623247 0.73580366 0.27415347 0.16874113 0.39567285 0.99553136\n",
            "  0.15938528 0.75188006 0.58108575 0.58487984 0.45519149 0.72646648\n",
            "  0.10991005 0.89486332 0.13358835 0.35484952 0.73658805 0.63089617\n",
            "  0.14424592 0.30239485 0.24794847 0.25017944 0.59814552 0.68757467\n",
            "  0.32691894 0.75755015 0.90446824 0.74841039 0.28232059 0.36205035\n",
            "  0.69957714 0.66296497 0.64265696 0.67520373 0.78429065 0.79603217\n",
            "  0.85603342 0.72488061 0.76335631 0.15261713 0.74707098 0.59667084\n",
            "  1.05237803 0.19783585 0.9273392  0.69864348 0.32663954 0.71773404\n",
            "  0.71452253 0.89760877 0.3364511  0.84552013 0.26895985 0.17828402\n",
            "  0.40980646 0.65637528 0.60185556 1.00945669 0.         0.9531707\n",
            "  0.40910321 0.99680859 0.13067169 0.4460556  0.52774286 0.5294935\n",
            "  0.52428816 0.55755522 0.49469771 0.74750284 0.23770022 0.66469753\n",
            "  0.21932713 0.85903479 0.60087387 0.43727952 0.81472091 0.61128707\n",
            "  0.83951573 0.37167888 0.06811227 0.27657612 0.84997997 0.55121731\n",
            "  0.07901758 0.85682596 0.62660234 0.62221002]\n",
            " [0.44776632 0.33687831 0.77188388 0.88364128 0.42594199 0.62410038\n",
            "  0.89380705 0.90825193 0.49732445 0.73499215 0.92195529 0.93069117\n",
            "  0.45881859 0.38997016 0.7448031  0.89135665 0.80550332 0.04240123\n",
            "  1.0279323  0.8129963  0.41165917 0.51593074 0.65237602 0.28130999\n",
            "  1.05378335 0.18924779 1.04646814 0.85791444 0.68662985 0.70818318\n",
            "  0.88105581 0.67044689 0.77218644 0.75870598 0.56259048 0.44892244\n",
            "  0.73781724 0.62767018 0.28119298 0.31363154 0.68771157 0.72841915\n",
            "  0.25801121 0.42281898 0.77062765 0.66069154 0.45239967 0.50439307\n",
            "  0.17558839 0.61192932 0.84980063 0.87515744 0.2736598  0.4705717\n",
            "  0.17400111 0.8310802  0.42112318 0.30867254 0.82288223 0.30804742\n",
            "  0.25560136 0.20964123 0.66469578 0.12606558 0.91576405 0.78672362\n",
            "  0.60698234 0.35221453 0.69341275 0.05704433 0.9531707  0.\n",
            "  0.80515207 0.0904267  0.84547164 0.81566729 0.58289643 0.4396255\n",
            "  0.51656366 0.45979902 0.82097264 0.73479037 0.98280973 0.41609057\n",
            "  0.78972757 0.55439172 0.62792229 0.60177081 0.63439006 0.59960565\n",
            "  0.52636949 0.85565586 0.96799615 0.89748836 0.1247809  0.63257026\n",
            "  1.03217795 0.92537184 0.33306579 0.35154065]\n",
            " [0.53971016 0.60930896 0.28123313 0.53010473 0.42562768 0.33452743\n",
            "  0.43024996 0.38176743 0.32860053 1.01884239 0.22041687 0.13051073\n",
            "  0.41341302 0.77091249 0.49873026 0.51557644 0.01353774 0.84445899\n",
            "  0.34911051 0.34300729 0.39774346 0.68240603 0.15278401 0.52605459\n",
            "  0.43852267 0.67491295 0.39553463 0.07178546 0.91676896 0.23499273\n",
            "  0.26486854 0.26044394 0.49472514 0.48223666 0.27414131 0.39682514\n",
            "  0.55664893 0.9087146  0.88330339 0.74000422 0.26465598 0.10654136\n",
            "  0.56177536 0.39943408 0.23528802 0.29103853 0.85133556 0.45807015\n",
            "  0.78465329 0.3536361  0.35449682 0.2565717  0.71160351 0.66384828\n",
            "  0.83965614 0.4950814  0.61348003 0.67150238 0.61820556 0.69777335\n",
            "  0.5524233  0.66825232 0.49238032 0.73905265 0.17151961 0.40397775\n",
            "  0.2240071  0.64737235 0.8014691  0.85263037 0.40910321 0.80515207\n",
            "  0.         0.81233512 0.42717763 0.7231618  0.22753401 0.52254476\n",
            "  0.28894328 0.34638884 0.08819518 0.94668544 0.24785084 0.40480802\n",
            "  0.21527194 0.50182131 0.76657047 0.21353792 0.96047078 0.26155999\n",
            "  0.93477326 0.06001616 0.36304715 0.15385667 0.6814386  0.72065997\n",
            "  0.456229   0.45010097 0.4935575  0.46189158]\n",
            " [0.39850605 0.40617634 0.80977097 0.94150422 0.40774474 0.66635069\n",
            "  0.85599299 0.95160888 0.49125187 0.82498519 0.947617   0.94088886\n",
            "  0.50079248 0.47687013 0.8043721  0.94766219 0.81418817 0.08284582\n",
            "  1.05987369 0.78193106 0.4322948  0.59502482 0.66091879 0.28872886\n",
            "  1.09364581 0.1482178  1.08218957 0.87002036 0.77491835 0.69041735\n",
            "  0.91404487 0.70481218 0.83073055 0.81646637 0.5548223  0.43381092\n",
            "  0.8026052  0.7166398  0.37094293 0.39898198 0.72321415 0.74469228\n",
            "  0.29785393 0.41671321 0.75131726 0.6376441  0.54194286 0.46565759\n",
            "  0.26479163 0.58256616 0.81842061 0.90756783 0.35597735 0.54853013\n",
            "  0.08404736 0.88788843 0.36011051 0.38645101 0.89011952 0.38914992\n",
            "  0.28339667 0.16364627 0.72500355 0.20720158 0.93588054 0.83654617\n",
            "  0.62890364 0.42777669 0.77660992 0.07313394 0.99680859 0.0904267\n",
            "  0.81233512 0.         0.89569152 0.89070453 0.58561028 0.50032528\n",
            "  0.52848416 0.47456501 0.81844004 0.82317247 1.00626677 0.41059659\n",
            "  0.82048634 0.50569583 0.71067692 0.61889124 0.72440363 0.58747853\n",
            "  0.6167428  0.86603738 1.0061223  0.91700006 0.14686025 0.71236261\n",
            "  1.07547409 0.88688711 0.37021635 0.37895527]\n",
            " [0.80426045 0.52516855 0.15227197 0.10295997 0.64997374 0.23838863\n",
            "  0.85228568 0.09948449 0.56633957 0.71000131 0.27803772 0.43032343\n",
            "  0.3974306  0.60749813 0.14374567 0.08916236 0.41388325 0.8875468\n",
            "  0.27752498 0.75785551 0.49884545 0.45465931 0.42736934 0.6383905\n",
            "  0.24011459 0.80492388 0.26158892 0.39079931 0.61032795 0.62208944\n",
            "  0.191865   0.23908779 0.11856387 0.11963926 0.55746401 0.6282549\n",
            "  0.1987373  0.62877133 0.77901654 0.62386559 0.21989342 0.35094109\n",
            "  0.59808741 0.59665567 0.6462772  0.65612713 0.65402185 0.74833185\n",
            "  0.73742952 0.69600731 0.77512769 0.19641409 0.62583495 0.46792074\n",
            "  0.95660042 0.07897527 0.86529367 0.57750598 0.21528323 0.59518008\n",
            "  0.61773659 0.810045   0.20732574 0.73273334 0.33000069 0.05917219\n",
            "  0.35636844 0.53400659 0.47631818 0.90232039 0.13067169 0.84547164\n",
            "  0.42717763 0.89569152 0.         0.33419048 0.48675509 0.41207227\n",
            "  0.46340353 0.48543417 0.51530641 0.62387034 0.32677649 0.59714702\n",
            "  0.2121988  0.81764037 0.4718116  0.38870648 0.68593239 0.57940721\n",
            "  0.70887729 0.40634604 0.18386116 0.33008829 0.74924255 0.42188589\n",
            "  0.20242468 0.87441083 0.52822325 0.53061135]\n",
            " [0.94646834 0.48585505 0.4473894  0.2569068  0.79491663 0.41715524\n",
            "  1.12000418 0.42903344 0.74134391 0.40506832 0.61014205 0.75393742\n",
            "  0.48808622 0.46027956 0.22449892 0.27836201 0.71109958 0.85250609\n",
            "  0.60443164 1.01899647 0.61534315 0.30368667 0.66968625 0.71182621\n",
            "  0.54100189 0.85134816 0.57803049 0.70350492 0.31781849 0.87077629\n",
            "  0.52328619 0.47419071 0.23199975 0.24242043 0.76013605 0.78290143\n",
            "  0.16762296 0.35858817 0.64251772 0.51653437 0.46407822 0.62649052\n",
            "  0.62881138 0.73869386 0.91041663 0.88635636 0.46008368 0.91658531\n",
            "  0.65921201 0.90618696 1.04322885 0.52669466 0.54555774 0.34617435\n",
            "  0.96818971 0.25540046 0.98976941 0.50706176 0.11986279 0.51023668\n",
            "  0.66360438 0.86416584 0.24801999 0.68965152 0.65847624 0.32916373\n",
            "  0.57145792 0.46366866 0.19067292 0.87003474 0.4460556  0.81566729\n",
            "  0.7231618  0.89070453 0.33419048 0.         0.69866073 0.41307163\n",
            "  0.64038978 0.63191807 0.80728892 0.3155567  0.66091519 0.73600395\n",
            "  0.51683997 0.99388632 0.2272903  0.60490316 0.41193964 0.795372\n",
            "  0.47594188 0.71718485 0.51031982 0.65568574 0.76076169 0.19661524\n",
            "  0.49282293 1.14630313 0.58511715 0.6112505 ]\n",
            " [0.33787814 0.43662556 0.34147735 0.57860804 0.20341784 0.28424158\n",
            "  0.43782848 0.48754556 0.10430131 0.91200485 0.39923427 0.35749509\n",
            "  0.25966527 0.61121452 0.49272894 0.57152627 0.23061416 0.62108136\n",
            "  0.5273991  0.33519373 0.19077869 0.56378855 0.08288011 0.30183385\n",
            "  0.5938412  0.44738095 0.56398482 0.28989183 0.81523996 0.18548543\n",
            "  0.39967862 0.24936142 0.50210593 0.4860714  0.07103729 0.17505766\n",
            "  0.53626224 0.79260221 0.69294239 0.5641763  0.26751679 0.18190274\n",
            "  0.35206136 0.1720951  0.2407718  0.188198   0.69913282 0.26840325\n",
            "  0.58222095 0.21232106 0.3657846  0.39126444 0.52712267 0.53249067\n",
            "  0.61221718 0.52937158 0.40810883 0.49437234 0.61940775 0.52101216\n",
            "  0.33583246 0.44091488 0.45067561 0.52818341 0.37075731 0.43982419\n",
            "  0.13319212 0.48122562 0.72167524 0.62834248 0.52774286 0.58289643\n",
            "  0.22753401 0.58561028 0.48675509 0.69866073 0.         0.37977416\n",
            "  0.08379348 0.13675509 0.23934851 0.85314018 0.44737486 0.17733901\n",
            "  0.30961522 0.33260487 0.67231607 0.09922268 0.83772483 0.09722647\n",
            "  0.78940212 0.28363566 0.50612703 0.3511273  0.45830777 0.63455063\n",
            "  0.5951713  0.46752699 0.29320526 0.25453371]\n",
            " [0.54601415 0.1140597  0.37049218 0.44403387 0.40371909 0.22276399\n",
            "  0.81483912 0.48617589 0.37737421 0.53434081 0.5508576  0.61870299\n",
            "  0.12014335 0.24895737 0.30525847 0.45209638 0.51609941 0.48087726\n",
            "  0.63120377 0.71289763 0.22770798 0.18755504 0.39687883 0.29951694\n",
            "  0.63605971 0.44096012 0.63882408 0.54614056 0.44064205 0.56479205\n",
            "  0.48803622 0.29296956 0.33256242 0.31918621 0.41881588 0.39864941\n",
            "  0.30303561 0.41360104 0.3862596  0.23093215 0.30319748 0.41851725\n",
            "  0.21764276 0.35079891 0.62030449 0.55623306 0.32922383 0.53086258\n",
            "  0.32654723 0.55351858 0.74473577 0.48434707 0.21969625 0.15281555\n",
            "  0.57089542 0.39173349 0.58217134 0.1717599  0.39241806 0.19389186\n",
            "  0.25088167 0.45260716 0.22528981 0.32199537 0.56551057 0.35488371\n",
            "  0.30088303 0.13436004 0.36561502 0.49664472 0.5294935  0.4396255\n",
            "  0.52254476 0.50032528 0.41207227 0.41307163 0.37977416 0.\n",
            "  0.299106   0.26411482 0.58030341 0.48172118 0.61545142 0.34643267\n",
            "  0.41127476 0.60889058 0.30699859 0.32081486 0.45795376 0.4621206\n",
            "  0.41526028 0.5515626  0.55654092 0.55118932 0.35947958 0.27963783\n",
            "  0.60775358 0.84530723 0.17341799 0.20474794]\n",
            " [0.34098484 0.35283214 0.3305067  0.5470767  0.18831551 0.23856028\n",
            "  0.5158377  0.48122048 0.10507253 0.83296858 0.4271166  0.41433746\n",
            "  0.17972194 0.52755054 0.44625198 0.54289085 0.28896061 0.55627885\n",
            "  0.54882759 0.41379623 0.11098295 0.48498868 0.13631006 0.2399131\n",
            "  0.60272316 0.39863552 0.57964491 0.34220857 0.73752188 0.26616566\n",
            "  0.41032201 0.22607361 0.45967604 0.44321089 0.12314801 0.16510654\n",
            "  0.48338022 0.71266842 0.61108499 0.48055473 0.2461387  0.21670714\n",
            "  0.27511217 0.13922197 0.32350179 0.25894899 0.61569891 0.28788867\n",
            "  0.50305719 0.26703078 0.4457417  0.4025609  0.44409242 0.45189083\n",
            "  0.56397602 0.49490922 0.40405043 0.41072594 0.57071862 0.43738315\n",
            "  0.26357397 0.39562128 0.39453086 0.45245354 0.40916929 0.41084967\n",
            "  0.11512099 0.39749756 0.64895841 0.5650096  0.52428816 0.51656366\n",
            "  0.28894328 0.52848416 0.46340353 0.64038978 0.08379348 0.299106\n",
            "  0.         0.05775012 0.31576687 0.77662711 0.48211541 0.14161011\n",
            "  0.3155301  0.36136541 0.59704971 0.09402566 0.75671395 0.16434733\n",
            "  0.70625776 0.33927759 0.51337049 0.38996799 0.39344815 0.56146018\n",
            "  0.59710884 0.54621942 0.21201866 0.17569706]\n",
            " [0.32456822 0.30439636 0.36289342 0.5622472  0.16866296 0.25075301\n",
            "  0.55467662 0.51340373 0.11416247 0.79769127 0.47571071 0.47089566\n",
            "  0.15070524 0.48066863 0.45107685 0.56019153 0.34610013 0.49983892\n",
            "  0.59393562 0.45407157 0.05410617 0.45166735 0.19393575 0.18596961\n",
            "  0.64172345 0.34912004 0.62201797 0.3982207  0.70475436 0.31064906\n",
            "  0.45206781 0.25531157 0.46767449 0.45114289 0.15708383 0.1522606\n",
            "  0.48184165 0.67607905 0.55620272 0.42961832 0.27549202 0.27033616\n",
            "  0.21752801 0.11288627 0.37055734 0.29407743 0.57004278 0.28493493\n",
            "  0.44625443 0.28973171 0.48753973 0.44470966 0.39114093 0.41521601\n",
            "  0.51361742 0.50860279 0.38106349 0.36006891 0.57187912 0.38656272\n",
            "  0.20603503 0.3478908  0.39143155 0.39478807 0.46139446 0.42998396\n",
            "  0.15738099 0.35042564 0.62394083 0.50895315 0.55755522 0.45979902\n",
            "  0.34638884 0.47456501 0.48543417 0.63191807 0.13675509 0.26411482\n",
            "  0.05775012 0.         0.37284103 0.74562417 0.53269941 0.11246438\n",
            "  0.356842   0.36198367 0.56874994 0.14434148 0.71781634 0.20152944\n",
            "  0.66168638 0.39586892 0.55231146 0.44245914 0.33731807 0.53652216\n",
            "  0.63260675 0.58576625 0.15645188 0.11848394]\n",
            " [0.50951596 0.65764291 0.36848148 0.61821248 0.41670874 0.40901254\n",
            "  0.34377433 0.46884185 0.32719274 1.09052574 0.298387   0.16953245\n",
            "  0.46520367 0.82561379 0.58326003 0.60375967 0.10161094 0.85840591\n",
            "  0.4221953  0.26069302 0.42666478 0.74910867 0.18647381 0.53966902\n",
            "  0.51696257 0.67540278 0.47096133 0.14344366 0.98922913 0.17613631\n",
            "  0.35078596 0.33834725 0.58049516 0.56757876 0.26450981 0.38860143\n",
            "  0.64013071 0.97763517 0.92495866 0.78804465 0.34508143 0.18221558\n",
            "  0.59015711 0.40180189 0.15891494 0.23904851 0.90920231 0.42415287\n",
            "  0.81882236 0.30691227 0.26905446 0.34268063 0.75550939 0.72687941\n",
            "  0.83714117 0.58264126 0.58366804 0.71850461 0.70425613 0.74512864\n",
            "  0.57513479 0.66612778 0.57223112 0.76697075 0.24363965 0.49108171\n",
            "  0.27990864 0.69867372 0.87780271 0.86490269 0.49469771 0.82097264\n",
            "  0.08819518 0.81844004 0.51530641 0.80728892 0.23934851 0.58030341\n",
            "  0.31576687 0.37284103 0.         1.02102537 0.31450541 0.40803878\n",
            "  0.30326999 0.45621114 0.8397513  0.26038812 1.02790117 0.2384901\n",
            "  0.99536206 0.1269512  0.44564763 0.2286424  0.69620533 0.79519659\n",
            "  0.53810962 0.36268317 0.52748    0.49129566]\n",
            " [1.00960226 0.48212787 0.70009382 0.56458885 0.87906794 0.61255999\n",
            "  1.29095985 0.7231208  0.8590933  0.08951194 0.88333288 1.00711165\n",
            "  0.59753819 0.3478049  0.487057   0.58548327 0.93670502 0.76098719\n",
            "  0.90127533 1.18833141 0.70843264 0.29445094 0.8526086  0.74704946\n",
            "  0.84883511 0.83815711 0.88107755 0.94542902 0.04834898 1.03824742\n",
            "  0.79840692 0.68640916 0.50713859 0.51067976 0.89859153 0.87720782\n",
            "  0.42691075 0.10950704 0.48288643 0.42772983 0.68408599 0.84118363\n",
            "  0.64411653 0.82892457 1.08960619 1.03548705 0.28546517 1.00656242\n",
            "  0.55926359 1.03521527 1.21841515 0.79979292 0.4761056  0.33516157\n",
            "  0.90710981 0.5498933  1.03215231 0.4625599  0.42608406 0.44886374\n",
            "  0.68426152 0.85634576 0.46134013 0.61897685 0.92293486 0.60057522\n",
            "  0.74960485 0.43815661 0.14957709 0.77877811 0.74750284 0.73479037\n",
            "  0.94668544 0.82317247 0.62387034 0.3155567  0.85314018 0.48172118\n",
            "  0.77662711 0.74562417 1.02102537 0.         0.9410214  0.82395747\n",
            "  0.76648596 1.08374875 0.18201148 0.77765497 0.13107234 0.94092579\n",
            "  0.23904217 0.95625299 0.80719726 0.91585871 0.72931594 0.22604054\n",
            "  0.80211088 1.32061197 0.63571117 0.6753285 ]\n",
            " [0.77890944 0.72308925 0.25345553 0.41637711 0.65064805 0.3928512\n",
            "  0.645512   0.23696523 0.55152638 1.02414325 0.06460761 0.15552882\n",
            "  0.53756622 0.85511524 0.45422603 0.39618668 0.23747247 1.02440386\n",
            "  0.11192776 0.57255449 0.57425688 0.72774719 0.36449478 0.71842405\n",
            "  0.2153614  0.88065538 0.16338376 0.17655818 0.92217915 0.48176027\n",
            "  0.14288645 0.3248564  0.43626234 0.43099158 0.50734238 0.62241021\n",
            "  0.51514151 0.93145196 1.00108847 0.8463827  0.31259482 0.26756209\n",
            "  0.72608525 0.61398269 0.47336391 0.53887944 0.92077508 0.70042819\n",
            "  0.92507128 0.60103277 0.57576876 0.1423921  0.83104147 0.72535025\n",
            "  1.04581885 0.40571315 0.85153885 0.78479304 0.5419962  0.80848219\n",
            "  0.72806558 0.87767484 0.48817405 0.89528659 0.0778823  0.34060659\n",
            "  0.37743436 0.74979739 0.79159341 1.03532595 0.23770022 0.98280973\n",
            "  0.24785084 1.00626677 0.32677649 0.66091519 0.44737486 0.61545142\n",
            "  0.48211541 0.53269941 0.31450541 0.9410214  0.         0.61804737\n",
            "  0.20421456 0.74834668 0.77603935 0.38887868 0.9877262  0.50310657\n",
            "  0.99074361 0.19096274 0.17117005 0.09724574 0.86503039 0.72594335\n",
            "  0.24907882 0.65879471 0.65153364 0.63152779]\n",
            " [0.21323358 0.35495494 0.47029703 0.67471117 0.05892112 0.36321475\n",
            "  0.5130594  0.62117058 0.08140256 0.86815456 0.5654625  0.53483208\n",
            "  0.24816745 0.5288257  0.56222596 0.67259811 0.40793014 0.45199102\n",
            "  0.68920894 0.4194188  0.12142044 0.53027431 0.25726497 0.13841661\n",
            "  0.74432781 0.2701827  0.72094209 0.46665344 0.78055269 0.29623373\n",
            "  0.55182973 0.36396677 0.5795048  0.56298943 0.14650907 0.05370904\n",
            "  0.59060472 0.74525976 0.56894993 0.46548894 0.38419375 0.35052006\n",
            "  0.22056738 0.00705074 0.35930624 0.25767288 0.61972106 0.18453185\n",
            "  0.44629311 0.22794496 0.45555873 0.54401891 0.41976603 0.48893763\n",
            "  0.4348788  0.6210412  0.26863818 0.39990524 0.68146029 0.42456594\n",
            "  0.19076914 0.26360954 0.50000957 0.38159513 0.54305553 0.54214035\n",
            "  0.2566397  0.40266168 0.71200846 0.45765314 0.66469753 0.41609057\n",
            "  0.40480802 0.41059659 0.59714702 0.73600395 0.17733901 0.34643267\n",
            "  0.14161011 0.11246438 0.40803878 0.82395747 0.61804737 0.\n",
            "  0.45712304 0.2626499  0.65301548 0.23443315 0.78182923 0.18459178\n",
            "  0.71282812 0.46084986 0.65496428 0.52353986 0.29178541 0.62566228\n",
            "  0.73823476 0.54510004 0.19301007 0.15047595]\n",
            " [0.64565324 0.51911171 0.06947119 0.31501029 0.50047791 0.1888697\n",
            "  0.64083206 0.18191753 0.40546228 0.84524254 0.13966579 0.24125533\n",
            "  0.33671766 0.65248135 0.29361322 0.30100422 0.20209367 0.83181944\n",
            "  0.23939343 0.54788052 0.39017123 0.53165235 0.23586499 0.53738531\n",
            "  0.28746171 0.70438774 0.26517605 0.18667817 0.74240143 0.4174455\n",
            "  0.09523022 0.12188866 0.28525304 0.27444172 0.37950888 0.47453963\n",
            "  0.35419994 0.74473156 0.79689294 0.64219789 0.10846556 0.14505141\n",
            "  0.53173678 0.45454175 0.43658016 0.45806037 0.7207654  0.5779871\n",
            "  0.72279848 0.50590832 0.56387705 0.08792771 0.62708152 0.52545112\n",
            "  0.86716491 0.28030325 0.71363911 0.58066879 0.40696091 0.60428165\n",
            "  0.53813134 0.70427403 0.30524058 0.69628693 0.16069084 0.190745\n",
            "  0.20088332 0.54560613 0.6175633  0.84377748 0.21932713 0.78972757\n",
            "  0.21527194 0.82048634 0.2121988  0.51683997 0.30961522 0.41127476\n",
            "  0.3155301  0.356842   0.30326999 0.76648596 0.20421456 0.45712304\n",
            "  0.         0.63990057 0.59295142 0.22384398 0.79980096 0.39196966\n",
            "  0.79410465 0.20063035 0.19836683 0.15068608 0.67600833 0.54395944\n",
            "  0.28564766 0.66250482 0.45668442 0.44174579]\n",
            " [0.10731198 0.60694003 0.67404851 0.90612498 0.20530614 0.59987567\n",
            "  0.35782736 0.81962928 0.25642091 1.1239237  0.71138159 0.62197881\n",
            "  0.50862107 0.77386896 0.8073683  0.90056115 0.51128862 0.57642164\n",
            "  0.84236614 0.3029446  0.38347432 0.79126776 0.40453876 0.34991541\n",
            "  0.91866168 0.36566031 0.88383646 0.57358291 1.03942997 0.28134225\n",
            "  0.72624423 0.57872059 0.82103543 0.80457451 0.26160555 0.21202382\n",
            "  0.8422409  1.00101841 0.77822191 0.70306935 0.59774895 0.50208468\n",
            "  0.45376999 0.25868039 0.32153684 0.21732739 0.86384896 0.07814632\n",
            "  0.64844461 0.14952851 0.33615415 0.71761718 0.65352361 0.74867018\n",
            "  0.48356525 0.85492191 0.16013163 0.643414   0.93098395 0.66561872\n",
            "  0.41540143 0.34620995 0.75226779 0.57375542 0.6707506  0.76826243\n",
            "  0.46131556 0.65393992 0.97450552 0.57390785 0.85903479 0.55439172\n",
            "  0.50182131 0.50569583 0.81764037 0.99388632 0.33260487 0.60889058\n",
            "  0.36136541 0.36198367 0.45621114 1.08374875 0.74834668 0.2626499\n",
            "  0.63990057 0.         0.91500026 0.42906147 1.03417921 0.24976641\n",
            "  0.95647169 0.56117991 0.83302996 0.65188241 0.45212457 0.88828136\n",
            "  0.92404932 0.38714601 0.44828645 0.40849922]\n",
            " [0.84715738 0.3293808  0.5286847  0.43219064 0.70969455 0.43206532\n",
            "  1.1100936  0.57079234 0.68278167 0.25310206 0.71596858 0.83189396\n",
            "  0.41908757 0.24679032 0.32889512 0.45123199 0.75688886 0.66065688\n",
            "  0.74739037 1.00739548 0.53468262 0.1266537  0.67059915 0.58923844\n",
            "  0.7075528  0.700198   0.73330565 0.76815929 0.15043268 0.85710547\n",
            "  0.63324911 0.50686731 0.35330172 0.35318541 0.71962717 0.70552509\n",
            "  0.27401377 0.1570495  0.4227239  0.31547685 0.5056716  0.66065904\n",
            "  0.49059436 0.65754446 0.90791763 0.85598276 0.23345707 0.83714564\n",
            "  0.45929244 0.85839962 1.03713059 0.63371513 0.35481228 0.17363678\n",
            "  0.79254802 0.40515533 0.87623968 0.32718124 0.3037215  0.32162697\n",
            "  0.52992834 0.71645934 0.28892192 0.50370555 0.75178213 0.43938972\n",
            "  0.56759478 0.29212171 0.06629633 0.67860466 0.60087387 0.62792229\n",
            "  0.76657047 0.71067692 0.4718116  0.2272903  0.67231607 0.30699859\n",
            "  0.59704971 0.56874994 0.8397513  0.18201148 0.77603935 0.65301548\n",
            "  0.59295142 0.91500026 0.         0.59570265 0.21416828 0.76137888\n",
            "  0.25299369 0.77836964 0.65503911 0.74339879 0.59721573 0.05028633\n",
            "  0.66398451 1.13954459 0.47057996 0.50753564]\n",
            " [0.42391224 0.39843402 0.24654496 0.47953379 0.27665754 0.18810101\n",
            "  0.51979235 0.39547355 0.18296648 0.84169753 0.33319536 0.33124046\n",
            "  0.20482163 0.56522571 0.39502848 0.47273761 0.21061406 0.64239297\n",
            "  0.45499659 0.41742681 0.19014593 0.49554435 0.07639368 0.33030429\n",
            "  0.51128372 0.49185171 0.48659831 0.25737124 0.74236699 0.2673538\n",
            "  0.31789553 0.15039596 0.40351166 0.38758933 0.16906494 0.25097761\n",
            "  0.44055889 0.72532887 0.6701971  0.52914283 0.16893787 0.12666425\n",
            "  0.35153706 0.23144465 0.31334412 0.28245724 0.64913039 0.36131444\n",
            "  0.57143184 0.31139464 0.44463096 0.30995623 0.49892507 0.46981588\n",
            "  0.65694371 0.4301514  0.49052986 0.4600064  0.52193689 0.48649206\n",
            "  0.34637715 0.48932213 0.35716296 0.52792886 0.3170622  0.34082867\n",
            "  0.03424947 0.43858683 0.64078949 0.65206368 0.43727952 0.60177081\n",
            "  0.21353792 0.61889124 0.38870648 0.60490316 0.09922268 0.32081486\n",
            "  0.09402566 0.14434148 0.26038812 0.77765497 0.38887868 0.23443315\n",
            "  0.22384398 0.42906147 0.59570265 0.         0.77358416 0.1954732\n",
            "  0.73606729 0.25687361 0.4221997  0.29811813 0.48056342 0.55481952\n",
            "  0.50799143 0.54787809 0.28120279 0.25231062]\n",
            " [0.95145905 0.4277581  0.73777597 0.6423694  0.83323131 0.6283701\n",
            "  1.27178641 0.7849577  0.82775032 0.10060812 0.92671328 1.03550944\n",
            "  0.57806676 0.26542854 0.54305114 0.66208857 0.95183721 0.65649045\n",
            "  0.96148441 1.17024322 0.67421162 0.27879526 0.84993614 0.68762804\n",
            "  0.92082604 0.7571066  0.94735821 0.96895055 0.10011639 1.0226791\n",
            "  0.84525206 0.70500162 0.56739222 0.56734299 0.87451849 0.83552839\n",
            "  0.48780623 0.05717357 0.36772512 0.34394528 0.70644398 0.85393096\n",
            "  0.58280021 0.78750694 1.07815744 1.01182992 0.18402983 0.95899788\n",
            "  0.46002221 1.00291531 1.20245506 0.8453412  0.39496317 0.30529671\n",
            "  0.80832467 0.6182761  0.96563046 0.39334745 0.50872665 0.37416961\n",
            "  0.62254842 0.77659977 0.49955644 0.52681486 0.9599378  0.65305763\n",
            "  0.749314   0.38040182 0.22270562 0.67388301 0.81472091 0.63439006\n",
            "  0.96047078 0.72440363 0.68593239 0.41193964 0.83772483 0.45795376\n",
            "  0.75671395 0.71781634 1.02790117 0.13107234 0.9877262  0.78182923\n",
            "  0.79980096 1.03417921 0.21416828 0.77358416 0.         0.91847299\n",
            "  0.11436366 0.97794515 0.86920705 0.95046744 0.64587369 0.26429737\n",
            "  0.87658754 1.30251885 0.58902722 0.63136885]\n",
            " [0.27815545 0.50489944 0.43114137 0.67325737 0.18061535 0.38146776\n",
            "  0.35337734 0.57305805 0.10605801 0.99643558 0.4629468  0.38912445\n",
            "  0.34363667 0.68151692 0.58988173 0.66540371 0.26917542 0.63441829\n",
            "  0.59371712 0.25254425 0.25024256 0.64880591 0.15612573 0.32287384\n",
            "  0.66889705 0.44161672 0.63440045 0.33203128 0.90159095 0.11356784\n",
            "  0.47672272 0.34431215 0.59893701 0.58296735 0.04473145 0.15371157\n",
            "  0.6334159  0.87558723 0.74454603 0.62738765 0.36175504 0.25237397\n",
            "  0.39576321 0.17765457 0.17633788 0.09460442 0.77124478 0.1973806\n",
            "  0.6259829  0.11666879 0.28623336 0.46807355 0.58601767 0.61456106\n",
            "  0.60079551 0.62486149 0.35199874 0.55854035 0.71660384 0.58469956\n",
            "  0.37109494 0.43083457 0.54748216 0.56426872 0.42522501 0.53438796\n",
            "  0.22968674 0.55141793 0.81285361 0.63908475 0.61128707 0.59960565\n",
            "  0.26155999 0.58747853 0.57940721 0.795372   0.09722647 0.4621206\n",
            "  0.16434733 0.20152944 0.2384901  0.94092579 0.50310657 0.18459178\n",
            "  0.39196966 0.24976641 0.76137888 0.1954732  0.91847299 0.\n",
            "  0.86309618 0.3215513  0.58345513 0.40596309 0.47582812 0.72541932\n",
            "  0.67483471 0.38432623 0.34974078 0.30716565]\n",
            " [0.86821935 0.35960383 0.73742213 0.68096485 0.76053379 0.6121281\n",
            "  1.21545695 0.8053407  0.76658573 0.21269654 0.9276329  1.02148579\n",
            "  0.53318059 0.18400964 0.56549223 0.69906034 0.92743109 0.54633225\n",
            "  0.97732197 1.11558404 0.61383662 0.26301041 0.81205272 0.60678193\n",
            "  0.9483933  0.65978411 0.96910622 0.95157305 0.19827575 0.97154449\n",
            "  0.8507295  0.68874207 0.59258475 0.58935515 0.81847906 0.76603378\n",
            "  0.51717435 0.13485126 0.25452585 0.25421879 0.69343205 0.82913608\n",
            "  0.50272527 0.71897237 1.02975595 0.95429945 0.09312813 0.88347647\n",
            "  0.35435812 0.93864691 1.14922457 0.84964516 0.3049236  0.27176812\n",
            "  0.70029591 0.6489584  0.87637163 0.31389583 0.55623144 0.2909003\n",
            "  0.54121764 0.67996159 0.50863308 0.42480641 0.95461182 0.668311\n",
            "  0.71557993 0.31227705 0.28771065 0.56347505 0.83951573 0.52636949\n",
            "  0.93477326 0.6167428  0.70887729 0.47594188 0.78940212 0.41526028\n",
            "  0.70625776 0.66168638 0.99536206 0.23904217 0.99074361 0.71282812\n",
            "  0.79410465 0.95647169 0.25299369 0.73606729 0.11436366 0.86309618\n",
            "  0.         0.95883842 0.88815901 0.94315069 0.54813271 0.29693406\n",
            "  0.90720367 1.24682654 0.52070538 0.56408939]\n",
            " [0.59969039 0.64445906 0.26991285 0.5088356  0.48388974 0.34962412\n",
            "  0.46858721 0.3492142  0.38614072 1.03144336 0.17150257 0.0750599\n",
            "  0.44833653 0.80050254 0.49332565 0.49266982 0.05344937 0.89553322\n",
            "  0.29608328 0.38763735 0.44550414 0.70196095 0.20514216 0.57845388\n",
            "  0.39001184 0.73047787 0.34429842 0.01686598 0.92878782 0.29087897\n",
            "  0.229427   0.27295035 0.48584101 0.47477532 0.33324785 0.45509894\n",
            "  0.55323857 0.92480133 0.92125494 0.77452852 0.27271474 0.1350861\n",
            "  0.60825701 0.45570748 0.28427125 0.34889342 0.87803662 0.51807394\n",
            "  0.82716037 0.41258464 0.39505928 0.22183395 0.74893929 0.68708334\n",
            "  0.89560963 0.47880432 0.67342652 0.70710505 0.60747489 0.73298624\n",
            "  0.60137006 0.72445789 0.49669468 0.78480241 0.11721694 0.39106183\n",
            "  0.26109448 0.68020535 0.80893898 0.90426871 0.37167888 0.85565586\n",
            "  0.06001616 0.86603738 0.40634604 0.71718485 0.28363566 0.5515626\n",
            "  0.33927759 0.39586892 0.1269512  0.95625299 0.19096274 0.46084986\n",
            "  0.20063035 0.56117991 0.77836964 0.25687361 0.97794515 0.3215513\n",
            "  0.95883842 0.         0.31986476 0.10170421 0.73272515 0.73098655\n",
            "  0.41179408 0.48573468 0.53798023 0.50873245]\n",
            " [0.84331444 0.67020788 0.19646066 0.25623889 0.69884375 0.34467666\n",
            "  0.78845095 0.08439465 0.60359672 0.89367894 0.15089564 0.3125622\n",
            "  0.50918436 0.7748875  0.32618925 0.23503326 0.34996115 1.01038517\n",
            "  0.09438072 0.70548164 0.58150175 0.62961484 0.42888774 0.72857922\n",
            "  0.08944726 0.89673289 0.08289538 0.30303513 0.79417974 0.59200306\n",
            "  0.10681291 0.30213169 0.3022394  0.30189698 0.57494416 0.67287274\n",
            "  0.38257134 0.81208009 0.93810523 0.78143872 0.28318463 0.33114554\n",
            "  0.71138294 0.65254282 0.59830022 0.64035452 0.82856108 0.77383154\n",
            "  0.88151352 0.69403183 0.71460916 0.11541736 0.77603988 0.63734072\n",
            "  1.05741805 0.25795416 0.91179102 0.72782063 0.39051229 0.74842064\n",
            "  0.72273689 0.89785686 0.38038876 0.86539334 0.21034054 0.22001719\n",
            "  0.39834838 0.68726771 0.66006372 1.02353029 0.06811227 0.96799615\n",
            "  0.36304715 1.0061223  0.18386116 0.51031982 0.50612703 0.55654092\n",
            "  0.51337049 0.55231146 0.44564763 0.80719726 0.17117005 0.65496428\n",
            "  0.19836683 0.83302996 0.65503911 0.4221997  0.86920705 0.58345513\n",
            "  0.88815901 0.31986476 0.         0.22060643 0.85990556 0.60495334\n",
            "  0.09342773 0.80532244 0.63701337 0.62799696]\n",
            " [0.6816788  0.6539447  0.21579145 0.42973496 0.55453815 0.33293599\n",
            "  0.56896077 0.25963675 0.45540457 0.99539188 0.07031209 0.10036811\n",
            "  0.4624647  0.79675584 0.43671559 0.41178844 0.14250437 0.9386375\n",
            "  0.19541763 0.48930533 0.4865689  0.68127443 0.26831141 0.62841393\n",
            "  0.28834919 0.78842895 0.24283171 0.08544375 0.89259255 0.38884758\n",
            "  0.14090442 0.25856067 0.42425477 0.4156036  0.41022933 0.52616956\n",
            "  0.49815677 0.8954173  0.93300858 0.78077598 0.25080163 0.17352923\n",
            "  0.64278844 0.5192503  0.38562448 0.44422293 0.86796311 0.60324417\n",
            "  0.84971374 0.50520452 0.49616011 0.13487122 0.7612578  0.67319064\n",
            "  0.9538668  0.40688012 0.75436106 0.71646387 0.54077886 0.74117862\n",
            "  0.64196429 0.78469314 0.45513675 0.81527436 0.01963183 0.32662879\n",
            "  0.29052615 0.68447081 0.7666062  0.94889312 0.27657612 0.89748836\n",
            "  0.15385667 0.91700006 0.33008829 0.65568574 0.3511273  0.55118932\n",
            "  0.38996799 0.44245914 0.2286424  0.91585871 0.09724574 0.52353986\n",
            "  0.15068608 0.65188241 0.74339879 0.29811813 0.95046744 0.40596309\n",
            "  0.94315069 0.10170421 0.22060643 0.         0.77776001 0.69423918\n",
            "  0.31133367 0.58511354 0.56915455 0.54605128]\n",
            " [0.34897553 0.27565027 0.66347418 0.79711621 0.30505766 0.51951388\n",
            "  0.77936556 0.80478584 0.37285932 0.74463542 0.80528603 0.80778506\n",
            "  0.35393248 0.38338568 0.66105976 0.80267694 0.6821078  0.16303329\n",
            "  0.91523469 0.69506109 0.29120572 0.4750974  0.52875026 0.15656975\n",
            "  0.94718875 0.111653   0.93651279 0.73546116 0.68115442 0.5854329\n",
            "  0.76896891 0.5591338  0.68685885 0.67228407 0.43819901 0.3266669\n",
            "  0.66250907 0.62817584 0.33338368 0.30323323 0.5772964  0.60715641\n",
            "  0.15117086 0.2985777  0.64814782 0.53987048 0.46245152 0.39432851\n",
            "  0.20438013 0.49432008 0.73187262 0.76265756 0.2534682  0.42734565\n",
            "  0.21149395 0.7431785  0.33814408 0.27074298 0.75159944 0.28095716\n",
            "  0.13787877 0.13196521 0.58235329 0.12801389 0.79632181 0.69007829\n",
            "  0.48785447 0.305835   0.6634781  0.17163534 0.84997997 0.1247809\n",
            "  0.6814386  0.14686025 0.74924255 0.76076169 0.45830777 0.35947958\n",
            "  0.39344815 0.33731807 0.69620533 0.72931594 0.86503039 0.29178541\n",
            "  0.67600833 0.45212457 0.59721573 0.48056342 0.64587369 0.47582812\n",
            "  0.54813271 0.73272515 0.85990556 0.77776001 0.         0.5920411\n",
            "  0.92867295 0.811219   0.22343232 0.23439082]\n",
            " [0.82472421 0.31855887 0.47920339 0.38485603 0.68325114 0.38654296\n",
            "  1.07173637 0.52074948 0.6506703  0.30134001 0.66604609 0.78347467\n",
            "  0.38591806 0.26435466 0.27877183 0.40349178 0.7107228  0.66728742\n",
            "  0.69719477 0.96899241 0.50567408 0.11747659 0.62892624 0.57108639\n",
            "  0.65826313 0.69137742 0.68344218 0.72048446 0.19847757 0.81845029\n",
            "  0.58312331 0.46044771 0.3034512  0.30306484 0.68450873 0.67735585\n",
            "  0.22458233 0.20723086 0.44595361 0.32505886 0.45848409 0.61514976\n",
            "  0.47602549 0.62982717 0.86787222 0.81991541 0.26654523 0.81018873\n",
            "  0.46915171 0.82532973 0.99801848 0.58365197 0.35915473 0.16482375\n",
            "  0.79277882 0.35613042 0.85744128 0.32598406 0.25990106 0.32452596\n",
            "  0.5144005  0.70661812 0.23933629 0.5069346  0.70237656 0.38910397\n",
            "  0.52575023 0.2866041  0.0875481  0.68509975 0.55121731 0.63257026\n",
            "  0.72065997 0.71236261 0.42188589 0.19661524 0.63455063 0.27963783\n",
            "  0.56146018 0.53652216 0.79519659 0.22604054 0.72594335 0.62566228\n",
            "  0.54395944 0.88828136 0.05028633 0.55481952 0.26429737 0.72541932\n",
            "  0.29693406 0.73098655 0.60495334 0.69423918 0.5920411  0.\n",
            "  0.61509211 1.10080184 0.44892192 0.48356399]\n",
            " [0.93111206 0.72172306 0.27025452 0.23755891 0.78424465 0.40922158\n",
            "  0.8801821  0.12399766 0.69055952 0.89060799 0.24104558 0.39906258\n",
            "  0.57504714 0.80991995 0.34260209 0.2166343  0.44319973 1.0745408\n",
            "  0.14521991 0.79831072 0.65786738 0.656244   0.51953211 0.80380612\n",
            "  0.04964361 0.97225281 0.09919212 0.39503406 0.79461246 0.68538724\n",
            "  0.19854646 0.37825352 0.31480864 0.31935346 0.6647324  0.75894276\n",
            "  0.39080966 0.81955416 0.98059988 0.8249221  0.3583902  0.42292525\n",
            "  0.77839483 0.7362178  0.69151469 0.73335742 0.85537435 0.86344284\n",
            "  0.93428858 0.78630817 0.80683425 0.20725753 0.82470624 0.67033875\n",
            "  1.13046024 0.25897549 0.99850603 0.77627876 0.37641777 0.79497242\n",
            "  0.79295964 0.97461453 0.40974767 0.92442334 0.29947772 0.25460199\n",
            "  0.48209265 0.73363625 0.65962968 1.08844897 0.07901758 1.03217795\n",
            "  0.456229   1.07547409 0.20242468 0.49282293 0.5951713  0.60775358\n",
            "  0.59710884 0.63260675 0.53810962 0.80211088 0.24907882 0.73823476\n",
            "  0.28564766 0.92404932 0.66398451 0.50799143 0.87658754 0.67483471\n",
            "  0.90720367 0.41179408 0.09342773 0.31133367 0.92867295 0.61509211\n",
            "  0.         0.89642536 0.70525825 0.70020579]\n",
            " [0.491278   0.88778068 0.72420883 0.97680193 0.51152781 0.73113856\n",
            "  0.03209951 0.83152319 0.48135282 1.37902366 0.65538113 0.50329152\n",
            "  0.72580775 1.06446769 0.92676574 0.96342304 0.46363458 0.95224019\n",
            "  0.77048931 0.13245864 0.63304823 1.03086207 0.47773591 0.67621718\n",
            "  0.87094065 0.74156604 0.82140944 0.50259979 1.28272464 0.2824465\n",
            "  0.71325268 0.67269845 0.92837627 0.91410908 0.42868436 0.49631346\n",
            "  0.97913059 1.2588875  1.11349962 1.00711923 0.68443886 0.52696837\n",
            "  0.76565915 0.53826567 0.2359974  0.29262894 1.15462737 0.4219132\n",
            "  0.98868121 0.3195715  0.10335497 0.70522291 0.9633201  0.99805012\n",
            "  0.87019887 0.93785211 0.54639656 0.9393242  1.05191317 0.9650269\n",
            "  0.7348321  0.72396904 0.90126173 0.91983773 0.59733805 0.84496018\n",
            "  0.57927499 0.93472305 1.18748378 0.95186815 0.85682596 0.92537184\n",
            "  0.45010097 0.88688711 0.87441083 1.14630313 0.46752699 0.84530723\n",
            "  0.54621942 0.58576625 0.36268317 1.32061197 0.65879471 0.54510004\n",
            "  0.66250482 0.38714601 1.13954459 0.54787809 1.30251885 0.38432623\n",
            "  1.24682654 0.48573468 0.80532244 0.58511354 0.811219   1.10080184\n",
            "  0.89642536 0.         0.7294043  0.68604101]\n",
            " [0.3765902  0.16197469 0.44055751 0.58261302 0.24471151 0.29616998\n",
            "  0.69768016 0.5813982  0.24809611 0.67645934 0.58987692 0.61204091\n",
            "  0.13107736 0.33690087 0.45101944 0.58635663 0.4914569  0.37521764\n",
            "  0.69494263 0.59983479 0.10256041 0.34497805 0.34424118 0.12674863\n",
            "  0.72396942 0.28072348 0.71440618 0.53785539 0.59116458 0.4621915\n",
            "  0.54813759 0.33759791 0.47476132 0.45934043 0.30521322 0.24664317\n",
            "  0.46224346 0.55349512 0.39976155 0.27798682 0.35519167 0.40540633\n",
            "  0.0750558  0.19888056 0.52359627 0.43713071 0.42771998 0.3716107\n",
            "  0.29181657 0.41797558 0.63469334 0.54216189 0.23645724 0.3010212\n",
            "  0.42838211 0.52801441 0.40924299 0.20993436 0.55403712 0.2356542\n",
            "  0.08965599 0.28907602 0.37578663 0.24717459 0.58684295 0.4690951\n",
            "  0.2800212  0.20968937 0.53265509 0.38750596 0.62660234 0.33306579\n",
            "  0.4935575  0.37021635 0.52822325 0.58511715 0.29320526 0.17341799\n",
            "  0.21201866 0.15645188 0.52748    0.63571117 0.65153364 0.19301007\n",
            "  0.45668442 0.44828645 0.47057996 0.28120279 0.58902722 0.34974078\n",
            "  0.52070538 0.53798023 0.63701337 0.56915455 0.22343232 0.44892192\n",
            "  0.70525825 0.7294043  0.         0.0434905 ]\n",
            " [0.34131784 0.20503163 0.43207587 0.59159422 0.20381115 0.29396439\n",
            "  0.65429475 0.57702571 0.20481706 0.71790426 0.57122848 0.58337654\n",
            "  0.13630544 0.38033907 0.46422666 0.59379379 0.4606437  0.39294143\n",
            "  0.68107264 0.5566582  0.06472657 0.38295825 0.31061901 0.10883124\n",
            "  0.71610387 0.27438143 0.70335924 0.50965962 0.63131343 0.41998475\n",
            "  0.53509527 0.3261303  0.48634    0.47044933 0.26278758 0.20418404\n",
            "  0.48067983 0.59497175 0.43978008 0.32117824 0.34482139 0.37841278\n",
            "  0.09989542 0.15614613 0.48171365 0.39388009 0.47113478 0.33123936\n",
            "  0.32782635 0.37456041 0.5916276  0.52864908 0.27886645 0.34019454\n",
            "  0.43026341 0.53681331 0.37891282 0.25335812 0.57282373 0.2789859\n",
            "  0.09667565 0.27963977 0.39206794 0.27729619 0.56425808 0.47190527\n",
            "  0.25552707 0.25273236 0.56847724 0.40381812 0.62221002 0.35154065\n",
            "  0.46189158 0.37895527 0.53061135 0.6112505  0.25453371 0.20474794\n",
            "  0.17569706 0.11848394 0.49129566 0.6753285  0.63152779 0.15047595\n",
            "  0.44174579 0.40849922 0.50753564 0.25231062 0.63136885 0.30716565\n",
            "  0.56408939 0.50873245 0.62799696 0.54605128 0.23439082 0.48356399\n",
            "  0.70020579 0.68604101 0.0434905  0.        ]]\n"
          ]
        }
      ]
    },
    {
      "cell_type": "code",
      "source": [
        "Z = np.arange(5, dtype=np.float32)                                      #53\n",
        "Z_1 = Z.astype(np.float32, copy=False)\n",
        "Z_1[0] = 2\n",
        "print(Z)"
      ],
      "metadata": {
        "colab": {
          "base_uri": "https://localhost:8080/"
        },
        "id": "67QsUZkMjUCw",
        "outputId": "736bc9f3-0e57-4a6c-ed3b-a587f50e67f7"
      },
      "execution_count": null,
      "outputs": [
        {
          "output_type": "stream",
          "name": "stdout",
          "text": [
            "[2. 1. 2. 3. 4.]\n"
          ]
        }
      ]
    },
    {
      "cell_type": "code",
      "source": [
        "from io import StringIO                           #54\n",
        "s = StringIO(\"\"\"1, 2, 3, 4, 5\\n\n",
        "                6,  ,  , 7, 8\\n\n",
        "                 ,  , 9,10,11\\n\"\"\")\n",
        "Z = np.genfromtxt(s, delimiter=\",\", dtype=int)\n",
        "print(Z)"
      ],
      "metadata": {
        "colab": {
          "base_uri": "https://localhost:8080/"
        },
        "id": "E4aqAXJ5jief",
        "outputId": "2cc0b5b5-431f-42ec-f792-87edd90942d1"
      },
      "execution_count": null,
      "outputs": [
        {
          "output_type": "stream",
          "name": "stdout",
          "text": [
            "[[ 1  2  3  4  5]\n",
            " [ 6 -1 -1  7  8]\n",
            " [-1 -1  9 10 11]]\n"
          ]
        }
      ]
    },
    {
      "cell_type": "code",
      "source": [
        "e = np.arange(9).reshape(3,3)                          #55\n",
        "for index, value in np.ndenumerate(e):\n",
        "    print(index, value)\n",
        "for index in np.ndindex(e.shape):\n",
        "    print(index, e[index])"
      ],
      "metadata": {
        "colab": {
          "base_uri": "https://localhost:8080/"
        },
        "id": "ShaXyDpLkIHe",
        "outputId": "498202f7-8a02-4aa4-d81a-f0220b1bc93a"
      },
      "execution_count": null,
      "outputs": [
        {
          "output_type": "stream",
          "name": "stdout",
          "text": [
            "(0, 0) 0\n",
            "(0, 1) 1\n",
            "(0, 2) 2\n",
            "(1, 0) 3\n",
            "(1, 1) 4\n",
            "(1, 2) 5\n",
            "(2, 0) 6\n",
            "(2, 1) 7\n",
            "(2, 2) 8\n",
            "(0, 0) 0\n",
            "(0, 1) 1\n",
            "(0, 2) 2\n",
            "(1, 0) 3\n",
            "(1, 1) 4\n",
            "(1, 2) 5\n",
            "(2, 0) 6\n",
            "(2, 1) 7\n",
            "(2, 2) 8\n"
          ]
        }
      ]
    },
    {
      "cell_type": "code",
      "source": [
        "x, y = np.meshgrid(np.linspace(-1,1,5), np.linspace(-1,1,5))                  #56\n",
        "d = np.sqrt(x*x+y*y)\n",
        "sigma, mu = 1.0, 0.0\n",
        "g = np.exp(-( (d-mu)**2 / ( 2.0 * sigma**2 ) ) )\n",
        "print(g)"
      ],
      "metadata": {
        "colab": {
          "base_uri": "https://localhost:8080/"
        },
        "id": "nzPNb6TGkQz6",
        "outputId": "2c8d30ff-0e9f-4aee-9ef9-d25c785d291f"
      },
      "execution_count": null,
      "outputs": [
        {
          "output_type": "stream",
          "name": "stdout",
          "text": [
            "[[0.36787944 0.53526143 0.60653066 0.53526143 0.36787944]\n",
            " [0.53526143 0.77880078 0.8824969  0.77880078 0.53526143]\n",
            " [0.60653066 0.8824969  1.         0.8824969  0.60653066]\n",
            " [0.53526143 0.77880078 0.8824969  0.77880078 0.53526143]\n",
            " [0.36787944 0.53526143 0.60653066 0.53526143 0.36787944]]\n"
          ]
        }
      ]
    },
    {
      "cell_type": "code",
      "source": [
        "n = 5                                  #57\n",
        "p = 3\n",
        "Z = np.zeros((n,n))\n",
        "np.put(Z, np.random.choice(range(n*n), p, replace=False),1)\n",
        "print(Z)\n",
        "\n",
        "np.put(Z,11,1)\n",
        "print(Z)"
      ],
      "metadata": {
        "colab": {
          "base_uri": "https://localhost:8080/"
        },
        "id": "sS5WFnXFksUu",
        "outputId": "36c4029b-6b21-4946-ea4a-10be7bc52bd5"
      },
      "execution_count": null,
      "outputs": [
        {
          "output_type": "stream",
          "name": "stdout",
          "text": [
            "[[0. 0. 0. 0. 0.]\n",
            " [0. 0. 0. 0. 0.]\n",
            " [0. 0. 1. 0. 0.]\n",
            " [1. 0. 0. 0. 0.]\n",
            " [0. 0. 0. 0. 1.]]\n",
            "[[0. 0. 0. 0. 0.]\n",
            " [0. 0. 0. 0. 0.]\n",
            " [0. 1. 1. 0. 0.]\n",
            " [1. 0. 0. 0. 0.]\n",
            " [0. 0. 0. 0. 1.]]\n"
          ]
        }
      ]
    },
    {
      "cell_type": "code",
      "source": [
        "X = np.random.rand(5, 5)                                #58\n",
        "Y = X - X.mean(axis = 1,keepdims = True)\n",
        "print(Y)\n",
        "X.mean(axis = 1).reshape(-1,1) == X.mean(axis = 1,keepdims =True)"
      ],
      "metadata": {
        "colab": {
          "base_uri": "https://localhost:8080/"
        },
        "id": "Ew6EGGd7mI-Y",
        "outputId": "49577316-7b62-4929-e16c-edd4e74dde57"
      },
      "execution_count": null,
      "outputs": [
        {
          "output_type": "stream",
          "name": "stdout",
          "text": [
            "[[-0.26465799  0.02822463  0.03355531  0.11118609  0.09169196]\n",
            " [ 0.01274711 -0.21406208 -0.30158194  0.14848021  0.3544167 ]\n",
            " [ 0.01369438 -0.29413747  0.11573722  0.01077643  0.15392944]\n",
            " [ 0.25495087 -0.11599339  0.3167528  -0.30063047 -0.1550798 ]\n",
            " [ 0.44224669 -0.27243414  0.0959675  -0.25653593 -0.00924412]]\n"
          ]
        },
        {
          "output_type": "execute_result",
          "data": {
            "text/plain": [
              "array([[ True],\n",
              "       [ True],\n",
              "       [ True],\n",
              "       [ True],\n",
              "       [ True]])"
            ]
          },
          "metadata": {},
          "execution_count": 46
        }
      ]
    },
    {
      "cell_type": "code",
      "source": [
        "s = np.random.randint(0,10,(5,5))                     #59\n",
        "print(s)\n",
        "s_1 = s\n",
        "for ind in range(5):\n",
        "     s_1[:,ind].sort()\n",
        "print(s_1)\n",
        "print(s[(-s)[:,1].argsort()])\n",
        "print(s[:,s[1,:].argsort()])"
      ],
      "metadata": {
        "colab": {
          "base_uri": "https://localhost:8080/"
        },
        "id": "Uc2lBHq2mWTh",
        "outputId": "5b5fc305-235b-4b47-8268-e4ebff45f573"
      },
      "execution_count": null,
      "outputs": [
        {
          "output_type": "stream",
          "name": "stdout",
          "text": [
            "[[9 3 5 9 8]\n",
            " [3 6 0 0 5]\n",
            " [3 8 1 0 0]\n",
            " [2 4 3 0 7]\n",
            " [2 0 3 9 5]]\n",
            "[[2 0 0 0 0]\n",
            " [2 3 1 0 5]\n",
            " [3 4 3 0 5]\n",
            " [3 6 3 9 7]\n",
            " [9 8 5 9 8]]\n",
            "[[9 8 5 9 8]\n",
            " [3 6 3 9 7]\n",
            " [3 4 3 0 5]\n",
            " [2 3 1 0 5]\n",
            " [2 0 0 0 0]]\n",
            "[[0 0 2 0 0]\n",
            " [0 1 2 3 5]\n",
            " [0 3 3 4 5]\n",
            " [9 3 3 6 7]\n",
            " [9 5 9 8 8]]\n"
          ]
        }
      ]
    },
    {
      "cell_type": "code",
      "source": [
        "twod = np.random.randint(0,3,(3,10))                        #60\n",
        "twod[:,1] = 0\n",
        "twod = twod.astype(bool)\n",
        "print(twod)\n",
        "(twod).any(axis = 0)"
      ],
      "metadata": {
        "colab": {
          "base_uri": "https://localhost:8080/"
        },
        "id": "EtCPYrKDm31v",
        "outputId": "b3fab88e-0fe4-41d5-b667-5dc55d8d3d14"
      },
      "execution_count": null,
      "outputs": [
        {
          "output_type": "stream",
          "name": "stdout",
          "text": [
            "[[False False  True  True  True  True  True  True  True  True]\n",
            " [False False  True  True  True  True False  True False  True]\n",
            " [ True False False  True  True  True False False  True  True]]\n"
          ]
        },
        {
          "output_type": "execute_result",
          "data": {
            "text/plain": [
              "array([ True, False,  True,  True,  True,  True,  True,  True,  True,\n",
              "        True])"
            ]
          },
          "metadata": {},
          "execution_count": 50
        }
      ]
    },
    {
      "cell_type": "code",
      "source": [
        "x = np.random.uniform(1, 12, 5)                     #61\n",
        "v = 4\n",
        "n = x.flat[np.abs(x - v).argmin()]\n",
        "print(n)"
      ],
      "metadata": {
        "colab": {
          "base_uri": "https://localhost:8080/"
        },
        "id": "o9p5p4nrnfup",
        "outputId": "19695c86-0842-4c60-9494-9dd0525e8f3b"
      },
      "execution_count": null,
      "outputs": [
        {
          "output_type": "stream",
          "name": "stdout",
          "text": [
            "2.29233430264362\n"
          ]
        }
      ]
    },
    {
      "cell_type": "code",
      "source": [
        "A = np.arange(3).reshape(3,1)                     #62\n",
        "B = np.arange(3).reshape(1,3)\n",
        "print(A)\n",
        "print(B)\n",
        "it = np.nditer([A,B,None])\n",
        "for x,y,z in it: z[...] = x + y\n",
        "print(\"sum :\")\n",
        "print(it.operands[2])"
      ],
      "metadata": {
        "colab": {
          "base_uri": "https://localhost:8080/"
        },
        "id": "CxxnJr7MoDxN",
        "outputId": "8376610f-6313-4c8c-aed7-29b15e8df990"
      },
      "execution_count": null,
      "outputs": [
        {
          "output_type": "stream",
          "name": "stdout",
          "text": [
            "[[0]\n",
            " [1]\n",
            " [2]]\n",
            "[[0 1 2]]\n",
            "sum :\n",
            "[[0 1 2]\n",
            " [1 2 3]\n",
            " [2 3 4]]\n"
          ]
        }
      ]
    },
    {
      "cell_type": "code",
      "source": [
        "class Namedarray(np.ndarray):                           #63\n",
        "    def __new__(cls, array, name=\"no name\"):\n",
        "        obj = np.asarray(array).view(cls)\n",
        "        obj.name = name\n",
        "        return obj\n",
        "    def __array_finalize__(self, obj):\n",
        "        if obj is None: return\n",
        "        self.name = getattr(obj, 'name', \"no name\")\n",
        "\n",
        "Z = NamedArray(np.arange(10), \"range_10\")\n",
        "print (Z.name)"
      ],
      "metadata": {
        "colab": {
          "base_uri": "https://localhost:8080/"
        },
        "id": "ef-NpkbzpiwS",
        "outputId": "67b7feb6-8542-4a48-c783-1115fed2a7e6"
      },
      "execution_count": null,
      "outputs": [
        {
          "output_type": "stream",
          "name": "stdout",
          "text": [
            "range_10\n"
          ]
        }
      ]
    },
    {
      "cell_type": "code",
      "source": [
        "Z = np.ones(10)                                                     #64\n",
        "I = np.random.randint(0,len(Z),20)\n",
        "Z += np.bincount(I, minlength=len(Z))\n",
        "print(Z)\n"
      ],
      "metadata": {
        "colab": {
          "base_uri": "https://localhost:8080/"
        },
        "id": "VBWFyG5_toHb",
        "outputId": "aa95d43c-3910-400f-806f-1aa9192dbc65"
      },
      "execution_count": null,
      "outputs": [
        {
          "output_type": "stream",
          "name": "stdout",
          "text": [
            "[2. 4. 3. 2. 4. 4. 2. 3. 3. 3.]\n"
          ]
        }
      ]
    },
    {
      "cell_type": "code",
      "source": [
        "X = [1,2,3,4,5,6]                                     #65\n",
        "I = [1,3,9,3,4,1]\n",
        "F = np.bincount(I,X)\n",
        "print(F)"
      ],
      "metadata": {
        "colab": {
          "base_uri": "https://localhost:8080/"
        },
        "id": "0Ypbcs7uuTTP",
        "outputId": "9d8ddb78-8a62-4504-de2f-09bebe1d7162"
      },
      "execution_count": null,
      "outputs": [
        {
          "output_type": "stream",
          "name": "stdout",
          "text": [
            "[0. 7. 0. 6. 5. 0. 0. 0. 0. 3.]\n"
          ]
        }
      ]
    },
    {
      "cell_type": "code",
      "source": [
        "w,h = 16,16                                         #66\n",
        "I = np.random.randint(0,2,(h,w,3)).astype(np.ubyte)\n",
        "F = I[...,0]*256*256 + I[...,1]*256 +I[...,2]\n",
        "n = len(np.unique(F))\n",
        "print(np.unique(I))"
      ],
      "metadata": {
        "colab": {
          "base_uri": "https://localhost:8080/"
        },
        "id": "ZrP_5hiBuU57",
        "outputId": "33bd532c-0234-44b4-bd4a-f288dfb74edc"
      },
      "execution_count": null,
      "outputs": [
        {
          "output_type": "stream",
          "name": "stdout",
          "text": [
            "[0 1]\n"
          ]
        }
      ]
    },
    {
      "cell_type": "code",
      "source": [
        "A = np.random.randint(0,5,(3,4,3,4))                        #67\n",
        "sum = A.reshape(A.shape[:-2] + (-1,)).sum(axis=-1)\n",
        "print(sum)"
      ],
      "metadata": {
        "colab": {
          "base_uri": "https://localhost:8080/"
        },
        "id": "NWjdkwLKuck5",
        "outputId": "ab77318f-d676-492b-e9b8-3a0a58657b7d"
      },
      "execution_count": null,
      "outputs": [
        {
          "output_type": "stream",
          "name": "stdout",
          "text": [
            "[[23 15 27 23]\n",
            " [22 31 34 29]\n",
            " [26 21 31 29]]\n"
          ]
        }
      ]
    },
    {
      "cell_type": "code",
      "source": [
        "D = np.random.uniform(0,1,100)                          #68\n",
        "S = np.random.randint(0,5,100)\n",
        "D_sums = np.bincount(S, weights=D)\n",
        "D_counts = np.bincount(S)\n",
        "D_means = D_sums / D_counts\n",
        "print(D_means)"
      ],
      "metadata": {
        "colab": {
          "base_uri": "https://localhost:8080/"
        },
        "id": "9JDimdrKujeu",
        "outputId": "cf5d2cec-4be0-44c2-9bd2-26457685251c"
      },
      "execution_count": null,
      "outputs": [
        {
          "output_type": "stream",
          "name": "stdout",
          "text": [
            "[0.52461971 0.44376801 0.56886421 0.50591807 0.52525699]\n"
          ]
        }
      ]
    },
    {
      "cell_type": "code",
      "source": [
        "A = np.random.randint(0,5,(3,3))                         #69\n",
        "B= np.random.randint(0,5,(3,3))\n",
        "np.diag(np.dot(A, B))"
      ],
      "metadata": {
        "colab": {
          "base_uri": "https://localhost:8080/"
        },
        "id": "XrE6gmHqux2X",
        "outputId": "f7962102-360b-4d13-a938-52b120a3bea1"
      },
      "execution_count": null,
      "outputs": [
        {
          "output_type": "execute_result",
          "data": {
            "text/plain": [
              "array([ 8, 16, 17])"
            ]
          },
          "metadata": {},
          "execution_count": 67
        }
      ]
    },
    {
      "cell_type": "code",
      "source": [
        "Z = np.array([1,2,3,4,5])                                  #70\n",
        "nz = 3\n",
        "Z0 = np.zeros(len(Z) + (len(Z)-1)*(nz))\n",
        "Z0[::4] = Z\n",
        "print(Z0)"
      ],
      "metadata": {
        "colab": {
          "base_uri": "https://localhost:8080/"
        },
        "id": "Pv-nyTl0w15y",
        "outputId": "526c5b1a-137f-4378-bc26-c48d49b2ef70"
      },
      "execution_count": null,
      "outputs": [
        {
          "output_type": "stream",
          "name": "stdout",
          "text": [
            "[1. 0. 0. 0. 2. 0. 0. 0. 3. 0. 0. 0. 4. 0. 0. 0. 5.]\n"
          ]
        }
      ]
    },
    {
      "cell_type": "code",
      "source": [
        "A = np.ones((5,5,3))                                           #71\n",
        "B = 2*np.ones((5,5))\n",
        "print(A * B[:,:,None])"
      ],
      "metadata": {
        "colab": {
          "base_uri": "https://localhost:8080/"
        },
        "id": "aO_fM8e-BewW",
        "outputId": "0175c5ee-8d64-467a-f9dd-cfa4f8306a0f"
      },
      "execution_count": null,
      "outputs": [
        {
          "output_type": "stream",
          "name": "stdout",
          "text": [
            "[[[2. 2. 2.]\n",
            "  [2. 2. 2.]\n",
            "  [2. 2. 2.]\n",
            "  [2. 2. 2.]\n",
            "  [2. 2. 2.]]\n",
            "\n",
            " [[2. 2. 2.]\n",
            "  [2. 2. 2.]\n",
            "  [2. 2. 2.]\n",
            "  [2. 2. 2.]\n",
            "  [2. 2. 2.]]\n",
            "\n",
            " [[2. 2. 2.]\n",
            "  [2. 2. 2.]\n",
            "  [2. 2. 2.]\n",
            "  [2. 2. 2.]\n",
            "  [2. 2. 2.]]\n",
            "\n",
            " [[2. 2. 2.]\n",
            "  [2. 2. 2.]\n",
            "  [2. 2. 2.]\n",
            "  [2. 2. 2.]\n",
            "  [2. 2. 2.]]\n",
            "\n",
            " [[2. 2. 2.]\n",
            "  [2. 2. 2.]\n",
            "  [2. 2. 2.]\n",
            "  [2. 2. 2.]\n",
            "  [2. 2. 2.]]]\n"
          ]
        }
      ]
    },
    {
      "cell_type": "code",
      "source": [
        "Arr = np.arange(25).reshape(5,5)                         #72\n",
        "Arr[[0,1]] = Arr[[1,0]]\n",
        "print(Arr)"
      ],
      "metadata": {
        "colab": {
          "base_uri": "https://localhost:8080/"
        },
        "id": "Lmh3cppaBghw",
        "outputId": "2147a1a8-7689-4857-befc-b9b66faa55b6"
      },
      "execution_count": null,
      "outputs": [
        {
          "output_type": "stream",
          "name": "stdout",
          "text": [
            "[[ 5  6  7  8  9]\n",
            " [ 0  1  2  3  4]\n",
            " [10 11 12 13 14]\n",
            " [15 16 17 18 19]\n",
            " [20 21 22 23 24]]\n"
          ]
        }
      ]
    },
    {
      "cell_type": "code",
      "source": [
        "faces = np.random.randint(0,100,(10,3))                          #73\n",
        "F = np.roll(faces.repeat(2,axis=1),-1,axis=1)\n",
        "F = F.reshape(len(F)*3,2)\n",
        "F = np.sort(F,axis=1)\n",
        "G = F.view( dtype=[('p0',F.dtype),('p1',F.dtype)] )\n",
        "G = np.unique(G)\n",
        "print(G)"
      ],
      "metadata": {
        "colab": {
          "base_uri": "https://localhost:8080/"
        },
        "id": "_L2IhhhRBvCU",
        "outputId": "c7e552f7-9ea5-4154-b6b1-ac60d823aa46"
      },
      "execution_count": null,
      "outputs": [
        {
          "output_type": "stream",
          "name": "stdout",
          "text": [
            "[( 4, 21) ( 4, 72) ( 8, 42) ( 8, 73) (15, 43) (15, 57) (16, 24) (16, 74)\n",
            " (17, 43) (17, 62) (21, 72) (24, 74) (32, 51) (32, 75) (34, 53) (34, 65)\n",
            " (42, 50) (42, 56) (42, 66) (42, 73) (43, 57) (43, 62) (49, 52) (49, 55)\n",
            " (50, 66) (51, 75) (52, 55) (53, 65) (56, 73)]\n"
          ]
        }
      ]
    },
    {
      "cell_type": "code",
      "source": [
        "C = np.bincount([1,1,2,3,4,4,6])                               #74  \n",
        "A = np.repeat(np.arange(len(C)), C)\n",
        "print(A)"
      ],
      "metadata": {
        "colab": {
          "base_uri": "https://localhost:8080/"
        },
        "id": "_QkmA9ONDnaa",
        "outputId": "5090f275-1310-4d50-c8f3-c7d64eeeab54"
      },
      "execution_count": null,
      "outputs": [
        {
          "output_type": "stream",
          "name": "stdout",
          "text": [
            "[1 1 2 3 4 4 6]\n"
          ]
        }
      ]
    },
    {
      "cell_type": "code",
      "source": [
        "def moving_average(a, n=3) :                         #75\n",
        "    ret = np.cumsum(a, dtype=float)\n",
        "    ret[n:] = ret[n:] - ret[:-n]\n",
        "    return ret[n - 1:] / n\n",
        "Z = np.arange(20)\n",
        "print(moving_average(Z, n=3))"
      ],
      "metadata": {
        "colab": {
          "base_uri": "https://localhost:8080/"
        },
        "id": "2dQQd7E8D7v4",
        "outputId": "f9788f6f-40b9-470a-b2d4-dd21c889b505"
      },
      "execution_count": null,
      "outputs": [
        {
          "output_type": "stream",
          "name": "stdout",
          "text": [
            "[ 1.  2.  3.  4.  5.  6.  7.  8.  9. 10. 11. 12. 13. 14. 15. 16. 17. 18.]\n"
          ]
        }
      ]
    },
    {
      "cell_type": "code",
      "source": [
        "def rolling(a, window):                                                 #76\n",
        "    shape = (a.size - window + 1, window)\n",
        "    strides = (a.itemsize, a.itemsize)\n",
        "    return np.lib.stride_tricks.as_strided(a, shape=shape, strides=strides)\n",
        "Z = rolling(np.arange(10), 3)\n",
        "print(Z)"
      ],
      "metadata": {
        "colab": {
          "base_uri": "https://localhost:8080/"
        },
        "id": "m64DOOYJELz4",
        "outputId": "368b7420-c43e-442d-e504-8fd7775e9f16"
      },
      "execution_count": null,
      "outputs": [
        {
          "output_type": "stream",
          "name": "stdout",
          "text": [
            "[[0 1 2]\n",
            " [1 2 3]\n",
            " [2 3 4]\n",
            " [3 4 5]\n",
            " [4 5 6]\n",
            " [5 6 7]\n",
            " [6 7 8]\n",
            " [7 8 9]]\n"
          ]
        }
      ]
    },
    {
      "cell_type": "code",
      "source": [
        "Z = np.random.randint(0,2,100)                                     #77\n",
        "print ('original: ')\n",
        "print (Z)\n",
        "print('Negating a boolean: ')\n",
        "print(np.logical_not(Z, out=Z))\n",
        "Z = np.random.uniform(-1.0,1.0,10)\n",
        "print ('original: ')\n",
        "print (Z)\n",
        "print ('Change the sign of float inplace: ')\n",
        "print(np.negative(Z, out=Z))"
      ],
      "metadata": {
        "colab": {
          "base_uri": "https://localhost:8080/"
        },
        "id": "ApC9WTHeEa1H",
        "outputId": "5949fdc0-8caf-453a-9fd4-5cc01f004162"
      },
      "execution_count": null,
      "outputs": [
        {
          "output_type": "stream",
          "name": "stdout",
          "text": [
            "original: \n",
            "[0 1 0 0 1 1 0 1 0 1 0 0 0 0 1 1 1 1 1 0 0 0 1 0 0 1 0 1 0 1 1 0 0 1 1 0 0\n",
            " 0 0 0 0 1 0 1 1 0 0 1 1 0 1 0 1 1 0 0 1 0 0 1 0 0 1 1 1 1 0 1 1 0 1 0 1 0\n",
            " 0 1 0 1 1 0 0 0 1 1 0 0 1 1 1 0 0 1 1 1 0 1 1 1 0 0]\n",
            "Negating a boolean: \n",
            "[1 0 1 1 0 0 1 0 1 0 1 1 1 1 0 0 0 0 0 1 1 1 0 1 1 0 1 0 1 0 0 1 1 0 0 1 1\n",
            " 1 1 1 1 0 1 0 0 1 1 0 0 1 0 1 0 0 1 1 0 1 1 0 1 1 0 0 0 0 1 0 0 1 0 1 0 1\n",
            " 1 0 1 0 0 1 1 1 0 0 1 1 0 0 0 1 1 0 0 0 1 0 0 0 1 1]\n",
            "original: \n",
            "[-0.35165689  0.497226   -0.6049564  -0.83493973 -0.04360558 -0.78552422\n",
            " -0.3534071  -0.4685363   0.9141099  -0.50232803]\n",
            "Change the sign of float inplace: \n",
            "[ 0.35165689 -0.497226    0.6049564   0.83493973  0.04360558  0.78552422\n",
            "  0.3534071   0.4685363  -0.9141099   0.50232803]\n"
          ]
        }
      ]
    },
    {
      "cell_type": "code",
      "source": [
        "def distance(P0, P1, p):                                               #78    \n",
        "    T = P1 - P0\n",
        "    L = (T**2).sum(axis=1)\n",
        "    U = -((P0[:,0]-p[...,0])*T[:,0] + (P0[:,1]-p[...,1])*T[:,1]) / L\n",
        "    U = U.reshape(len(U),1)\n",
        "    D = P0 + U*T - p\n",
        "    return np.sqrt((D**2).sum(axis=1))\n",
        "P0 = np.random.uniform(-10,10,(10,2))\n",
        "P1 = np.random.uniform(-10,10,(10,2))\n",
        "p  = np.random.uniform(-10,10,( 1,2))\n",
        "print(distance(P0, P1, p))"
      ],
      "metadata": {
        "colab": {
          "base_uri": "https://localhost:8080/"
        },
        "id": "SlxEHI23Evqc",
        "outputId": "505afb5b-80ae-407d-d761-6e3050b1029f"
      },
      "execution_count": null,
      "outputs": [
        {
          "output_type": "stream",
          "name": "stdout",
          "text": [
            "[10.45493745  1.92512121  9.6457064   1.51121594  6.94658249  3.49691725\n",
            "  9.01030723 11.57042431  3.18186022 10.43483896]\n"
          ]
        }
      ]
    },
    {
      "cell_type": "code",
      "source": [
        "P0 = np.random.uniform(-10, 10, (5,2))                            #79\n",
        "P1 = np.random.uniform(-10,10,(5,2))\n",
        "p = np.random.uniform(-10, 10, (5,2))\n",
        "print (np.array([distance(P0,P1,p_i) for p_i in p]))"
      ],
      "metadata": {
        "colab": {
          "base_uri": "https://localhost:8080/"
        },
        "id": "pkXVuQ3wE4Ii",
        "outputId": "77d5b136-0ab3-4703-aad9-1ea8d26141fe"
      },
      "execution_count": null,
      "outputs": [
        {
          "output_type": "stream",
          "name": "stdout",
          "text": [
            "[[ 0.54655279  1.02943241  6.84494194 15.92878556  5.25627172]\n",
            " [ 7.32425109  2.60559391  4.2429599   7.38686697  1.58368115]\n",
            " [ 0.70174377  0.27925134  7.47976975 15.57078581  4.08076329]\n",
            " [10.28629086  0.10709351  6.5017474   7.25334443  1.63162893]\n",
            " [ 9.79786903  8.86356279  2.61016184  1.04056035  3.84640037]]\n"
          ]
        }
      ]
    },
    {
      "cell_type": "code",
      "source": [
        "def cartesian(arrays):                                           #80\n",
        "    arrays = [np.asarray(a) for a in arrays]\n",
        "    shape = (len(x) for x in arrays)\n",
        "\n",
        "    ix = np.indices(shape, dtype=int)\n",
        "    ix = ix.reshape(len(arrays), -1).T\n",
        "\n",
        "    for n, arr in enumerate(arrays):\n",
        "        ix[:, n] = arrays[n][ix[:, n]]\n",
        "\n",
        "    return ix\n",
        "\n",
        "print (cartesian(([1, 2, 3], [4, 5], [6, 7])))"
      ],
      "metadata": {
        "id": "27KgFYv8FByb",
        "colab": {
          "base_uri": "https://localhost:8080/"
        },
        "outputId": "fdbc63a5-b825-42ba-bc26-f26ccf41fb10"
      },
      "execution_count": 44,
      "outputs": [
        {
          "output_type": "stream",
          "name": "stdout",
          "text": [
            "[[1 4 6]\n",
            " [1 4 7]\n",
            " [1 5 6]\n",
            " [1 5 7]\n",
            " [2 4 6]\n",
            " [2 4 7]\n",
            " [2 5 6]\n",
            " [2 5 7]\n",
            " [3 4 6]\n",
            " [3 4 7]\n",
            " [3 5 6]\n",
            " [3 5 7]]\n"
          ]
        }
      ]
    },
    {
      "cell_type": "code",
      "source": [
        "Z = np.arange(1,15,dtype=int)                       #81\n",
        "def rolling(a, window):\n",
        "    shape = (a.size - window + 1, window)\n",
        "    strides = (a.itemsize, a.itemsize)\n",
        "    return np.lib.stride_tricks.as_strided(a, shape=shape, strides=strides)\n",
        "R = rolling(Z, 4)\n",
        "print ('original: ')\n",
        "print (Z)\n",
        "print ('after strides: ')\n",
        "print(R)"
      ],
      "metadata": {
        "colab": {
          "base_uri": "https://localhost:8080/"
        },
        "id": "g5srZtkcFM7L",
        "outputId": "f22ace1d-8c0c-452c-8cb1-a2172fde1556"
      },
      "execution_count": null,
      "outputs": [
        {
          "output_type": "stream",
          "name": "stdout",
          "text": [
            "original: \n",
            "[ 1  2  3  4  5  6  7  8  9 10 11 12 13 14]\n",
            "after strides: \n",
            "[[ 1  2  3  4]\n",
            " [ 2  3  4  5]\n",
            " [ 3  4  5  6]\n",
            " [ 4  5  6  7]\n",
            " [ 5  6  7  8]\n",
            " [ 6  7  8  9]\n",
            " [ 7  8  9 10]\n",
            " [ 8  9 10 11]\n",
            " [ 9 10 11 12]\n",
            " [10 11 12 13]\n",
            " [11 12 13 14]]\n"
          ]
        }
      ]
    },
    {
      "cell_type": "code",
      "source": [
        "Z = np.random.uniform(0,1,(10,10))                        #82\n",
        "U, S, V = np.linalg.svd(Z)\n",
        "rank = np.sum(S > 1e-10)\n",
        "print (rank)"
      ],
      "metadata": {
        "colab": {
          "base_uri": "https://localhost:8080/"
        },
        "id": "lNPMRSPRFbGx",
        "outputId": "05137e6c-d98c-4460-d681-9a5941d6f699"
      },
      "execution_count": null,
      "outputs": [
        {
          "output_type": "stream",
          "name": "stdout",
          "text": [
            "10\n"
          ]
        }
      ]
    },
    {
      "cell_type": "code",
      "source": [
        "f = np.random.randint(0,10,50)                                 #83\n",
        "print (f)\n",
        "print('rank:', np.bincount(f).argmax())"
      ],
      "metadata": {
        "colab": {
          "base_uri": "https://localhost:8080/"
        },
        "id": "mezb7vX-FkHs",
        "outputId": "e11f3d02-981f-407d-bfde-a385e7b4e60d"
      },
      "execution_count": null,
      "outputs": [
        {
          "output_type": "stream",
          "name": "stdout",
          "text": [
            "[3 6 0 4 1 6 2 9 5 9 6 4 0 0 7 5 7 1 3 3 9 1 5 2 2 8 4 3 1 8 3 5 3 9 6 4 9\n",
            " 0 5 3 1 0 2 6 2 4 5 1 9 1]\n",
            "rank: 1\n"
          ]
        }
      ]
    },
    {
      "cell_type": "code",
      "source": [
        "Z = np.random.randint(0,5,(10,10))                         #84\n",
        "n = 3\n",
        "i = 1 + (Z.shape[0]-3)\n",
        "j = 1 + (Z.shape[1]-3)\n",
        "b = np.lib.stride_tricks.as_strided(Z, shape=(i, j, n, n), strides=Z.strides + Z.strides)\n",
        "print(b)"
      ],
      "metadata": {
        "colab": {
          "base_uri": "https://localhost:8080/"
        },
        "id": "2Mf2DjjDFpwC",
        "outputId": "ffa64ee0-3dda-4355-ed03-59b5aa3365a3"
      },
      "execution_count": null,
      "outputs": [
        {
          "output_type": "stream",
          "name": "stdout",
          "text": [
            "[[[[4 1 3]\n",
            "   [0 2 3]\n",
            "   [3 1 3]]\n",
            "\n",
            "  [[1 3 0]\n",
            "   [2 3 2]\n",
            "   [1 3 1]]\n",
            "\n",
            "  [[3 0 4]\n",
            "   [3 2 1]\n",
            "   [3 1 3]]\n",
            "\n",
            "  [[0 4 0]\n",
            "   [2 1 2]\n",
            "   [1 3 4]]\n",
            "\n",
            "  [[4 0 4]\n",
            "   [1 2 0]\n",
            "   [3 4 1]]\n",
            "\n",
            "  [[0 4 3]\n",
            "   [2 0 4]\n",
            "   [4 1 3]]\n",
            "\n",
            "  [[4 3 3]\n",
            "   [0 4 1]\n",
            "   [1 3 0]]\n",
            "\n",
            "  [[3 3 4]\n",
            "   [4 1 4]\n",
            "   [3 0 2]]]\n",
            "\n",
            "\n",
            " [[[0 2 3]\n",
            "   [3 1 3]\n",
            "   [3 0 1]]\n",
            "\n",
            "  [[2 3 2]\n",
            "   [1 3 1]\n",
            "   [0 1 2]]\n",
            "\n",
            "  [[3 2 1]\n",
            "   [3 1 3]\n",
            "   [1 2 1]]\n",
            "\n",
            "  [[2 1 2]\n",
            "   [1 3 4]\n",
            "   [2 1 1]]\n",
            "\n",
            "  [[1 2 0]\n",
            "   [3 4 1]\n",
            "   [1 1 0]]\n",
            "\n",
            "  [[2 0 4]\n",
            "   [4 1 3]\n",
            "   [1 0 1]]\n",
            "\n",
            "  [[0 4 1]\n",
            "   [1 3 0]\n",
            "   [0 1 1]]\n",
            "\n",
            "  [[4 1 4]\n",
            "   [3 0 2]\n",
            "   [1 1 3]]]\n",
            "\n",
            "\n",
            " [[[3 1 3]\n",
            "   [3 0 1]\n",
            "   [0 0 3]]\n",
            "\n",
            "  [[1 3 1]\n",
            "   [0 1 2]\n",
            "   [0 3 0]]\n",
            "\n",
            "  [[3 1 3]\n",
            "   [1 2 1]\n",
            "   [3 0 3]]\n",
            "\n",
            "  [[1 3 4]\n",
            "   [2 1 1]\n",
            "   [0 3 2]]\n",
            "\n",
            "  [[3 4 1]\n",
            "   [1 1 0]\n",
            "   [3 2 4]]\n",
            "\n",
            "  [[4 1 3]\n",
            "   [1 0 1]\n",
            "   [2 4 0]]\n",
            "\n",
            "  [[1 3 0]\n",
            "   [0 1 1]\n",
            "   [4 0 2]]\n",
            "\n",
            "  [[3 0 2]\n",
            "   [1 1 3]\n",
            "   [0 2 1]]]\n",
            "\n",
            "\n",
            " [[[3 0 1]\n",
            "   [0 0 3]\n",
            "   [3 4 3]]\n",
            "\n",
            "  [[0 1 2]\n",
            "   [0 3 0]\n",
            "   [4 3 4]]\n",
            "\n",
            "  [[1 2 1]\n",
            "   [3 0 3]\n",
            "   [3 4 4]]\n",
            "\n",
            "  [[2 1 1]\n",
            "   [0 3 2]\n",
            "   [4 4 0]]\n",
            "\n",
            "  [[1 1 0]\n",
            "   [3 2 4]\n",
            "   [4 0 2]]\n",
            "\n",
            "  [[1 0 1]\n",
            "   [2 4 0]\n",
            "   [0 2 0]]\n",
            "\n",
            "  [[0 1 1]\n",
            "   [4 0 2]\n",
            "   [2 0 1]]\n",
            "\n",
            "  [[1 1 3]\n",
            "   [0 2 1]\n",
            "   [0 1 0]]]\n",
            "\n",
            "\n",
            " [[[0 0 3]\n",
            "   [3 4 3]\n",
            "   [1 4 0]]\n",
            "\n",
            "  [[0 3 0]\n",
            "   [4 3 4]\n",
            "   [4 0 1]]\n",
            "\n",
            "  [[3 0 3]\n",
            "   [3 4 4]\n",
            "   [0 1 2]]\n",
            "\n",
            "  [[0 3 2]\n",
            "   [4 4 0]\n",
            "   [1 2 4]]\n",
            "\n",
            "  [[3 2 4]\n",
            "   [4 0 2]\n",
            "   [2 4 2]]\n",
            "\n",
            "  [[2 4 0]\n",
            "   [0 2 0]\n",
            "   [4 2 3]]\n",
            "\n",
            "  [[4 0 2]\n",
            "   [2 0 1]\n",
            "   [2 3 1]]\n",
            "\n",
            "  [[0 2 1]\n",
            "   [0 1 0]\n",
            "   [3 1 2]]]\n",
            "\n",
            "\n",
            " [[[3 4 3]\n",
            "   [1 4 0]\n",
            "   [0 0 2]]\n",
            "\n",
            "  [[4 3 4]\n",
            "   [4 0 1]\n",
            "   [0 2 2]]\n",
            "\n",
            "  [[3 4 4]\n",
            "   [0 1 2]\n",
            "   [2 2 3]]\n",
            "\n",
            "  [[4 4 0]\n",
            "   [1 2 4]\n",
            "   [2 3 3]]\n",
            "\n",
            "  [[4 0 2]\n",
            "   [2 4 2]\n",
            "   [3 3 4]]\n",
            "\n",
            "  [[0 2 0]\n",
            "   [4 2 3]\n",
            "   [3 4 4]]\n",
            "\n",
            "  [[2 0 1]\n",
            "   [2 3 1]\n",
            "   [4 4 1]]\n",
            "\n",
            "  [[0 1 0]\n",
            "   [3 1 2]\n",
            "   [4 1 2]]]\n",
            "\n",
            "\n",
            " [[[1 4 0]\n",
            "   [0 0 2]\n",
            "   [3 2 4]]\n",
            "\n",
            "  [[4 0 1]\n",
            "   [0 2 2]\n",
            "   [2 4 1]]\n",
            "\n",
            "  [[0 1 2]\n",
            "   [2 2 3]\n",
            "   [4 1 0]]\n",
            "\n",
            "  [[1 2 4]\n",
            "   [2 3 3]\n",
            "   [1 0 1]]\n",
            "\n",
            "  [[2 4 2]\n",
            "   [3 3 4]\n",
            "   [0 1 2]]\n",
            "\n",
            "  [[4 2 3]\n",
            "   [3 4 4]\n",
            "   [1 2 2]]\n",
            "\n",
            "  [[2 3 1]\n",
            "   [4 4 1]\n",
            "   [2 2 3]]\n",
            "\n",
            "  [[3 1 2]\n",
            "   [4 1 2]\n",
            "   [2 3 0]]]\n",
            "\n",
            "\n",
            " [[[0 0 2]\n",
            "   [3 2 4]\n",
            "   [4 0 1]]\n",
            "\n",
            "  [[0 2 2]\n",
            "   [2 4 1]\n",
            "   [0 1 1]]\n",
            "\n",
            "  [[2 2 3]\n",
            "   [4 1 0]\n",
            "   [1 1 0]]\n",
            "\n",
            "  [[2 3 3]\n",
            "   [1 0 1]\n",
            "   [1 0 2]]\n",
            "\n",
            "  [[3 3 4]\n",
            "   [0 1 2]\n",
            "   [0 2 0]]\n",
            "\n",
            "  [[3 4 4]\n",
            "   [1 2 2]\n",
            "   [2 0 3]]\n",
            "\n",
            "  [[4 4 1]\n",
            "   [2 2 3]\n",
            "   [0 3 2]]\n",
            "\n",
            "  [[4 1 2]\n",
            "   [2 3 0]\n",
            "   [3 2 1]]]]\n"
          ]
        }
      ]
    },
    {
      "cell_type": "code",
      "source": [
        "class Symetric(np.ndarray):                                  #85\n",
        "    def __setitem__(self, index, value):\n",
        "        i,j = index\n",
        "        super(Symetric, self).__setitem__((i,j), value)\n",
        "        super(Symetric, self).__setitem__((j,i), value)\n",
        "def symetric(Z):\n",
        "    return np.asarray(Z + Z.T - np.diag(Z.diagonal())).view(Symetric)\n",
        "S = symetric(np.random.randint(0,10,(5,5)))\n",
        "S[2,3] = 42\n",
        "print(S)"
      ],
      "metadata": {
        "colab": {
          "base_uri": "https://localhost:8080/"
        },
        "id": "C8kiGrU9GXDc",
        "outputId": "a071bfd9-fa95-478c-96fb-63c602764e04"
      },
      "execution_count": null,
      "outputs": [
        {
          "output_type": "stream",
          "name": "stdout",
          "text": [
            "[[ 0  5  4 14  8]\n",
            " [ 5  7  9 14 10]\n",
            " [ 4  9  3 42 13]\n",
            " [14 14 42  2  6]\n",
            " [ 8 10 13  6  9]]\n"
          ]
        }
      ]
    },
    {
      "cell_type": "code",
      "source": [
        "p, n = 10, 20                           #86\n",
        "a = np.ones((p,n,n))\n",
        "b = np.ones((p,n,1))\n",
        "shape = np.tensordot(a, b, axes=[[0, 2], [0, 1]])\n",
        "print(shape)"
      ],
      "metadata": {
        "colab": {
          "base_uri": "https://localhost:8080/"
        },
        "id": "Bd8_yg7nGh7R",
        "outputId": "bfddf637-4012-45d0-c52d-6fdc7dc93fd9"
      },
      "execution_count": null,
      "outputs": [
        {
          "output_type": "stream",
          "name": "stdout",
          "text": [
            "[[200.]\n",
            " [200.]\n",
            " [200.]\n",
            " [200.]\n",
            " [200.]\n",
            " [200.]\n",
            " [200.]\n",
            " [200.]\n",
            " [200.]\n",
            " [200.]\n",
            " [200.]\n",
            " [200.]\n",
            " [200.]\n",
            " [200.]\n",
            " [200.]\n",
            " [200.]\n",
            " [200.]\n",
            " [200.]\n",
            " [200.]\n",
            " [200.]]\n"
          ]
        }
      ]
    },
    {
      "cell_type": "code",
      "source": [
        "Z = np.ones((16,16))                               #87\n",
        "k = 4\n",
        "S = np.add.reduceat(np.add.reduceat(Z, np.arange(0, Z.shape[0], k), axis=0),\n",
        "                                       np.arange(0, Z.shape[1], k), axis=1)\n",
        "print ('input array')\n",
        "print (Z)\n",
        "print ('block sum')\n",
        "print (S)"
      ],
      "metadata": {
        "id": "n3Rcgu5uHNST",
        "colab": {
          "base_uri": "https://localhost:8080/"
        },
        "outputId": "e8d99df2-ca2a-49e6-a8d1-c798689e84e4"
      },
      "execution_count": 5,
      "outputs": [
        {
          "output_type": "stream",
          "name": "stdout",
          "text": [
            "input array\n",
            "[[1. 1. 1. 1. 1. 1. 1. 1. 1. 1. 1. 1. 1. 1. 1. 1.]\n",
            " [1. 1. 1. 1. 1. 1. 1. 1. 1. 1. 1. 1. 1. 1. 1. 1.]\n",
            " [1. 1. 1. 1. 1. 1. 1. 1. 1. 1. 1. 1. 1. 1. 1. 1.]\n",
            " [1. 1. 1. 1. 1. 1. 1. 1. 1. 1. 1. 1. 1. 1. 1. 1.]\n",
            " [1. 1. 1. 1. 1. 1. 1. 1. 1. 1. 1. 1. 1. 1. 1. 1.]\n",
            " [1. 1. 1. 1. 1. 1. 1. 1. 1. 1. 1. 1. 1. 1. 1. 1.]\n",
            " [1. 1. 1. 1. 1. 1. 1. 1. 1. 1. 1. 1. 1. 1. 1. 1.]\n",
            " [1. 1. 1. 1. 1. 1. 1. 1. 1. 1. 1. 1. 1. 1. 1. 1.]\n",
            " [1. 1. 1. 1. 1. 1. 1. 1. 1. 1. 1. 1. 1. 1. 1. 1.]\n",
            " [1. 1. 1. 1. 1. 1. 1. 1. 1. 1. 1. 1. 1. 1. 1. 1.]\n",
            " [1. 1. 1. 1. 1. 1. 1. 1. 1. 1. 1. 1. 1. 1. 1. 1.]\n",
            " [1. 1. 1. 1. 1. 1. 1. 1. 1. 1. 1. 1. 1. 1. 1. 1.]\n",
            " [1. 1. 1. 1. 1. 1. 1. 1. 1. 1. 1. 1. 1. 1. 1. 1.]\n",
            " [1. 1. 1. 1. 1. 1. 1. 1. 1. 1. 1. 1. 1. 1. 1. 1.]\n",
            " [1. 1. 1. 1. 1. 1. 1. 1. 1. 1. 1. 1. 1. 1. 1. 1.]\n",
            " [1. 1. 1. 1. 1. 1. 1. 1. 1. 1. 1. 1. 1. 1. 1. 1.]]\n",
            "block sum\n",
            "[[16. 16. 16. 16.]\n",
            " [16. 16. 16. 16.]\n",
            " [16. 16. 16. 16.]\n",
            " [16. 16. 16. 16.]]\n"
          ]
        }
      ]
    },
    {
      "cell_type": "code",
      "source": [
        "def iterate(Z):                                                      #88\n",
        "    # Count neighbours\n",
        "    N = (Z[0:-2,0:-2] + Z[0:-2,1:-1] + Z[0:-2,2:] +\n",
        "         Z[1:-1,0:-2]                + Z[1:-1,2:] +\n",
        "         Z[2:  ,0:-2] + Z[2:  ,1:-1] + Z[2:  ,2:])\n",
        "\n",
        "    # Apply rules\n",
        "    birth = (N==3) & (Z[1:-1,1:-1]==0)\n",
        "    survive = ((N==2) | (N==3)) & (Z[1:-1,1:-1]==1)\n",
        "    Z[...] = 0\n",
        "    Z[1:-1,1:-1][birth | survive] = 1\n",
        "    return Z\n",
        "    Z = np.random.randint(0,2,(50,50))\n",
        "for i in range(100): Z = iterate(Z)\n",
        "print(Z)"
      ],
      "metadata": {
        "colab": {
          "base_uri": "https://localhost:8080/"
        },
        "id": "zyat0vKmU0L7",
        "outputId": "ee6fa915-0b79-4815-d4cb-18d404e68641"
      },
      "execution_count": 7,
      "outputs": [
        {
          "output_type": "stream",
          "name": "stdout",
          "text": [
            "[[0. 0. 0. 0. 0. 0. 0. 0. 0. 0. 0. 0. 0. 0. 0. 0.]\n",
            " [0. 0. 0. 0. 0. 0. 0. 0. 0. 0. 0. 0. 0. 0. 0. 0.]\n",
            " [0. 0. 0. 0. 0. 0. 0. 0. 0. 0. 0. 0. 0. 0. 0. 0.]\n",
            " [0. 0. 0. 0. 0. 0. 0. 0. 0. 0. 0. 0. 0. 0. 0. 0.]\n",
            " [0. 0. 0. 0. 0. 0. 0. 0. 0. 0. 0. 0. 0. 0. 0. 0.]\n",
            " [0. 0. 0. 0. 0. 0. 0. 0. 0. 0. 0. 0. 0. 0. 0. 0.]\n",
            " [0. 0. 0. 0. 0. 0. 0. 0. 0. 0. 0. 0. 0. 0. 0. 0.]\n",
            " [0. 0. 0. 0. 0. 0. 0. 0. 0. 0. 0. 0. 0. 0. 0. 0.]\n",
            " [0. 0. 0. 0. 0. 0. 0. 0. 0. 0. 0. 0. 0. 0. 0. 0.]\n",
            " [0. 0. 0. 0. 0. 0. 0. 0. 0. 0. 0. 0. 0. 0. 0. 0.]\n",
            " [0. 0. 0. 0. 0. 0. 0. 0. 0. 0. 0. 0. 0. 0. 0. 0.]\n",
            " [0. 0. 0. 0. 0. 0. 0. 0. 0. 0. 0. 0. 0. 0. 0. 0.]\n",
            " [0. 0. 0. 0. 0. 0. 0. 0. 0. 0. 0. 0. 0. 0. 0. 0.]\n",
            " [0. 0. 0. 0. 0. 0. 0. 0. 0. 0. 0. 0. 0. 0. 0. 0.]\n",
            " [0. 0. 0. 0. 0. 0. 0. 0. 0. 0. 0. 0. 0. 0. 0. 0.]\n",
            " [0. 0. 0. 0. 0. 0. 0. 0. 0. 0. 0. 0. 0. 0. 0. 0.]]\n"
          ]
        }
      ]
    },
    {
      "cell_type": "code",
      "source": [
        "Z = np.arange(10000)                                 #89\n",
        "np.random.shuffle(Z)\n",
        "n = 5\n",
        "print (Z[np.argsort(Z)[-n:]])\n",
        "print (Z[np.argpartition(-Z,n)[:n]])"
      ],
      "metadata": {
        "colab": {
          "base_uri": "https://localhost:8080/"
        },
        "id": "_5olYdrGVItC",
        "outputId": "31676bd1-b823-4d70-bcf1-310c3ef573d2"
      },
      "execution_count": 11,
      "outputs": [
        {
          "output_type": "stream",
          "name": "stdout",
          "text": [
            "[9995 9996 9997 9998 9999]\n",
            "[9995 9999 9996 9997 9998]\n"
          ]
        }
      ]
    },
    {
      "cell_type": "code",
      "source": [
        "def cartesian(arrays):                                         #90\n",
        "    arrays = [np.asarray(a) for a in arrays]\n",
        "    shape = (len(x) for x in arrays)\n",
        "\n",
        "    ix = np.indices(shape, dtype=int)\n",
        "    ix = ix.reshape(len(arrays), -1).T\n",
        "\n",
        "    for n, arr in enumerate(arrays):\n",
        "        ix[:, n] = arrays[n][ix[:, n]]\n",
        "\n",
        "    return ix\n",
        "\n",
        "print (cartesian(([1, 2, 3], [4, 5], [6, 7])))"
      ],
      "metadata": {
        "colab": {
          "base_uri": "https://localhost:8080/"
        },
        "id": "qLPowSflVTBW",
        "outputId": "00033740-ad33-418f-d131-2c4507dd8bda"
      },
      "execution_count": 12,
      "outputs": [
        {
          "output_type": "stream",
          "name": "stdout",
          "text": [
            "[[1 4 6]\n",
            " [1 4 7]\n",
            " [1 5 6]\n",
            " [1 5 7]\n",
            " [2 4 6]\n",
            " [2 4 7]\n",
            " [2 5 6]\n",
            " [2 5 7]\n",
            " [3 4 6]\n",
            " [3 4 7]\n",
            " [3 5 6]\n",
            " [3 5 7]]\n"
          ]
        }
      ]
    },
    {
      "cell_type": "code",
      "source": [
        "Z = np.array([(\"Hello\", 2.5, 4),                            #91\n",
        "              (\"World\", 3.6, 3)])\n",
        "R = np.core.records.fromarrays(Z.T,\n",
        "                               names='col1, col2, col3',\n",
        "                               formats = 'S8, f8, i8')\n",
        "print(R)"
      ],
      "metadata": {
        "colab": {
          "base_uri": "https://localhost:8080/"
        },
        "id": "XpYtDkrDaeRO",
        "outputId": "b40c3c40-f0d6-494a-9a12-97f60b7768d9"
      },
      "execution_count": 14,
      "outputs": [
        {
          "output_type": "stream",
          "name": "stdout",
          "text": [
            "[(b'Hello', 2.5, 4) (b'World', 3.6, 3)]\n"
          ]
        }
      ]
    },
    {
      "cell_type": "code",
      "source": [
        "x = np.random.rand(int(5e7))                             #92\n",
        "\n",
        "%timeit np.power(x,3)\n",
        "%timeit x*x*x\n",
        "%timeit np.einsum('i,i,i->i',x,x,x)\n",
        "print(x)"
      ],
      "metadata": {
        "colab": {
          "base_uri": "https://localhost:8080/"
        },
        "id": "hJFcDMy1ayo5",
        "outputId": "d58c20e2-c37e-4a43-94e3-bcd7aeae24a9"
      },
      "execution_count": 18,
      "outputs": [
        {
          "output_type": "stream",
          "name": "stdout",
          "text": [
            "2.91 s ± 279 ms per loop (mean ± std. dev. of 7 runs, 1 loop each)\n",
            "86.8 ms ± 1.46 ms per loop (mean ± std. dev. of 7 runs, 10 loops each)\n",
            "78.3 ms ± 1.38 ms per loop (mean ± std. dev. of 7 runs, 10 loops each)\n",
            "[0.60000884 0.30054314 0.88820751 ... 0.9669234  0.80960656 0.32019505]\n"
          ]
        }
      ]
    },
    {
      "cell_type": "code",
      "source": [
        "A = np.random.randint(0,5,(8,3))                                   #93\n",
        "B = np.random.randint(0,5,(2,2))\n",
        "\n",
        "C = (A[..., np.newaxis, np.newaxis] == B)\n",
        "rows = np.where(C.any((3,1)).all(1))[0]\n",
        "print(rows)"
      ],
      "metadata": {
        "colab": {
          "base_uri": "https://localhost:8080/"
        },
        "id": "DAx8bh5PbTP1",
        "outputId": "d1cad369-ade3-46e2-e0ae-054e6891fbb2"
      },
      "execution_count": 19,
      "outputs": [
        {
          "output_type": "stream",
          "name": "stdout",
          "text": [
            "[1 5 7]\n"
          ]
        }
      ]
    },
    {
      "cell_type": "code",
      "source": [
        "Z = np.random.randint(0,5,(10,3))                                 #94\n",
        "E = np.logical_and.reduce(Z[:,1:] == Z[:,:-1], axis=1)\n",
        "U = Z[~E]\n",
        "print(Z)\n",
        "print(U)"
      ],
      "metadata": {
        "colab": {
          "base_uri": "https://localhost:8080/"
        },
        "id": "SzwhDzB1blIr",
        "outputId": "efa2f2a8-0e38-486e-f068-4ad75f2c7b49"
      },
      "execution_count": 22,
      "outputs": [
        {
          "output_type": "stream",
          "name": "stdout",
          "text": [
            "[[2 1 0]\n",
            " [4 3 3]\n",
            " [0 0 1]\n",
            " [0 0 1]\n",
            " [2 2 4]\n",
            " [3 4 1]\n",
            " [4 4 3]\n",
            " [3 4 0]\n",
            " [3 4 1]\n",
            " [4 4 2]]\n",
            "[[2 1 0]\n",
            " [4 3 3]\n",
            " [0 0 1]\n",
            " [0 0 1]\n",
            " [2 2 4]\n",
            " [3 4 1]\n",
            " [4 4 3]\n",
            " [3 4 0]\n",
            " [3 4 1]\n",
            " [4 4 2]]\n"
          ]
        }
      ]
    },
    {
      "cell_type": "code",
      "source": [
        "I = np.array([0, 1, 2, 3, 15, 16, 32, 64, 128], dtype=np.uint8)                       #95\n",
        "print(np.unpackbits(I[:, np.newaxis], axis=1))\n"
      ],
      "metadata": {
        "colab": {
          "base_uri": "https://localhost:8080/"
        },
        "id": "yklttxAvb509",
        "outputId": "7640c015-a4fa-440d-d576-c1317907547c"
      },
      "execution_count": 24,
      "outputs": [
        {
          "output_type": "stream",
          "name": "stdout",
          "text": [
            "[[0 0 0 0 0 0 0 0]\n",
            " [0 0 0 0 0 0 0 1]\n",
            " [0 0 0 0 0 0 1 0]\n",
            " [0 0 0 0 0 0 1 1]\n",
            " [0 0 0 0 1 1 1 1]\n",
            " [0 0 0 1 0 0 0 0]\n",
            " [0 0 1 0 0 0 0 0]\n",
            " [0 1 0 0 0 0 0 0]\n",
            " [1 0 0 0 0 0 0 0]]\n"
          ]
        }
      ]
    },
    {
      "cell_type": "code",
      "source": [
        "Z = np.random.randint(0,2,(6,3))                                            #96\n",
        "T = np.ascontiguousarray(Z).view(np.dtype((np.void, Z.dtype.itemsize * Z.shape[1])))\n",
        "_, idx = np.unique(T, return_index=True)\n",
        "uZ = Z[idx]\n",
        "print(uZ)"
      ],
      "metadata": {
        "colab": {
          "base_uri": "https://localhost:8080/"
        },
        "id": "ylfuxpohbyhh",
        "outputId": "c4507259-ef63-4895-e14c-f22d43a2c3bb"
      },
      "execution_count": 25,
      "outputs": [
        {
          "output_type": "stream",
          "name": "stdout",
          "text": [
            "[[0 0 0]\n",
            " [0 0 1]\n",
            " [1 1 0]]\n"
          ]
        }
      ]
    },
    {
      "cell_type": "code",
      "source": [
        "A = np.random.uniform(0,1,10)                                            #97\n",
        "B = np.random.uniform(0,1,10)\n",
        "print(A)\n",
        "print(B)\n",
        "np.einsum('i->', A)       # np.sum(A)\n",
        "np.einsum('i,i->i', A, B)  # A * B\n",
        "np.einsum('i,i', A, B)    # np.inner(A, B)\n",
        "np.einsum('i,j->ij', A, B)  # np.outer(A, B)"
      ],
      "metadata": {
        "colab": {
          "base_uri": "https://localhost:8080/"
        },
        "id": "JrWo8qdGcQ1u",
        "outputId": "b69d8c5b-7d62-4404-aabc-6e555749b863"
      },
      "execution_count": 36,
      "outputs": [
        {
          "output_type": "stream",
          "name": "stdout",
          "text": [
            "[0.14496738 0.45728159 0.29103103 0.52240922 0.04151327 0.30465558\n",
            " 0.92104362 0.72035512 0.98593589 0.46814772]\n",
            "[0.27600658 0.91257833 0.31034598 0.11874379 0.33171158 0.97433424\n",
            " 0.98275008 0.6543126  0.68137798 0.74713702]\n"
          ]
        },
        {
          "output_type": "execute_result",
          "data": {
            "text/plain": [
              "array([[0.04001195, 0.13229409, 0.04499004, 0.01721398, 0.04808736,\n",
              "        0.14124668, 0.14246671, 0.09485398, 0.09877758, 0.1083105 ],\n",
              "       [0.12621273, 0.41730527, 0.1419155 , 0.05429935, 0.1516856 ,\n",
              "        0.44554511, 0.44939352, 0.29920511, 0.31158161, 0.34165201],\n",
              "       [0.08032648, 0.26558861, 0.09032031, 0.03455813, 0.09653836,\n",
              "        0.2835615 , 0.28601077, 0.19042527, 0.19830214, 0.21744006],\n",
              "       [0.14418839, 0.47673934, 0.1621276 , 0.06203285, 0.17328919,\n",
              "        0.50900119, 0.51339771, 0.34181894, 0.35595814, 0.39031127],\n",
              "       [0.01145794, 0.03788411, 0.01288348, 0.00492944, 0.01377043,\n",
              "        0.0404478 , 0.04079717, 0.02716266, 0.02828623, 0.0310161 ],\n",
              "       [0.08408695, 0.27802208, 0.09454863, 0.03617596, 0.10105778,\n",
              "        0.29683636, 0.29940029, 0.19933998, 0.2075856 , 0.22761946],\n",
              "       [0.2542141 , 0.84052445, 0.28584219, 0.10936821, 0.30552083,\n",
              "        0.89740434, 0.90515569, 0.60265045, 0.62757884, 0.68814579],\n",
              "       [0.19882276, 0.65738047, 0.22355932, 0.0855377 , 0.23895013,\n",
              "        0.70186666, 0.70792905, 0.47133743, 0.49083412, 0.53820398],\n",
              "       [0.2721248 , 0.89974372, 0.30598124, 0.11707376, 0.32704635,\n",
              "        0.96063109, 0.96892857, 0.64511028, 0.67179501, 0.7366292 ],\n",
              "       [0.12921185, 0.42722146, 0.14528776, 0.05558963, 0.15529002,\n",
              "        0.45613235, 0.46007221, 0.30631495, 0.31898555, 0.34977049]])"
            ]
          },
          "metadata": {},
          "execution_count": 36
        }
      ]
    },
    {
      "cell_type": "code",
      "source": [
        "phi = np.arange(0, 10*np.pi, 0.1)                                             #98\n",
        "a = 1\n",
        "x = a*phi*np.cos(phi)\n",
        "y = a*phi*np.sin(phi)\n",
        "dr = (np.diff(x)**2 + np.diff(y)**2)**.5 # segment lengths\n",
        "r = np.zeros_like(x)\n",
        "r[1:] = np.cumsum(dr)                # integrate path\n",
        "r_int = np.linspace(0, r.max(), 200) # regular spaced path\n",
        "x_int = np.interp(r_int, r, x)       # integrate path\n",
        "y_int = np.interp(r_int, r, y)\n",
        "print(x_int)\n",
        "print(y_int)"
      ],
      "metadata": {
        "colab": {
          "base_uri": "https://localhost:8080/"
        },
        "id": "UWjgxq7ZdQZQ",
        "outputId": "dc0ae843-f47c-40b5-d182-604b3ac62b43"
      },
      "execution_count": 41,
      "outputs": [
        {
          "output_type": "stream",
          "name": "stdout",
          "text": [
            "[ 0.00000000e+00 -3.73131229e-01 -2.59817608e+00 -3.26212050e+00\n",
            " -2.18442687e+00 -2.98929946e-02  2.42923642e+00  4.54913599e+00\n",
            "  5.92318348e+00  6.35117933e+00  5.82369277e+00  4.46259540e+00\n",
            "  2.47320794e+00  1.09577220e-01 -2.36575300e+00 -4.71261671e+00\n",
            " -6.72701769e+00 -8.25541575e+00 -9.18486120e+00 -9.46381505e+00\n",
            " -9.11085788e+00 -8.12875279e+00 -6.63306046e+00 -4.69271059e+00\n",
            " -2.44736165e+00 -2.05444585e-02  2.46101146e+00  4.86841760e+00\n",
            "  7.08937968e+00  9.02539126e+00  1.05948609e+01  1.17357250e+01\n",
            "  1.24068974e+01  1.25885805e+01  1.22815267e+01  1.15053927e+01\n",
            "  1.02963689e+01  8.70429550e+00  6.78948686e+00  4.61716636e+00\n",
            "  2.25853448e+00 -1.98731680e-01 -2.68040566e+00 -5.11543300e+00\n",
            " -7.41973991e+00 -9.53891040e+00 -1.14237629e+01 -1.29919305e+01\n",
            " -1.42355069e+01 -1.51243232e+01 -1.56061571e+01 -1.57219415e+01\n",
            " -1.54217066e+01 -1.47579136e+01 -1.37255236e+01 -1.23634834e+01\n",
            " -1.07024632e+01 -8.78327367e+00 -6.65029558e+00 -4.35514246e+00\n",
            " -1.94290275e+00  5.28038914e-01  3.00985904e+00  5.45450275e+00\n",
            "  7.80093594e+00  1.00179639e+01  1.20595602e+01  1.38732623e+01\n",
            "  1.54564938e+01  1.67497894e+01  1.77435802e+01  1.84439878e+01\n",
            "  1.87990820e+01  1.88271003e+01  1.85472755e+01  1.79378850e+01\n",
            "  1.70105456e+01  1.58085777e+01  1.43501808e+01  1.26222364e+01\n",
            "  1.06905445e+01  8.58498641e+00  6.33562529e+00  3.96179025e+00\n",
            "  1.51802643e+00 -9.61699044e-01 -3.44349301e+00 -5.88951759e+00\n",
            " -8.26006582e+00 -1.05270865e+01 -1.26610269e+01 -1.46343020e+01\n",
            " -1.64206033e+01 -1.79708499e+01 -1.92894561e+01 -2.03605967e+01\n",
            " -2.11716587e+01 -2.17133504e+01 -2.19797677e+01 -2.19626531e+01\n",
            " -2.16476737e+01 -2.10622561e+01 -2.02145809e+01 -1.91158467e+01\n",
            " -1.77800930e+01 -1.62239930e+01 -1.44666197e+01 -1.25291882e+01\n",
            " -1.04347777e+01 -8.20773276e+00 -5.86978851e+00 -3.45563299e+00\n",
            " -9.92556869e-01  1.49191203e+00  3.97031733e+00  6.41557503e+00\n",
            "  8.80126359e+00  1.11019001e+01  1.32931995e+01  1.53523150e+01\n",
            "  1.72580567e+01  1.89910866e+01  2.05340895e+01  2.18719167e+01\n",
            "  2.29917039e+01  2.38829603e+01  2.45376309e+01  2.49501314e+01\n",
            "  2.51173551e+01  2.50386548e+01  2.47157984e+01  2.41529019e+01\n",
            "  2.33563391e+01  2.23346314e+01  2.10983193e+01  1.96598169e+01\n",
            "  1.80332532e+01  1.62343003e+01  1.42799934e+01  1.21885425e+01\n",
            "  9.97914013e+00  7.67176574e+00  5.28699023e+00  2.84441658e+00\n",
            "  3.68190102e-01 -2.11846865e+00 -4.59426061e+00 -7.03829202e+00\n",
            " -9.43024209e+00 -1.17505186e+01 -1.39803999e+01 -1.61021634e+01\n",
            " -1.80991985e+01 -1.99561058e+01 -2.16587804e+01 -2.31850397e+01\n",
            " -2.45166960e+01 -2.56568097e+01 -2.65976904e+01 -2.73332424e+01\n",
            " -2.78589555e+01 -2.81718833e+01 -2.82706110e+01 -2.81552119e+01\n",
            " -2.78066635e+01 -2.72341677e+01 -2.64578863e+01 -2.54844118e+01\n",
            " -2.43214986e+01 -2.29779690e+01 -2.14636172e+01 -1.97837046e+01\n",
            " -1.79341987e+01 -1.59545785e+01 -1.38585628e+01 -1.16602783e+01\n",
            " -9.37416511e+00 -7.01488958e+00 -4.59184632e+00 -2.12995331e+00\n",
            "  3.50691071e-01  2.83498918e+00  5.30813450e+00  7.75565814e+00\n",
            "  1.01522531e+01  1.24813227e+01  1.47337756e+01  1.68973642e+01\n",
            "  1.89604991e+01  2.09071945e+01  2.26943693e+01  2.43420179e+01\n",
            "  2.58422998e+01  2.71881423e+01  2.83731992e+01  2.93376609e+01\n",
            "  3.01222558e+01  3.07280750e+01  3.11531219e+01  3.13960177e+01]\n",
            "[ 0.00000000e+00  1.74026724e+00  9.81816584e-01 -1.34251287e+00\n",
            " -3.53191891e+00 -4.70449474e+00 -4.59573427e+00 -3.33831870e+00\n",
            " -1.28956083e+00  1.14234685e+00  3.55645601e+00  5.62188218e+00\n",
            "  7.09389488e+00  7.82951803e+00  7.78700678e+00  6.99685666e+00\n",
            "  5.55535240e+00  3.60417006e+00  1.30506373e+00 -1.15819722e+00\n",
            " -3.61328132e+00 -5.89130465e+00 -7.87065053e+00 -9.41689057e+00\n",
            " -1.04714836e+01 -1.09903787e+01 -1.09354306e+01 -1.03330912e+01\n",
            " -9.22690166e+00 -7.67489830e+00 -5.75257980e+00 -3.54832201e+00\n",
            " -1.15854355e+00  1.31709956e+00  3.78023622e+00  6.13780326e+00\n",
            "  8.30540149e+00  1.02098724e+01  1.17910419e+01  1.29972950e+01\n",
            "  1.37774249e+01  1.41319792e+01  1.40585758e+01  1.35636816e+01\n",
            "  1.26345244e+01  1.13409083e+01  9.72216360e+00  7.79464305e+00\n",
            "  5.64544223e+00  3.32503222e+00  8.88107041e-01 -1.59329248e+00\n",
            " -4.05992507e+00 -6.45313746e+00 -8.71327144e+00 -1.07900854e+01\n",
            " -1.26380653e+01 -1.42147006e+01 -1.54892299e+01 -1.64390858e+01\n",
            " -1.70351433e+01 -1.72938948e+01 -1.71685631e+01 -1.67219979e+01\n",
            " -1.59044166e+01 -1.47824153e+01 -1.33665280e+01 -1.16678134e+01\n",
            " -9.75246391e+00 -7.63091465e+00 -5.35345831e+00 -2.96905840e+00\n",
            " -5.09631905e-01  1.97507060e+00  4.44430515e+00  6.85344809e+00\n",
            "  9.15903461e+00  1.13337844e+01  1.33467125e+01  1.51336120e+01\n",
            "  1.66966787e+01  1.80162922e+01  1.90746708e+01  1.98127969e+01\n",
            "  2.02634499e+01  2.04221761e+01  2.02877631e+01  1.98449702e+01\n",
            "  1.90974465e+01  1.80799531e+01  1.68069397e+01  1.52959771e+01\n",
            "  1.35665801e+01  1.16227312e+01  9.51601869e+00  7.27388893e+00\n",
            "  4.92519240e+00  2.49981337e+00  2.82932820e-02 -2.45817963e+00\n",
            " -4.92460367e+00 -7.34030894e+00 -9.67635928e+00 -1.19050601e+01\n",
            " -1.40002645e+01 -1.59376556e+01 -1.76950019e+01 -1.92523833e+01\n",
            " -2.05923861e+01 -2.16995543e+01 -2.25478860e+01 -2.31432552e+01\n",
            " -2.34800725e+01 -2.35556687e+01 -2.33702741e+01 -2.29269662e+01\n",
            " -2.22315865e+01 -2.12926288e+01 -2.01211000e+01 -1.87303570e+01\n",
            " -1.71359212e+01 -1.53552740e+01 -1.34076356e+01 -1.13137308e+01\n",
            " -9.09554383e+00 -6.77606668e+00 -4.37904252e+00 -1.92870828e+00\n",
            "  5.50461201e-01  3.03400451e+00  5.49771780e+00  7.91788934e+00\n",
            "  1.02715222e+01  1.25365431e+01  1.46919953e+01  1.67182148e+01\n",
            "  1.85969872e+01  2.03116866e+01  2.18473923e+01  2.31909872e+01\n",
            "  2.43312337e+01  2.52588296e+01  2.59664444e+01  2.64391214e+01\n",
            "  2.66748505e+01  2.66796333e+01  2.64545680e+01  2.60026765e+01\n",
            "  2.53288265e+01  2.44396400e+01  2.33433894e+01  2.20498837e+01\n",
            "  2.05703459e+01  1.89172843e+01  1.71043584e+01  1.51396391e+01\n",
            "  1.30387952e+01  1.08294252e+01  8.52903617e+00  6.15551380e+00\n",
            "  3.72697869e+00  1.26164946e+00 -1.22228693e+00 -3.70679651e+00\n",
            " -6.17014862e+00 -8.59028675e+00 -1.09516293e+01 -1.32379536e+01\n",
            " -1.54338179e+01 -1.75246263e+01 -1.94966815e+01 -2.13317519e+01\n",
            " -2.29952001e+01 -2.44987532e+01 -2.58335652e+01 -2.69919481e+01\n",
            " -2.79673583e+01 -2.87543764e+01 -2.93186910e+01 -2.96679958e+01\n",
            " -2.98181354e+01 -2.97693731e+01 -2.95229769e+01 -2.90811595e+01\n",
            " -2.84133854e+01 -2.75430665e+01 -2.64934034e+01 -2.52713717e+01\n",
            " -2.38845608e+01 -2.23353782e+01 -2.06051319e+01 -1.87442619e+01\n",
            " -1.67635423e+01 -1.46739620e+01 -1.24866789e+01 -1.01933401e+01\n",
            " -7.83474328e+00 -5.42495146e+00 -2.97607515e+00 -5.00072086e-01]\n"
          ]
        }
      ]
    },
    {
      "cell_type": "code",
      "source": [
        "X = np.asarray([[1.0, 0.0, 3.0, 8.0],                                             #99\n",
        "[2.0, 0.0, 1.0, 1.0],\n",
        "[1.5, 2.5, 1.0, 0.0]])\n",
        "n = 4\n",
        "M = np.logical_and.reduce(np.mod(X, 1) == 0, axis=-1)\n",
        "M &= (X.sum(axis=-1) == n)\n",
        "print(X[M])"
      ],
      "metadata": {
        "colab": {
          "base_uri": "https://localhost:8080/"
        },
        "id": "Jp2ASXX1eA3r",
        "outputId": "d24d386a-5187-4804-8076-043e9cb767be"
      },
      "execution_count": 42,
      "outputs": [
        {
          "output_type": "stream",
          "name": "stdout",
          "text": [
            "[[2. 0. 1. 1.]]\n"
          ]
        }
      ]
    },
    {
      "cell_type": "code",
      "source": [
        "X = np.random.randn(100) # random 1D array                                          #100\n",
        "N = 1000 # number of bootstrap samples\n",
        "idx = np.random.randint(0, X.size, (N, X.size))\n",
        "means = X[idx].mean(axis=1)\n",
        "confint = np.percentile(means, [2.5, 97.5])\n",
        "print(confint)"
      ],
      "metadata": {
        "colab": {
          "base_uri": "https://localhost:8080/"
        },
        "id": "t6M30LWaeTaq",
        "outputId": "87cb7f79-e1b7-404b-b108-4c7435aaf284"
      },
      "execution_count": 43,
      "outputs": [
        {
          "output_type": "stream",
          "name": "stdout",
          "text": [
            "[-0.34739137  0.00144956]\n"
          ]
        }
      ]
    }
  ]
}